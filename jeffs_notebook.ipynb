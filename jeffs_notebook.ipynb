{
 "cells": [
  {
   "cell_type": "code",
   "execution_count": 4,
   "metadata": {},
   "outputs": [],
   "source": [
    "import pandas as pd\n",
    "from requests import get\n",
    "from bs4 import BeautifulSoup\n",
    "import os\n",
    "import json\n",
    "from os import path\n",
    "import re\n",
    "import acquire\n",
    "import env\n",
    "\n",
    "import unicodedata\n",
    "import json\n",
    "\n",
    "import nltk\n",
    "from nltk.tokenize.toktok import ToktokTokenizer\n",
    "from nltk.corpus import stopwords\n",
    "\n",
    "import numpy as np\n",
    "\n",
    "import matplotlib.pyplot as plt\n",
    "import seaborn as sns\n",
    "\n",
    "# matplotlib default plotting styles\n",
    "plt.rc(\"patch\", edgecolor=\"black\", force_edgecolor=True)\n",
    "plt.rc(\"axes\", grid=True)\n",
    "plt.rc(\"grid\", linestyle=\":\", linewidth=0.8, alpha=0.7)\n",
    "plt.rc(\"axes.spines\", right=False, top=False)\n",
    "plt.rc(\"figure\", figsize=(11, 8))\n",
    "plt.rc(\"font\", size=12.0)\n",
    "plt.rc(\"hist\", bins=25)\n",
    "\n",
    "import warnings\n",
    "warnings.filterwarnings('ignore')"
   ]
  },
  {
   "cell_type": "code",
   "execution_count": null,
   "metadata": {},
   "outputs": [],
   "source": [
    "# def get_links():\n",
    "#     for url in urls:\n",
    "        \n",
    "#         headers = {'User-Agent': 'Codeup Data Science Student'}\n",
    "#         response = get(url, headers=headers)\n",
    "#         soup = BeautifulSoup(response.content, 'html.parser')\n",
    "    \n",
    "#     urls = []\n",
    "    \n",
    "#     for h1 in soup.find_all('h1'):\n",
    "#         urls.append((re.sub(r'\\s', '',h1.text)))\n",
    "#     urls.pop(0)\n",
    "#     return urls"
   ]
  },
  {
   "cell_type": "code",
   "execution_count": 8,
   "metadata": {},
   "outputs": [],
   "source": [
    "def create_urls(string):\n",
    "    urls = []\n",
    "    for item in string:\n",
    "        base_url = 'https://github.com/{}'.format(item)\n",
    "        urls.append(base_url)\n",
    "    return urls"
   ]
  },
  {
   "cell_type": "code",
   "execution_count": 9,
   "metadata": {},
   "outputs": [],
   "source": [
    "repo_url_end = ['AIDungeon/AIDungeon',\n",
    "             'rclone/rclone',\n",
    "             'marblexu/PythonPlantsVsZombies',\n",
    "             'redox-os/orbtk',\n",
    "             'sailay1996/UAC_Bypass_In_The_Wild',\n",
    "             'ruanyf/weekly',\n",
    "             'alirezadir/Production-Level-Deep-Learning',\n",
    "             'sdmg15/Best-websites-a-programmer-should-visit',\n",
    "             'practicalAI/practicalAI',\n",
    "             'HuaweiJoke/Huawei-Joke',\n",
    "             'trekhleb/javascript-algorithms',\n",
    "             '521xueweihan/HelloGitHub',\n",
    "             'getify/You-Dont-Know-JS',\n",
    "             'kdn251/interviews',\n",
    "             'eavichay/microfronts',\n",
    "             'goldbergyoni/nodebestpractices',\n",
    "             'wuyouzhuguli/SpringAll',\n",
    "             'halo-dev/halo',\n",
    "             'serverless/serverless',\n",
    "             'prometheus/client_golang',\n",
    "             'VMadalin/kotlin-sample-app',\n",
    "             'davidfowl/FeatherHttp',\n",
    "             '0vercl0k/CVE-2019-11708',\n",
    "             'mrdoob/three.js',\n",
    "             'OfficeDev/office-ui-fabric-react',\n",
    "             'standard/standard',\n",
    "             'eslint/eslint',\n",
    "             'jshint/jshint',\n",
    "             'clutchski/coffeelint',\n",
    "             'csscomb/csscomb.js',\n",
    "             'sds/scss-lint',\n",
    "             'htmlhint/HTMLHint',\n",
    "             'validator/validator',\n",
    "             'CSSLint/csslint',\n",
    "             'PyCQA/pycodestyle',\n",
    "             'PyCQA/flake8',\n",
    "             'psf/black',\n",
    "             'checkstyle/checkstyle',\n",
    "             'rubocop-hq/rubocop',\n",
    "             'oclint/oclint',\n",
    "             'golang/lint',\n",
    "             'ndmitchell/hlint',\n",
    "             'coala/coala',\n",
    "             'pre-commit/pre-commit',\n",
    "             'innogames/igcommit',\n",
    "             'fivethirtyeight/data',\n",
    "             'datadesk/notebooks',\n",
    "             'nytimes/objective-c-style-guide',\n",
    "             'newsapps/beeswithmachineguns',\n",
    "             'voxmedia/meme',\n",
    "             'propublica/guides',\n",
    "             'censusreporter/censusreporter',\n",
    "             'nprapps/app-template',\n",
    "             'TimeMagazineLabs/babynames',\n",
    "             'guardian/frontend',\n",
    "             'dukechronicle/chronline',\n",
    "             'BloombergMedia/whatiscode',\n",
    "             'times/cardkit',\n",
    "             'mkiser/WTFJHT',\n",
    "             'twbs/bootstrap',\n",
    "             'daneden/animate.css',\n",
    "             'nathansmith/960-Grid-System',\n",
    "             'necolas/normalize.css',\n",
    "             'ionic-team/ionicons',\n",
    "             'designmodo/Flat-UI',\n",
    "             'h5bp/html5-boilerplate',\n",
    "             'foundation/foundation-sites',\n",
    "             'Modernizr/Modernizr',\n",
    "             'twbs/ratchet',\n",
    "             'IanLunn/Hover',\n",
    "             'connors/photon',\n",
    "             'basscss/basscss',\n",
    "             'atlemo/SubtlePatterns',\n",
    "             'mrmrs/colors',\n",
    "             'beetbox/beets',\n",
    "             'scottschiller/SoundManager2',\n",
    "             'CreateJS/SoundJS',\n",
    "             'musescore/MuseScore',\n",
    "             'tomahawk-player/tomahawk',\n",
    "             'cashmusic/platform',\n",
    "             'mopidy/mopidy',\n",
    "             'AudioKit/AudioKit',\n",
    "             'Soundnode/soundnode-app',\n",
    "             'gillesdemey/Cumulus',\n",
    "             'metabrainz/picard',\n",
    "             'overtone/overtone',\n",
    "             'samaaron/sonic-pi',\n",
    "             'puppetlabs/puppet',\n",
    "             'chef/chef',\n",
    "             'ansible/ansible',\n",
    "             'saltstack/salt',\n",
    "             'hashicorp/vagrant',\n",
    "             'openstack/openstack',\n",
    "             'moby/moby',\n",
    "             'capistrano/capistrano',\n",
    "             'statsd/statsd',\n",
    "             'graphite-project/graphite-web',\n",
    "             'elastic/logstash',\n",
    "             'fabric/fabric',\n",
    "             'grafana/grafana',\n",
    "             'StackStorm/st2',\n",
    "             'openshift/origin',\n",
    "             'getsentry/sentry',\n",
    "             'deployphp/deployer',\n",
    "             'kubernetes/kubernetes',\n",
    "             'netdata/netdata',\n",
    "             'cloud66-oss/habitus'\n",
    "             \n",
    "]"
   ]
  },
  {
   "cell_type": "code",
   "execution_count": 11,
   "metadata": {
    "scrolled": true
   },
   "outputs": [],
   "source": [
    "repo_list = create_urls(string=repo_url_end)"
   ]
  },
  {
   "cell_type": "code",
   "execution_count": 12,
   "metadata": {},
   "outputs": [
    {
     "data": {
      "text/plain": [
       "['https://github.com/AIDungeon/AIDungeon',\n",
       " 'https://github.com/rclone/rclone',\n",
       " 'https://github.com/marblexu/PythonPlantsVsZombies',\n",
       " 'https://github.com/redox-os/orbtk',\n",
       " 'https://github.com/sailay1996/UAC_Bypass_In_The_Wild',\n",
       " 'https://github.com/ruanyf/weekly',\n",
       " 'https://github.com/alirezadir/Production-Level-Deep-Learning',\n",
       " 'https://github.com/sdmg15/Best-websites-a-programmer-should-visit',\n",
       " 'https://github.com/practicalAI/practicalAI',\n",
       " 'https://github.com/HuaweiJoke/Huawei-Joke',\n",
       " 'https://github.com/trekhleb/javascript-algorithms',\n",
       " 'https://github.com/521xueweihan/HelloGitHub',\n",
       " 'https://github.com/getify/You-Dont-Know-JS',\n",
       " 'https://github.com/kdn251/interviews',\n",
       " 'https://github.com/eavichay/microfronts',\n",
       " 'https://github.com/goldbergyoni/nodebestpractices',\n",
       " 'https://github.com/wuyouzhuguli/SpringAll',\n",
       " 'https://github.com/halo-dev/halo',\n",
       " 'https://github.com/serverless/serverless',\n",
       " 'https://github.com/prometheus/client_golang',\n",
       " 'https://github.com/VMadalin/kotlin-sample-app',\n",
       " 'https://github.com/davidfowl/FeatherHttp',\n",
       " 'https://github.com/0vercl0k/CVE-2019-11708',\n",
       " 'https://github.com/mrdoob/three.js',\n",
       " 'https://github.com/OfficeDev/office-ui-fabric-react',\n",
       " 'https://github.com/standard/standard',\n",
       " 'https://github.com/eslint/eslint',\n",
       " 'https://github.com/jshint/jshint',\n",
       " 'https://github.com/clutchski/coffeelint',\n",
       " 'https://github.com/csscomb/csscomb.js',\n",
       " 'https://github.com/sds/scss-lint',\n",
       " 'https://github.com/htmlhint/HTMLHint',\n",
       " 'https://github.com/validator/validator',\n",
       " 'https://github.com/CSSLint/csslint',\n",
       " 'https://github.com/PyCQA/pycodestyle',\n",
       " 'https://github.com/PyCQA/flake8',\n",
       " 'https://github.com/psf/black',\n",
       " 'https://github.com/checkstyle/checkstyle',\n",
       " 'https://github.com/rubocop-hq/rubocop',\n",
       " 'https://github.com/oclint/oclint',\n",
       " 'https://github.com/golang/lint',\n",
       " 'https://github.com/ndmitchell/hlint',\n",
       " 'https://github.com/coala/coala',\n",
       " 'https://github.com/pre-commit/pre-commit',\n",
       " 'https://github.com/innogames/igcommit',\n",
       " 'https://github.com/fivethirtyeight/data',\n",
       " 'https://github.com/datadesk/notebooks',\n",
       " 'https://github.com/nytimes/objective-c-style-guide',\n",
       " 'https://github.com/newsapps/beeswithmachineguns',\n",
       " 'https://github.com/voxmedia/meme',\n",
       " 'https://github.com/propublica/guides',\n",
       " 'https://github.com/censusreporter/censusreporter',\n",
       " 'https://github.com/nprapps/app-template',\n",
       " 'https://github.com/TimeMagazineLabs/babynames',\n",
       " 'https://github.com/guardian/frontend',\n",
       " 'https://github.com/dukechronicle/chronline',\n",
       " 'https://github.com/BloombergMedia/whatiscode',\n",
       " 'https://github.com/times/cardkit',\n",
       " 'https://github.com/mkiser/WTFJHT',\n",
       " 'https://github.com/twbs/bootstrap',\n",
       " 'https://github.com/daneden/animate.css',\n",
       " 'https://github.com/nathansmith/960-Grid-System',\n",
       " 'https://github.com/necolas/normalize.css',\n",
       " 'https://github.com/ionic-team/ionicons',\n",
       " 'https://github.com/designmodo/Flat-UI',\n",
       " 'https://github.com/h5bp/html5-boilerplate',\n",
       " 'https://github.com/foundation/foundation-sites',\n",
       " 'https://github.com/Modernizr/Modernizr',\n",
       " 'https://github.com/twbs/ratchet',\n",
       " 'https://github.com/IanLunn/Hover',\n",
       " 'https://github.com/connors/photon',\n",
       " 'https://github.com/basscss/basscss',\n",
       " 'https://github.com/atlemo/SubtlePatterns',\n",
       " 'https://github.com/mrmrs/colors',\n",
       " 'https://github.com/beetbox/beets',\n",
       " 'https://github.com/scottschiller/SoundManager2',\n",
       " 'https://github.com/CreateJS/SoundJS',\n",
       " 'https://github.com/musescore/MuseScore',\n",
       " 'https://github.com/tomahawk-player/tomahawk',\n",
       " 'https://github.com/cashmusic/platform',\n",
       " 'https://github.com/mopidy/mopidy',\n",
       " 'https://github.com/AudioKit/AudioKit',\n",
       " 'https://github.com/Soundnode/soundnode-app',\n",
       " 'https://github.com/gillesdemey/Cumulus',\n",
       " 'https://github.com/metabrainz/picard',\n",
       " 'https://github.com/overtone/overtone',\n",
       " 'https://github.com/samaaron/sonic-pi',\n",
       " 'https://github.com/puppetlabs/puppet',\n",
       " 'https://github.com/chef/chef',\n",
       " 'https://github.com/ansible/ansible',\n",
       " 'https://github.com/saltstack/salt',\n",
       " 'https://github.com/hashicorp/vagrant',\n",
       " 'https://github.com/openstack/openstack',\n",
       " 'https://github.com/moby/moby',\n",
       " 'https://github.com/capistrano/capistrano',\n",
       " 'https://github.com/statsd/statsd',\n",
       " 'https://github.com/graphite-project/graphite-web',\n",
       " 'https://github.com/elastic/logstash',\n",
       " 'https://github.com/fabric/fabric',\n",
       " 'https://github.com/grafana/grafana',\n",
       " 'https://github.com/StackStorm/st2',\n",
       " 'https://github.com/openshift/origin',\n",
       " 'https://github.com/getsentry/sentry',\n",
       " 'https://github.com/deployphp/deployer',\n",
       " 'https://github.com/kubernetes/kubernetes',\n",
       " 'https://github.com/netdata/netdata',\n",
       " 'https://github.com/cloud66-oss/habitus']"
      ]
     },
     "execution_count": 12,
     "metadata": {},
     "output_type": "execute_result"
    }
   ],
   "source": [
    "repo_list"
   ]
  },
  {
   "cell_type": "code",
   "execution_count": null,
   "metadata": {},
   "outputs": [],
   "source": [
    "# def get_dataframe():\n",
    "\n",
    "#     output = []\n",
    "    \n",
    "#     urls = create_urls()\n",
    "    \n",
    "#     for url in urls:\n",
    "#         headers = {'User-Agent': 'Codeup Data Science Student'}\n",
    "#         response = get(url, headers=headers)\n",
    "#         soup = BeautifulSoup(response.content, 'html.parser')\n",
    "#         title = urls[url]\n",
    "#         language = soup.find('span', class_= 'lang').text\n",
    "#         body = soup.find('div', class_= 'Box-body').text\n",
    "\n",
    "#         data = {\n",
    "#             'title' : title,\n",
    "#             'language' : language,\n",
    "#             'body' : body\n",
    "#         }\n",
    "\n",
    "#         output.append(data)\n",
    "# #     df = pd.DataFrame(output, header=None)\n",
    "#     return output"
   ]
  },
  {
   "cell_type": "code",
   "execution_count": 27,
   "metadata": {},
   "outputs": [],
   "source": [
    "# def get_links():\n",
    "# #     url = 'https://github.com/trending'\n",
    "# #     url = 'https://github.com/collections/clean-code-linters'\n",
    "# #     url = 'https://github.com/collections/open-journalism'\n",
    "# #     url = 'https://github.com/collections/design-essentials'\n",
    "# #     url = 'https://github.com/collections/music'\n",
    "#     url = 'https://github.com/collections/devops-tools'\n",
    "#     headers = {'User-Agent': 'Codeup Data Science Student'}\n",
    "#     response = get(url, headers=headers)\n",
    "#     soup = BeautifulSoup(response.content, 'html.parser')\n",
    "    \n",
    "#     urls = []\n",
    "    \n",
    "#     for h1 in soup.find_all('h1'):\n",
    "#         urls.append((re.sub(r'\\s', '',h1.text)))\n",
    "#     urls.pop(0)\n",
    "#     return urls"
   ]
  },
  {
   "cell_type": "code",
   "execution_count": 13,
   "metadata": {},
   "outputs": [],
   "source": [
    "x = []\n",
    "for url in repo_url_end:\n",
    "    x.extend(url.split('/'))"
   ]
  },
  {
   "cell_type": "code",
   "execution_count": 14,
   "metadata": {},
   "outputs": [
    {
     "data": {
      "text/plain": [
       "['AIDungeon',\n",
       " 'AIDungeon',\n",
       " 'rclone',\n",
       " 'rclone',\n",
       " 'marblexu',\n",
       " 'PythonPlantsVsZombies',\n",
       " 'redox-os',\n",
       " 'orbtk',\n",
       " 'sailay1996',\n",
       " 'UAC_Bypass_In_The_Wild',\n",
       " 'ruanyf',\n",
       " 'weekly',\n",
       " 'alirezadir',\n",
       " 'Production-Level-Deep-Learning',\n",
       " 'sdmg15',\n",
       " 'Best-websites-a-programmer-should-visit',\n",
       " 'practicalAI',\n",
       " 'practicalAI',\n",
       " 'HuaweiJoke',\n",
       " 'Huawei-Joke',\n",
       " 'trekhleb',\n",
       " 'javascript-algorithms',\n",
       " '521xueweihan',\n",
       " 'HelloGitHub',\n",
       " 'getify',\n",
       " 'You-Dont-Know-JS',\n",
       " 'kdn251',\n",
       " 'interviews',\n",
       " 'eavichay',\n",
       " 'microfronts',\n",
       " 'goldbergyoni',\n",
       " 'nodebestpractices',\n",
       " 'wuyouzhuguli',\n",
       " 'SpringAll',\n",
       " 'halo-dev',\n",
       " 'halo',\n",
       " 'serverless',\n",
       " 'serverless',\n",
       " 'prometheus',\n",
       " 'client_golang',\n",
       " 'VMadalin',\n",
       " 'kotlin-sample-app',\n",
       " 'davidfowl',\n",
       " 'FeatherHttp',\n",
       " '0vercl0k',\n",
       " 'CVE-2019-11708',\n",
       " 'mrdoob',\n",
       " 'three.js',\n",
       " 'OfficeDev',\n",
       " 'office-ui-fabric-react',\n",
       " 'standard',\n",
       " 'standard',\n",
       " 'eslint',\n",
       " 'eslint',\n",
       " 'jshint',\n",
       " 'jshint',\n",
       " 'clutchski',\n",
       " 'coffeelint',\n",
       " 'csscomb',\n",
       " 'csscomb.js',\n",
       " 'sds',\n",
       " 'scss-lint',\n",
       " 'htmlhint',\n",
       " 'HTMLHint',\n",
       " 'validator',\n",
       " 'validator',\n",
       " 'CSSLint',\n",
       " 'csslint',\n",
       " 'PyCQA',\n",
       " 'pycodestyle',\n",
       " 'PyCQA',\n",
       " 'flake8',\n",
       " 'psf',\n",
       " 'black',\n",
       " 'checkstyle',\n",
       " 'checkstyle',\n",
       " 'rubocop-hq',\n",
       " 'rubocop',\n",
       " 'oclint',\n",
       " 'oclint',\n",
       " 'golang',\n",
       " 'lint',\n",
       " 'ndmitchell',\n",
       " 'hlint',\n",
       " 'coala',\n",
       " 'coala',\n",
       " 'pre-commit',\n",
       " 'pre-commit',\n",
       " 'innogames',\n",
       " 'igcommit',\n",
       " 'fivethirtyeight',\n",
       " 'data',\n",
       " 'datadesk',\n",
       " 'notebooks',\n",
       " 'nytimes',\n",
       " 'objective-c-style-guide',\n",
       " 'newsapps',\n",
       " 'beeswithmachineguns',\n",
       " 'voxmedia',\n",
       " 'meme',\n",
       " 'propublica',\n",
       " 'guides',\n",
       " 'censusreporter',\n",
       " 'censusreporter',\n",
       " 'nprapps',\n",
       " 'app-template',\n",
       " 'TimeMagazineLabs',\n",
       " 'babynames',\n",
       " 'guardian',\n",
       " 'frontend',\n",
       " 'dukechronicle',\n",
       " 'chronline',\n",
       " 'BloombergMedia',\n",
       " 'whatiscode',\n",
       " 'times',\n",
       " 'cardkit',\n",
       " 'mkiser',\n",
       " 'WTFJHT',\n",
       " 'twbs',\n",
       " 'bootstrap',\n",
       " 'daneden',\n",
       " 'animate.css',\n",
       " 'nathansmith',\n",
       " '960-Grid-System',\n",
       " 'necolas',\n",
       " 'normalize.css',\n",
       " 'ionic-team',\n",
       " 'ionicons',\n",
       " 'designmodo',\n",
       " 'Flat-UI',\n",
       " 'h5bp',\n",
       " 'html5-boilerplate',\n",
       " 'foundation',\n",
       " 'foundation-sites',\n",
       " 'Modernizr',\n",
       " 'Modernizr',\n",
       " 'twbs',\n",
       " 'ratchet',\n",
       " 'IanLunn',\n",
       " 'Hover',\n",
       " 'connors',\n",
       " 'photon',\n",
       " 'basscss',\n",
       " 'basscss',\n",
       " 'atlemo',\n",
       " 'SubtlePatterns',\n",
       " 'mrmrs',\n",
       " 'colors',\n",
       " 'beetbox',\n",
       " 'beets',\n",
       " 'scottschiller',\n",
       " 'SoundManager2',\n",
       " 'CreateJS',\n",
       " 'SoundJS',\n",
       " 'musescore',\n",
       " 'MuseScore',\n",
       " 'tomahawk-player',\n",
       " 'tomahawk',\n",
       " 'cashmusic',\n",
       " 'platform',\n",
       " 'mopidy',\n",
       " 'mopidy',\n",
       " 'AudioKit',\n",
       " 'AudioKit',\n",
       " 'Soundnode',\n",
       " 'soundnode-app',\n",
       " 'gillesdemey',\n",
       " 'Cumulus',\n",
       " 'metabrainz',\n",
       " 'picard',\n",
       " 'overtone',\n",
       " 'overtone',\n",
       " 'samaaron',\n",
       " 'sonic-pi',\n",
       " 'puppetlabs',\n",
       " 'puppet',\n",
       " 'chef',\n",
       " 'chef',\n",
       " 'ansible',\n",
       " 'ansible',\n",
       " 'saltstack',\n",
       " 'salt',\n",
       " 'hashicorp',\n",
       " 'vagrant',\n",
       " 'openstack',\n",
       " 'openstack',\n",
       " 'moby',\n",
       " 'moby',\n",
       " 'capistrano',\n",
       " 'capistrano',\n",
       " 'statsd',\n",
       " 'statsd',\n",
       " 'graphite-project',\n",
       " 'graphite-web',\n",
       " 'elastic',\n",
       " 'logstash',\n",
       " 'fabric',\n",
       " 'fabric',\n",
       " 'grafana',\n",
       " 'grafana',\n",
       " 'StackStorm',\n",
       " 'st2',\n",
       " 'openshift',\n",
       " 'origin',\n",
       " 'getsentry',\n",
       " 'sentry',\n",
       " 'deployphp',\n",
       " 'deployer',\n",
       " 'kubernetes',\n",
       " 'kubernetes',\n",
       " 'netdata',\n",
       " 'netdata',\n",
       " 'cloud66-oss',\n",
       " 'habitus']"
      ]
     },
     "execution_count": 14,
     "metadata": {},
     "output_type": "execute_result"
    }
   ],
   "source": [
    "x"
   ]
  },
  {
   "cell_type": "code",
   "execution_count": 16,
   "metadata": {},
   "outputs": [],
   "source": [
    "# acquire.scrape_github_data()"
   ]
  },
  {
   "cell_type": "code",
   "execution_count": 17,
   "metadata": {},
   "outputs": [],
   "source": [
    "original_df = pd.read_json('data.json')"
   ]
  },
  {
   "cell_type": "code",
   "execution_count": 18,
   "metadata": {},
   "outputs": [
    {
     "data": {
      "text/plain": [
       "(107, 3)"
      ]
     },
     "execution_count": 18,
     "metadata": {},
     "output_type": "execute_result"
    }
   ],
   "source": [
    "original_df.shape"
   ]
  },
  {
   "cell_type": "code",
   "execution_count": 19,
   "metadata": {},
   "outputs": [
    {
     "data": {
      "text/html": [
       "<div>\n",
       "<style scoped>\n",
       "    .dataframe tbody tr th:only-of-type {\n",
       "        vertical-align: middle;\n",
       "    }\n",
       "\n",
       "    .dataframe tbody tr th {\n",
       "        vertical-align: top;\n",
       "    }\n",
       "\n",
       "    .dataframe thead th {\n",
       "        text-align: right;\n",
       "    }\n",
       "</style>\n",
       "<table border=\"1\" class=\"dataframe\">\n",
       "  <thead>\n",
       "    <tr style=\"text-align: right;\">\n",
       "      <th></th>\n",
       "      <th>language</th>\n",
       "      <th>readme_contents</th>\n",
       "      <th>repo</th>\n",
       "    </tr>\n",
       "  </thead>\n",
       "  <tbody>\n",
       "    <tr>\n",
       "      <th>count</th>\n",
       "      <td>100</td>\n",
       "      <td>107</td>\n",
       "      <td>107</td>\n",
       "    </tr>\n",
       "    <tr>\n",
       "      <th>unique</th>\n",
       "      <td>18</td>\n",
       "      <td>107</td>\n",
       "      <td>107</td>\n",
       "    </tr>\n",
       "    <tr>\n",
       "      <th>top</th>\n",
       "      <td>JavaScript</td>\n",
       "      <td>See https://data.fivethirtyeight.com/ for a li...</td>\n",
       "      <td>openshift/origin</td>\n",
       "    </tr>\n",
       "    <tr>\n",
       "      <th>freq</th>\n",
       "      <td>25</td>\n",
       "      <td>1</td>\n",
       "      <td>1</td>\n",
       "    </tr>\n",
       "  </tbody>\n",
       "</table>\n",
       "</div>"
      ],
      "text/plain": [
       "          language                                    readme_contents  \\\n",
       "count          100                                                107   \n",
       "unique          18                                                107   \n",
       "top     JavaScript  See https://data.fivethirtyeight.com/ for a li...   \n",
       "freq            25                                                  1   \n",
       "\n",
       "                    repo  \n",
       "count                107  \n",
       "unique               107  \n",
       "top     openshift/origin  \n",
       "freq                   1  "
      ]
     },
     "execution_count": 19,
     "metadata": {},
     "output_type": "execute_result"
    }
   ],
   "source": [
    "original_df.describe()"
   ]
  },
  {
   "cell_type": "code",
   "execution_count": 20,
   "metadata": {},
   "outputs": [
    {
     "name": "stdout",
     "output_type": "stream",
     "text": [
      "<class 'pandas.core.frame.DataFrame'>\n",
      "RangeIndex: 107 entries, 0 to 106\n",
      "Data columns (total 3 columns):\n",
      "language           100 non-null object\n",
      "readme_contents    107 non-null object\n",
      "repo               107 non-null object\n",
      "dtypes: object(3)\n",
      "memory usage: 2.6+ KB\n"
     ]
    }
   ],
   "source": [
    "original_df.info()"
   ]
  },
  {
   "cell_type": "code",
   "execution_count": 21,
   "metadata": {},
   "outputs": [],
   "source": [
    "original_df = original_df.dropna()"
   ]
  },
  {
   "cell_type": "code",
   "execution_count": 22,
   "metadata": {},
   "outputs": [
    {
     "data": {
      "text/plain": [
       "(100, 3)"
      ]
     },
     "execution_count": 22,
     "metadata": {},
     "output_type": "execute_result"
    }
   ],
   "source": [
    "original_df.shape"
   ]
  },
  {
   "cell_type": "code",
   "execution_count": 23,
   "metadata": {},
   "outputs": [],
   "source": [
    "original_df = original_df.reset_index()"
   ]
  },
  {
   "cell_type": "code",
   "execution_count": 24,
   "metadata": {},
   "outputs": [],
   "source": [
    "original_df = original_df.drop(columns='index')"
   ]
  },
  {
   "cell_type": "code",
   "execution_count": 25,
   "metadata": {},
   "outputs": [
    {
     "data": {
      "text/html": [
       "<div>\n",
       "<style scoped>\n",
       "    .dataframe tbody tr th:only-of-type {\n",
       "        vertical-align: middle;\n",
       "    }\n",
       "\n",
       "    .dataframe tbody tr th {\n",
       "        vertical-align: top;\n",
       "    }\n",
       "\n",
       "    .dataframe thead th {\n",
       "        text-align: right;\n",
       "    }\n",
       "</style>\n",
       "<table border=\"1\" class=\"dataframe\">\n",
       "  <thead>\n",
       "    <tr style=\"text-align: right;\">\n",
       "      <th></th>\n",
       "      <th>language</th>\n",
       "      <th>readme_contents</th>\n",
       "      <th>repo</th>\n",
       "    </tr>\n",
       "  </thead>\n",
       "  <tbody>\n",
       "    <tr>\n",
       "      <th>0</th>\n",
       "      <td>Python</td>\n",
       "      <td># AIDungeon2\\n\\n### The model for AI Dungeon2 ...</td>\n",
       "      <td>AIDungeon/AIDungeon</td>\n",
       "    </tr>\n",
       "    <tr>\n",
       "      <th>1</th>\n",
       "      <td>Go</td>\n",
       "      <td>[&lt;img src=\"https://rclone.org/img/logo_on_ligh...</td>\n",
       "      <td>rclone/rclone</td>\n",
       "    </tr>\n",
       "    <tr>\n",
       "      <th>2</th>\n",
       "      <td>Python</td>\n",
       "      <td># PythonPlantsVsZombies\\na simple PlantsVsZomb...</td>\n",
       "      <td>marblexu/PythonPlantsVsZombies</td>\n",
       "    </tr>\n",
       "    <tr>\n",
       "      <th>3</th>\n",
       "      <td>Rust</td>\n",
       "      <td>&lt;img alt=\"OrbTk\" width=\"380\" src=\"https://gitl...</td>\n",
       "      <td>redox-os/orbtk</td>\n",
       "    </tr>\n",
       "    <tr>\n",
       "      <th>4</th>\n",
       "      <td>C</td>\n",
       "      <td># UAC Bypass In The Wild\\nWindows 10 UAC bypas...</td>\n",
       "      <td>sailay1996/UAC_Bypass_In_The_Wild</td>\n",
       "    </tr>\n",
       "  </tbody>\n",
       "</table>\n",
       "</div>"
      ],
      "text/plain": [
       "  language                                    readme_contents  \\\n",
       "0   Python  # AIDungeon2\\n\\n### The model for AI Dungeon2 ...   \n",
       "1       Go  [<img src=\"https://rclone.org/img/logo_on_ligh...   \n",
       "2   Python  # PythonPlantsVsZombies\\na simple PlantsVsZomb...   \n",
       "3     Rust  <img alt=\"OrbTk\" width=\"380\" src=\"https://gitl...   \n",
       "4        C  # UAC Bypass In The Wild\\nWindows 10 UAC bypas...   \n",
       "\n",
       "                                repo  \n",
       "0                AIDungeon/AIDungeon  \n",
       "1                      rclone/rclone  \n",
       "2     marblexu/PythonPlantsVsZombies  \n",
       "3                     redox-os/orbtk  \n",
       "4  sailay1996/UAC_Bypass_In_The_Wild  "
      ]
     },
     "execution_count": 25,
     "metadata": {},
     "output_type": "execute_result"
    }
   ],
   "source": [
    "original_df.head()"
   ]
  },
  {
   "cell_type": "code",
   "execution_count": 26,
   "metadata": {},
   "outputs": [],
   "source": [
    "df = original_df[['language', 'readme_contents']]"
   ]
  },
  {
   "cell_type": "code",
   "execution_count": 27,
   "metadata": {},
   "outputs": [
    {
     "data": {
      "text/html": [
       "<div>\n",
       "<style scoped>\n",
       "    .dataframe tbody tr th:only-of-type {\n",
       "        vertical-align: middle;\n",
       "    }\n",
       "\n",
       "    .dataframe tbody tr th {\n",
       "        vertical-align: top;\n",
       "    }\n",
       "\n",
       "    .dataframe thead th {\n",
       "        text-align: right;\n",
       "    }\n",
       "</style>\n",
       "<table border=\"1\" class=\"dataframe\">\n",
       "  <thead>\n",
       "    <tr style=\"text-align: right;\">\n",
       "      <th></th>\n",
       "      <th>language</th>\n",
       "      <th>readme_contents</th>\n",
       "    </tr>\n",
       "  </thead>\n",
       "  <tbody>\n",
       "    <tr>\n",
       "      <th>0</th>\n",
       "      <td>Python</td>\n",
       "      <td># AIDungeon2\\n\\n### The model for AI Dungeon2 ...</td>\n",
       "    </tr>\n",
       "    <tr>\n",
       "      <th>1</th>\n",
       "      <td>Go</td>\n",
       "      <td>[&lt;img src=\"https://rclone.org/img/logo_on_ligh...</td>\n",
       "    </tr>\n",
       "    <tr>\n",
       "      <th>2</th>\n",
       "      <td>Python</td>\n",
       "      <td># PythonPlantsVsZombies\\na simple PlantsVsZomb...</td>\n",
       "    </tr>\n",
       "    <tr>\n",
       "      <th>3</th>\n",
       "      <td>Rust</td>\n",
       "      <td>&lt;img alt=\"OrbTk\" width=\"380\" src=\"https://gitl...</td>\n",
       "    </tr>\n",
       "    <tr>\n",
       "      <th>4</th>\n",
       "      <td>C</td>\n",
       "      <td># UAC Bypass In The Wild\\nWindows 10 UAC bypas...</td>\n",
       "    </tr>\n",
       "  </tbody>\n",
       "</table>\n",
       "</div>"
      ],
      "text/plain": [
       "  language                                    readme_contents\n",
       "0   Python  # AIDungeon2\\n\\n### The model for AI Dungeon2 ...\n",
       "1       Go  [<img src=\"https://rclone.org/img/logo_on_ligh...\n",
       "2   Python  # PythonPlantsVsZombies\\na simple PlantsVsZomb...\n",
       "3     Rust  <img alt=\"OrbTk\" width=\"380\" src=\"https://gitl...\n",
       "4        C  # UAC Bypass In The Wild\\nWindows 10 UAC bypas..."
      ]
     },
     "execution_count": 27,
     "metadata": {},
     "output_type": "execute_result"
    }
   ],
   "source": [
    "df.head()"
   ]
  },
  {
   "cell_type": "code",
   "execution_count": 28,
   "metadata": {},
   "outputs": [],
   "source": [
    "def normalize(string):\n",
    "    \"\"\"\n",
    "    Convert to all lowercase  \n",
    "    Normalize the unicode chars  \n",
    "    Remove any non-alpha or whitespace characters  \n",
    "    Remove any alpha strings with 2 characters or less  \n",
    "    \"\"\"\n",
    "    string = string.lower()\n",
    "    string = unicodedata.normalize('NFKD', string).encode('ascii', 'ignore').decode('utf-8', 'ignore')\n",
    "    \n",
    "    # keep only alpha chars\n",
    "    string = re.sub(r'[^a-z]', ' ', string)\n",
    "    \n",
    "    # remove strings less than 2 chars in length\n",
    "    string = re.sub(r'\\b[a-z]{,2}\\b', '', string)\n",
    "    \n",
    "    # convert newlines and tabs to a single space\n",
    "    string = re.sub(r'[\\r|\\n|\\r\\n]+', ' ', string)\n",
    "    \n",
    "    # strip extra whitespace\n",
    "    string = string.strip()\n",
    "    \n",
    "    return string\n",
    "\n",
    "df = df.assign(normalized = df.readme_contents.apply(normalize))"
   ]
  },
  {
   "cell_type": "code",
   "execution_count": 29,
   "metadata": {},
   "outputs": [
    {
     "data": {
      "text/html": [
       "<div>\n",
       "<style scoped>\n",
       "    .dataframe tbody tr th:only-of-type {\n",
       "        vertical-align: middle;\n",
       "    }\n",
       "\n",
       "    .dataframe tbody tr th {\n",
       "        vertical-align: top;\n",
       "    }\n",
       "\n",
       "    .dataframe thead th {\n",
       "        text-align: right;\n",
       "    }\n",
       "</style>\n",
       "<table border=\"1\" class=\"dataframe\">\n",
       "  <thead>\n",
       "    <tr style=\"text-align: right;\">\n",
       "      <th></th>\n",
       "      <th>language</th>\n",
       "      <th>readme_contents</th>\n",
       "      <th>normalized</th>\n",
       "    </tr>\n",
       "  </thead>\n",
       "  <tbody>\n",
       "    <tr>\n",
       "      <th>0</th>\n",
       "      <td>Python</td>\n",
       "      <td># AIDungeon2\\n\\n### The model for AI Dungeon2 ...</td>\n",
       "      <td>aidungeon       the model for  dungeon   tempo...</td>\n",
       "    </tr>\n",
       "    <tr>\n",
       "      <th>1</th>\n",
       "      <td>Go</td>\n",
       "      <td>[&lt;img src=\"https://rclone.org/img/logo_on_ligh...</td>\n",
       "      <td>img src  https   rclone org img logo  light  h...</td>\n",
       "    </tr>\n",
       "    <tr>\n",
       "      <th>2</th>\n",
       "      <td>Python</td>\n",
       "      <td># PythonPlantsVsZombies\\na simple PlantsVsZomb...</td>\n",
       "      <td>pythonplantsvszombies  simple plantsvszombies ...</td>\n",
       "    </tr>\n",
       "    <tr>\n",
       "      <th>3</th>\n",
       "      <td>Rust</td>\n",
       "      <td>&lt;img alt=\"OrbTk\" width=\"380\" src=\"https://gitl...</td>\n",
       "      <td>img alt  orbtk  width       src  https   gitla...</td>\n",
       "    </tr>\n",
       "    <tr>\n",
       "      <th>4</th>\n",
       "      <td>C</td>\n",
       "      <td># UAC Bypass In The Wild\\nWindows 10 UAC bypas...</td>\n",
       "      <td>uac bypass  the wild windows    uac bypass for...</td>\n",
       "    </tr>\n",
       "  </tbody>\n",
       "</table>\n",
       "</div>"
      ],
      "text/plain": [
       "  language                                    readme_contents  \\\n",
       "0   Python  # AIDungeon2\\n\\n### The model for AI Dungeon2 ...   \n",
       "1       Go  [<img src=\"https://rclone.org/img/logo_on_ligh...   \n",
       "2   Python  # PythonPlantsVsZombies\\na simple PlantsVsZomb...   \n",
       "3     Rust  <img alt=\"OrbTk\" width=\"380\" src=\"https://gitl...   \n",
       "4        C  # UAC Bypass In The Wild\\nWindows 10 UAC bypas...   \n",
       "\n",
       "                                          normalized  \n",
       "0  aidungeon       the model for  dungeon   tempo...  \n",
       "1  img src  https   rclone org img logo  light  h...  \n",
       "2  pythonplantsvszombies  simple plantsvszombies ...  \n",
       "3  img alt  orbtk  width       src  https   gitla...  \n",
       "4  uac bypass  the wild windows    uac bypass for...  "
      ]
     },
     "execution_count": 29,
     "metadata": {},
     "output_type": "execute_result"
    }
   ],
   "source": [
    "df.head()"
   ]
  },
  {
   "cell_type": "code",
   "execution_count": 30,
   "metadata": {},
   "outputs": [],
   "source": [
    "def stem(string):\n",
    "    ps = nltk.porter.PorterStemmer()\n",
    "    stems = [ps.stem(word) for word in string.split()]\n",
    "    string_of_stems = ' '.join(stems)\n",
    "    return string_of_stems"
   ]
  },
  {
   "cell_type": "code",
   "execution_count": 31,
   "metadata": {},
   "outputs": [],
   "source": [
    "def lemmatize(string):\n",
    "    wnl = nltk.stem.WordNetLemmatizer()\n",
    "    lemmas = [wnl.lemmatize(word) for word in string.split()]\n",
    "    string_of_lemmas = ' '.join(lemmas)\n",
    "    return string_of_lemmas"
   ]
  },
  {
   "cell_type": "code",
   "execution_count": 32,
   "metadata": {},
   "outputs": [],
   "source": [
    "def tokenize(string):\n",
    "    tokenizer = nltk.tokenize.ToktokTokenizer()\n",
    "    return tokenizer.tokenize(string, return_str=True)"
   ]
  },
  {
   "cell_type": "code",
   "execution_count": 33,
   "metadata": {},
   "outputs": [],
   "source": [
    "def remove_stopwords(tokenized_string, extra_words=['https', 'http', 'github', 'www', 'email','gmail', 'com', 'AIDungeon',\n",
    " 'AIDungeon',\n",
    " 'rclone',\n",
    " 'rclone',\n",
    " 'marblexu',\n",
    " 'PythonPlantsVsZombies',\n",
    " 'redox-os',\n",
    " 'orbtk',\n",
    " 'sailay1996',\n",
    " 'UAC_Bypass_In_The_Wild',\n",
    " 'ruanyf',\n",
    " 'weekly',\n",
    " 'alirezadir',\n",
    " 'Production-Level-Deep-Learning',\n",
    " 'sdmg15',\n",
    " 'Best-websites-a-programmer-should-visit',\n",
    " 'practicalAI',\n",
    " 'practicalAI',\n",
    " 'HuaweiJoke',\n",
    " 'Huawei-Joke',\n",
    " 'trekhleb',\n",
    " 'javascript-algorithms',\n",
    " '521xueweihan',\n",
    " 'HelloGitHub',\n",
    " 'getify',\n",
    " 'You-Dont-Know-JS',\n",
    " 'kdn251',\n",
    " 'interviews',\n",
    " 'eavichay',\n",
    " 'microfronts',\n",
    " 'goldbergyoni',\n",
    " 'nodebestpractices',\n",
    " 'wuyouzhuguli',\n",
    " 'SpringAll',\n",
    " 'halo-dev',\n",
    " 'halo',\n",
    " 'serverless',\n",
    " 'serverless',\n",
    " 'prometheus',\n",
    " 'client_golang',\n",
    " 'VMadalin',\n",
    " 'kotlin-sample-app',\n",
    " 'davidfowl',\n",
    " 'FeatherHttp',\n",
    " '0vercl0k',\n",
    " 'CVE-2019-11708',\n",
    " 'mrdoob',\n",
    " 'three.js',\n",
    " 'OfficeDev',\n",
    " 'office-ui-fabric-react',\n",
    " 'standard',\n",
    " 'standard',\n",
    " 'eslint',\n",
    " 'eslint',\n",
    " 'jshint',\n",
    " 'jshint',\n",
    " 'clutchski',\n",
    " 'coffeelint',\n",
    " 'csscomb',\n",
    " 'csscomb.js',\n",
    " 'sds',\n",
    " 'scss-lint',\n",
    " 'htmlhint',\n",
    " 'HTMLHint',\n",
    " 'validator',\n",
    " 'validator',\n",
    " 'CSSLint',\n",
    " 'csslint',\n",
    " 'PyCQA',\n",
    " 'pycodestyle',\n",
    " 'PyCQA',\n",
    " 'flake8',\n",
    " 'psf',\n",
    " 'black',\n",
    " 'checkstyle',\n",
    " 'checkstyle',\n",
    " 'rubocop-hq',\n",
    " 'rubocop',\n",
    " 'oclint',\n",
    " 'oclint',\n",
    " 'golang',\n",
    " 'lint',\n",
    " 'ndmitchell',\n",
    " 'hlint',\n",
    " 'coala',\n",
    " 'coala',\n",
    " 'pre-commit',\n",
    " 'pre-commit',\n",
    " 'innogames',\n",
    " 'igcommit',\n",
    " 'fivethirtyeight',\n",
    " 'data',\n",
    " 'datadesk',\n",
    " 'notebooks',\n",
    " 'nytimes',\n",
    " 'objective-c-style-guide',\n",
    " 'newsapps',\n",
    " 'beeswithmachineguns',\n",
    " 'voxmedia',\n",
    " 'meme',\n",
    " 'propublica',\n",
    " 'guides',\n",
    " 'censusreporter',\n",
    " 'censusreporter',\n",
    " 'nprapps',\n",
    " 'app-template',\n",
    " 'TimeMagazineLabs',\n",
    " 'babynames',\n",
    " 'guardian',\n",
    " 'frontend',\n",
    " 'dukechronicle',\n",
    " 'chronline',\n",
    " 'BloombergMedia',\n",
    " 'whatiscode',\n",
    " 'times',\n",
    " 'cardkit',\n",
    " 'mkiser',\n",
    " 'WTFJHT',\n",
    " 'twbs',\n",
    " 'bootstrap',\n",
    " 'daneden',\n",
    " 'animate.css',\n",
    " 'nathansmith',\n",
    " '960-Grid-System',\n",
    " 'necolas',\n",
    " 'normalize.css',\n",
    " 'ionic-team',\n",
    " 'ionicons',\n",
    " 'designmodo',\n",
    " 'Flat-UI',\n",
    " 'h5bp',\n",
    " 'html5-boilerplate',\n",
    " 'foundation',\n",
    " 'foundation-sites',\n",
    " 'Modernizr',\n",
    " 'Modernizr',\n",
    " 'twbs',\n",
    " 'ratchet',\n",
    " 'IanLunn',\n",
    " 'Hover',\n",
    " 'connors',\n",
    " 'photon',\n",
    " 'basscss',\n",
    " 'basscss',\n",
    " 'atlemo',\n",
    " 'SubtlePatterns',\n",
    " 'mrmrs',\n",
    " 'colors',\n",
    " 'beetbox',\n",
    " 'beets',\n",
    " 'scottschiller',\n",
    " 'SoundManager2',\n",
    " 'CreateJS',\n",
    " 'SoundJS',\n",
    " 'musescore',\n",
    " 'MuseScore',\n",
    " 'tomahawk-player',\n",
    " 'tomahawk',\n",
    " 'cashmusic',\n",
    " 'platform',\n",
    " 'mopidy',\n",
    " 'mopidy',\n",
    " 'AudioKit',\n",
    " 'AudioKit',\n",
    " 'Soundnode',\n",
    " 'soundnode-app',\n",
    " 'gillesdemey',\n",
    " 'Cumulus',\n",
    " 'metabrainz',\n",
    " 'picard',\n",
    " 'overtone',\n",
    " 'overtone',\n",
    " 'samaaron',\n",
    " 'sonic-pi',\n",
    " 'puppetlabs',\n",
    " 'puppet',\n",
    " 'chef',\n",
    " 'chef',\n",
    " 'ansible',\n",
    " 'ansible',\n",
    " 'saltstack',\n",
    " 'salt',\n",
    " 'hashicorp',\n",
    " 'vagrant',\n",
    " 'openstack',\n",
    " 'openstack',\n",
    " 'moby',\n",
    " 'moby',\n",
    " 'capistrano',\n",
    " 'capistrano',\n",
    " 'statsd',\n",
    " 'statsd',\n",
    " 'graphite-project',\n",
    " 'graphite-web',\n",
    " 'elastic',\n",
    " 'logstash',\n",
    " 'fabric',\n",
    " 'fabric',\n",
    " 'grafana',\n",
    " 'grafana',\n",
    " 'StackStorm',\n",
    " 'st2',\n",
    " 'openshift',\n",
    " 'origin',\n",
    " 'getsentry',\n",
    " 'sentry',\n",
    " 'deployphp',\n",
    " 'deployer',\n",
    " 'kubernetes',\n",
    " 'kubernetes',\n",
    " 'netdata',\n",
    " 'netdata',\n",
    " 'cloud66-oss',\n",
    " 'habitus'], exclude_words=[]):\n",
    "    words = tokenized_string.split()\n",
    "    stopword_list = stopwords.words('english')\n",
    "\n",
    "    # remove the excluded words from the stopword list\n",
    "    stopword_list = set(stopword_list) - set(exclude_words)\n",
    "\n",
    "    # add in the user specified extra words\n",
    "    stopword_list = stopword_list.union(set(extra_words))\n",
    "\n",
    "    filtered_words = [w for w in words if w not in stopword_list]\n",
    "    final_string = \" \".join(filtered_words)\n",
    "    return final_string"
   ]
  },
  {
   "cell_type": "code",
   "execution_count": 34,
   "metadata": {},
   "outputs": [
    {
     "data": {
      "text/html": [
       "<div>\n",
       "<style scoped>\n",
       "    .dataframe tbody tr th:only-of-type {\n",
       "        vertical-align: middle;\n",
       "    }\n",
       "\n",
       "    .dataframe tbody tr th {\n",
       "        vertical-align: top;\n",
       "    }\n",
       "\n",
       "    .dataframe thead th {\n",
       "        text-align: right;\n",
       "    }\n",
       "</style>\n",
       "<table border=\"1\" class=\"dataframe\">\n",
       "  <thead>\n",
       "    <tr style=\"text-align: right;\">\n",
       "      <th></th>\n",
       "      <th>language</th>\n",
       "      <th>readme_contents</th>\n",
       "      <th>normalized</th>\n",
       "      <th>original</th>\n",
       "      <th>stemmed</th>\n",
       "      <th>lemmatized</th>\n",
       "      <th>cleaned</th>\n",
       "    </tr>\n",
       "  </thead>\n",
       "  <tbody>\n",
       "    <tr>\n",
       "      <th>0</th>\n",
       "      <td>Python</td>\n",
       "      <td># AIDungeon2\\n\\n### The model for AI Dungeon2 ...</td>\n",
       "      <td>aidungeon       the model for  dungeon   tempo...</td>\n",
       "      <td># AIDungeon2\\n\\n### The model for AI Dungeon2 ...</td>\n",
       "      <td>aidungeon the model for dungeon temporarili un...</td>\n",
       "      <td>aidungeon the model for dungeon temporarily un...</td>\n",
       "      <td>aidungeon model dungeon temporarily unavailabl...</td>\n",
       "    </tr>\n",
       "    <tr>\n",
       "      <th>1</th>\n",
       "      <td>Go</td>\n",
       "      <td>[&lt;img src=\"https://rclone.org/img/logo_on_ligh...</td>\n",
       "      <td>img src  https   rclone org img logo  light  h...</td>\n",
       "      <td>[&lt;img src=\"https://rclone.org/img/logo_on_ligh...</td>\n",
       "      <td>img src http rclone org img logo light horizon...</td>\n",
       "      <td>img src http rclone org img logo light horizon...</td>\n",
       "      <td>img src org img logo light horizontal color sv...</td>\n",
       "    </tr>\n",
       "    <tr>\n",
       "      <th>2</th>\n",
       "      <td>Python</td>\n",
       "      <td># PythonPlantsVsZombies\\na simple PlantsVsZomb...</td>\n",
       "      <td>pythonplantsvszombies  simple plantsvszombies ...</td>\n",
       "      <td># PythonPlantsVsZombies\\na simple PlantsVsZomb...</td>\n",
       "      <td>pythonplantsvszombi simpl plantsvszombi game i...</td>\n",
       "      <td>pythonplantsvszombies simple plantsvszombies g...</td>\n",
       "      <td>pythonplantsvszombies simple plantsvszombies g...</td>\n",
       "    </tr>\n",
       "    <tr>\n",
       "      <th>3</th>\n",
       "      <td>Rust</td>\n",
       "      <td>&lt;img alt=\"OrbTk\" width=\"380\" src=\"https://gitl...</td>\n",
       "      <td>img alt  orbtk  width       src  https   gitla...</td>\n",
       "      <td>&lt;img alt=\"OrbTk\" width=\"380\" src=\"https://gitl...</td>\n",
       "      <td>img alt orbtk width src http gitlab redox org ...</td>\n",
       "      <td>img alt orbtk width src http gitlab redox org ...</td>\n",
       "      <td>img alt width src gitlab redox org redox asset...</td>\n",
       "    </tr>\n",
       "    <tr>\n",
       "      <th>4</th>\n",
       "      <td>C</td>\n",
       "      <td># UAC Bypass In The Wild\\nWindows 10 UAC bypas...</td>\n",
       "      <td>uac bypass  the wild windows    uac bypass for...</td>\n",
       "      <td># UAC Bypass In The Wild\\nWindows 10 UAC bypas...</td>\n",
       "      <td>uac bypass the wild window uac bypass for all ...</td>\n",
       "      <td>uac bypass the wild window uac bypass for all ...</td>\n",
       "      <td>uac bypass wild window uac bypass executable f...</td>\n",
       "    </tr>\n",
       "  </tbody>\n",
       "</table>\n",
       "</div>"
      ],
      "text/plain": [
       "  language                                    readme_contents  \\\n",
       "0   Python  # AIDungeon2\\n\\n### The model for AI Dungeon2 ...   \n",
       "1       Go  [<img src=\"https://rclone.org/img/logo_on_ligh...   \n",
       "2   Python  # PythonPlantsVsZombies\\na simple PlantsVsZomb...   \n",
       "3     Rust  <img alt=\"OrbTk\" width=\"380\" src=\"https://gitl...   \n",
       "4        C  # UAC Bypass In The Wild\\nWindows 10 UAC bypas...   \n",
       "\n",
       "                                          normalized  \\\n",
       "0  aidungeon       the model for  dungeon   tempo...   \n",
       "1  img src  https   rclone org img logo  light  h...   \n",
       "2  pythonplantsvszombies  simple plantsvszombies ...   \n",
       "3  img alt  orbtk  width       src  https   gitla...   \n",
       "4  uac bypass  the wild windows    uac bypass for...   \n",
       "\n",
       "                                            original  \\\n",
       "0  # AIDungeon2\\n\\n### The model for AI Dungeon2 ...   \n",
       "1  [<img src=\"https://rclone.org/img/logo_on_ligh...   \n",
       "2  # PythonPlantsVsZombies\\na simple PlantsVsZomb...   \n",
       "3  <img alt=\"OrbTk\" width=\"380\" src=\"https://gitl...   \n",
       "4  # UAC Bypass In The Wild\\nWindows 10 UAC bypas...   \n",
       "\n",
       "                                             stemmed  \\\n",
       "0  aidungeon the model for dungeon temporarili un...   \n",
       "1  img src http rclone org img logo light horizon...   \n",
       "2  pythonplantsvszombi simpl plantsvszombi game i...   \n",
       "3  img alt orbtk width src http gitlab redox org ...   \n",
       "4  uac bypass the wild window uac bypass for all ...   \n",
       "\n",
       "                                          lemmatized  \\\n",
       "0  aidungeon the model for dungeon temporarily un...   \n",
       "1  img src http rclone org img logo light horizon...   \n",
       "2  pythonplantsvszombies simple plantsvszombies g...   \n",
       "3  img alt orbtk width src http gitlab redox org ...   \n",
       "4  uac bypass the wild window uac bypass for all ...   \n",
       "\n",
       "                                             cleaned  \n",
       "0  aidungeon model dungeon temporarily unavailabl...  \n",
       "1  img src org img logo light horizontal color sv...  \n",
       "2  pythonplantsvszombies simple plantsvszombies g...  \n",
       "3  img alt width src gitlab redox org redox asset...  \n",
       "4  uac bypass wild window uac bypass executable f...  "
      ]
     },
     "execution_count": 34,
     "metadata": {},
     "output_type": "execute_result"
    }
   ],
   "source": [
    "df = df.assign(original = df.readme_contents)\n",
    "\n",
    "df = df.assign(normalized = df.original.apply(normalize))\n",
    "\n",
    "df = df.assign(stemmed = df.normalized.apply(stem))\n",
    "df = df.assign(lemmatized = df.normalized.apply(lemmatize))\n",
    "\n",
    "df = df.assign(cleaned = df.lemmatized.apply(remove_stopwords))\n",
    "df.head()"
   ]
  },
  {
   "cell_type": "code",
   "execution_count": 35,
   "metadata": {},
   "outputs": [
    {
     "data": {
      "text/html": [
       "<div>\n",
       "<style scoped>\n",
       "    .dataframe tbody tr th:only-of-type {\n",
       "        vertical-align: middle;\n",
       "    }\n",
       "\n",
       "    .dataframe tbody tr th {\n",
       "        vertical-align: top;\n",
       "    }\n",
       "\n",
       "    .dataframe thead th {\n",
       "        text-align: right;\n",
       "    }\n",
       "</style>\n",
       "<table border=\"1\" class=\"dataframe\">\n",
       "  <thead>\n",
       "    <tr style=\"text-align: right;\">\n",
       "      <th></th>\n",
       "      <th>language</th>\n",
       "      <th>readme_contents</th>\n",
       "      <th>normalized</th>\n",
       "      <th>original</th>\n",
       "      <th>stemmed</th>\n",
       "      <th>lemmatized</th>\n",
       "      <th>cleaned</th>\n",
       "    </tr>\n",
       "  </thead>\n",
       "  <tbody>\n",
       "    <tr>\n",
       "      <th>95</th>\n",
       "      <td>Python</td>\n",
       "      <td>.. raw:: html\\n\\n   &lt;p align=\"center\"&gt;\\n     &lt;...</td>\n",
       "      <td>raw   html       align  center          align ...</td>\n",
       "      <td>.. raw:: html\\n\\n   &lt;p align=\"center\"&gt;\\n     &lt;...</td>\n",
       "      <td>raw html align center align center href http s...</td>\n",
       "      <td>raw html align center align center href http s...</td>\n",
       "      <td>raw html align center align center href utm so...</td>\n",
       "    </tr>\n",
       "    <tr>\n",
       "      <th>96</th>\n",
       "      <td>PHP</td>\n",
       "      <td># Deployer\\n\\n&lt;a href=\"https://travis-ci.org/d...</td>\n",
       "      <td>deployer    href  https   travis  org deployph...</td>\n",
       "      <td># Deployer\\n\\n&lt;a href=\"https://travis-ci.org/d...</td>\n",
       "      <td>deploy href http travi org deployphp deploy im...</td>\n",
       "      <td>deployer href http travis org deployphp deploy...</td>\n",
       "      <td>href travis org img src travis org svg branch ...</td>\n",
       "    </tr>\n",
       "    <tr>\n",
       "      <th>97</th>\n",
       "      <td>Go</td>\n",
       "      <td># Kubernetes\\n\\n[![GoDoc Widget]][GoDoc] [![CI...</td>\n",
       "      <td>kubernetes     godoc widget   godoc     cii be...</td>\n",
       "      <td># Kubernetes\\n\\n[![GoDoc Widget]][GoDoc] [![CI...</td>\n",
       "      <td>kubernet godoc widget godoc cii best practic h...</td>\n",
       "      <td>kubernetes godoc widget godoc cii best practic...</td>\n",
       "      <td>godoc widget godoc cii best practice bestpract...</td>\n",
       "    </tr>\n",
       "    <tr>\n",
       "      <th>98</th>\n",
       "      <td>C</td>\n",
       "      <td># Netdata [![Build Status](https://travis-ci.c...</td>\n",
       "      <td>netdata    build status  https   travis  com n...</td>\n",
       "      <td># Netdata [![Build Status](https://travis-ci.c...</td>\n",
       "      <td>netdata build statu http travi com netdata net...</td>\n",
       "      <td>netdata build status http travis com netdata n...</td>\n",
       "      <td>build status travis svg branch master travis c...</td>\n",
       "    </tr>\n",
       "    <tr>\n",
       "      <th>99</th>\n",
       "      <td>Go</td>\n",
       "      <td>&lt;img src=\"http://cdn2-cloud66-com.s3.amazonaws...</td>\n",
       "      <td>img src  http   cdn  cloud   com   amazonaws c...</td>\n",
       "      <td>&lt;img src=\"http://cdn2-cloud66-com.s3.amazonaws...</td>\n",
       "      <td>img src http cdn cloud com amazonaw com imag o...</td>\n",
       "      <td>img src http cdn cloud com amazonaws com image...</td>\n",
       "      <td>img src cdn cloud amazonaws image os sponsorsh...</td>\n",
       "    </tr>\n",
       "  </tbody>\n",
       "</table>\n",
       "</div>"
      ],
      "text/plain": [
       "   language                                    readme_contents  \\\n",
       "95   Python  .. raw:: html\\n\\n   <p align=\"center\">\\n     <...   \n",
       "96      PHP  # Deployer\\n\\n<a href=\"https://travis-ci.org/d...   \n",
       "97       Go  # Kubernetes\\n\\n[![GoDoc Widget]][GoDoc] [![CI...   \n",
       "98        C  # Netdata [![Build Status](https://travis-ci.c...   \n",
       "99       Go  <img src=\"http://cdn2-cloud66-com.s3.amazonaws...   \n",
       "\n",
       "                                           normalized  \\\n",
       "95  raw   html       align  center          align ...   \n",
       "96  deployer    href  https   travis  org deployph...   \n",
       "97  kubernetes     godoc widget   godoc     cii be...   \n",
       "98  netdata    build status  https   travis  com n...   \n",
       "99  img src  http   cdn  cloud   com   amazonaws c...   \n",
       "\n",
       "                                             original  \\\n",
       "95  .. raw:: html\\n\\n   <p align=\"center\">\\n     <...   \n",
       "96  # Deployer\\n\\n<a href=\"https://travis-ci.org/d...   \n",
       "97  # Kubernetes\\n\\n[![GoDoc Widget]][GoDoc] [![CI...   \n",
       "98  # Netdata [![Build Status](https://travis-ci.c...   \n",
       "99  <img src=\"http://cdn2-cloud66-com.s3.amazonaws...   \n",
       "\n",
       "                                              stemmed  \\\n",
       "95  raw html align center align center href http s...   \n",
       "96  deploy href http travi org deployphp deploy im...   \n",
       "97  kubernet godoc widget godoc cii best practic h...   \n",
       "98  netdata build statu http travi com netdata net...   \n",
       "99  img src http cdn cloud com amazonaw com imag o...   \n",
       "\n",
       "                                           lemmatized  \\\n",
       "95  raw html align center align center href http s...   \n",
       "96  deployer href http travis org deployphp deploy...   \n",
       "97  kubernetes godoc widget godoc cii best practic...   \n",
       "98  netdata build status http travis com netdata n...   \n",
       "99  img src http cdn cloud com amazonaws com image...   \n",
       "\n",
       "                                              cleaned  \n",
       "95  raw html align center align center href utm so...  \n",
       "96  href travis org img src travis org svg branch ...  \n",
       "97  godoc widget godoc cii best practice bestpract...  \n",
       "98  build status travis svg branch master travis c...  \n",
       "99  img src cdn cloud amazonaws image os sponsorsh...  "
      ]
     },
     "execution_count": 35,
     "metadata": {},
     "output_type": "execute_result"
    }
   ],
   "source": [
    "df.tail()"
   ]
  },
  {
   "cell_type": "code",
   "execution_count": 36,
   "metadata": {},
   "outputs": [],
   "source": [
    "def prep_articles(df):\n",
    "    df = df.assign(original = df.readme_contents)\n",
    "    df = df.assign(normalized = df.original.apply(normalize))\n",
    "    df = df.assign(stemmed = df.normalized.apply(stem))\n",
    "    df = df.assign(lemmatized = df.normalized.apply(lemmatize))\n",
    "    df = df.assign(cleaned = df.lemmatized.apply(remove_stopwords))\n",
    "    df.drop(columns=[\"title\"], inplace=True)\n",
    "    return df"
   ]
  },
  {
   "cell_type": "code",
   "execution_count": 37,
   "metadata": {},
   "outputs": [],
   "source": [
    "raw_count = pd.Series(\" \".join(df.cleaned).split()).value_counts()"
   ]
  },
  {
   "cell_type": "code",
   "execution_count": 38,
   "metadata": {},
   "outputs": [
    {
     "data": {
      "text/plain": [
       "org                  634\n",
       "img                  558\n",
       "file                 514\n",
       "src                  489\n",
       "svg                  470\n",
       "html                 394\n",
       "code                 384\n",
       "use                  364\n",
       "doc                  354\n",
       "href                 324\n",
       "master               316\n",
       "project              315\n",
       "license              301\n",
       "cs                   292\n",
       "plugin               275\n",
       "badge                274\n",
       "build                269\n",
       "using                254\n",
       "run                  249\n",
       "install              230\n",
       "line                 230\n",
       "png                  217\n",
       "image                211\n",
       "python               208\n",
       "release              205\n",
       "version              204\n",
       "example              197\n",
       "opencollective       197\n",
       "test                 196\n",
       "new                  196\n",
       "                    ... \n",
       "zheng                  1\n",
       "espanol                1\n",
       "crockford              1\n",
       "recognizes             1\n",
       "xhaskell               1\n",
       "exclusive              1\n",
       "longestpalindrome      1\n",
       "slate                  1\n",
       "posicionamento         1\n",
       "completion             1\n",
       "colaborando            1\n",
       "reclamar               1\n",
       "hambley                1\n",
       "linttextsync           1\n",
       "wordbreak              1\n",
       "nivel                  1\n",
       "converte               1\n",
       "hostapd                1\n",
       "acidental              1\n",
       "wang                   1\n",
       "ficara                 1\n",
       "rodando                1\n",
       "uncheck                1\n",
       "energy                 1\n",
       "inteira                1\n",
       "clayglobal             1\n",
       "jnicklas               1\n",
       "elb                    1\n",
       "beer                   1\n",
       "gerar                  1\n",
       "Length: 9803, dtype: int64"
      ]
     },
     "execution_count": 38,
     "metadata": {},
     "output_type": "execute_result"
    }
   ],
   "source": [
    "raw_count"
   ]
  },
  {
   "cell_type": "code",
   "execution_count": 39,
   "metadata": {},
   "outputs": [
    {
     "data": {
      "text/plain": [
       "Text(0.5, 1.0, '10 most common words')"
      ]
     },
     "execution_count": 39,
     "metadata": {},
     "output_type": "execute_result"
    },
    {
     "data": {
      "image/png": "[encoded data removed]",
      "text/plain": [
       "<Figure size 432x288 with 1 Axes>"
      ]
     },
     "metadata": {
      "needs_background": "light"
     },
     "output_type": "display_data"
    }
   ],
   "source": [
    "raw_count.sort_values(ascending=False)[0:10].plot.barh(width=.9)\n",
    "plt.title('10 most common words')"
   ]
  },
  {
   "cell_type": "code",
   "execution_count": 40,
   "metadata": {},
   "outputs": [
    {
     "data": {
      "text/plain": [
       "'aidungeon model dungeon temporarily unavailable download due cost working solution read aidungeon wa built pcc byu edu dungeon creating infinitely generated text adventure deep learning language model play game colab aidungeon play game locally recommended nvidia gpu memory cuda installed gpu turn take couple minute game compose response install play locally git clone aidungeon aidungeon aidungeon install python play community aidungeon open source project question discussion contribution welcome contribution anything new package bugfixes documentation even new core feature resource website aidungeon aidungeon aidungeon twitter creator nickwalton twitter nickwalton dev benjbay twitter benjbay reddit aidungeon reddit aidungeon discord aidungeon discord discord vcz contributing contributing aidungeon relatively easy send pull request help article using pull request fork send request make develop destination branch aidungeon repository nickwalton aidungeon prefer pr pep python org dev pep pep compliant aidungeon us rough approximation git flow nvie post successful git branching model branching model develop branch contains latest contribution master always tagged point latest stable release'"
      ]
     },
     "execution_count": 40,
     "metadata": {},
     "output_type": "execute_result"
    }
   ],
   "source": [
    "df.cleaned[0]"
   ]
  },
  {
   "cell_type": "code",
   "execution_count": 41,
   "metadata": {},
   "outputs": [],
   "source": [
    "def idf(word):\n",
    "    n_occurrences = sum([1 for doc in df.cleaned if word in doc])\n",
    "    n_docs = len(df.cleaned)\n",
    "    idf = np.log(n_docs/n_occurrences)\n",
    "    return idf"
   ]
  },
  {
   "cell_type": "code",
   "execution_count": 42,
   "metadata": {},
   "outputs": [
    {
     "data": {
      "text/plain": [
       "numpy.ndarray"
      ]
     },
     "execution_count": 42,
     "metadata": {},
     "output_type": "execute_result"
    }
   ],
   "source": [
    "part1 = ' '.join(df.cleaned)\n",
    "part2 = part1.split()\n",
    "part3 = pd.Series(part2)\n",
    "# print(part3.value_counts())\n",
    "\n",
    "part4 = part3.unique()\n",
    "type(part4)\n",
    "# confirm that those words that existed multiple times, are now only represented once in the unique_words list. \n",
    "# print(pd.Series(part4).value_counts())"
   ]
  },
  {
   "cell_type": "code",
   "execution_count": 43,
   "metadata": {},
   "outputs": [
    {
     "data": {
      "text/plain": [
       "array(['aidungeon', 'model', 'dungeon', ..., 'healthy', 'downstream',\n",
       "       'schema'], dtype=object)"
      ]
     },
     "execution_count": 43,
     "metadata": {},
     "output_type": "execute_result"
    }
   ],
   "source": [
    "part4"
   ]
  },
  {
   "cell_type": "code",
   "execution_count": 44,
   "metadata": {},
   "outputs": [],
   "source": [
    "unique_words = pd.Series(' '.join(df.cleaned).split()).unique()"
   ]
  },
  {
   "cell_type": "code",
   "execution_count": 45,
   "metadata": {},
   "outputs": [
    {
     "data": {
      "text/html": [
       "<div>\n",
       "<style scoped>\n",
       "    .dataframe tbody tr th:only-of-type {\n",
       "        vertical-align: middle;\n",
       "    }\n",
       "\n",
       "    .dataframe tbody tr th {\n",
       "        vertical-align: top;\n",
       "    }\n",
       "\n",
       "    .dataframe thead th {\n",
       "        text-align: right;\n",
       "    }\n",
       "</style>\n",
       "<table border=\"1\" class=\"dataframe\">\n",
       "  <thead>\n",
       "    <tr style=\"text-align: right;\">\n",
       "      <th></th>\n",
       "      <th>idf</th>\n",
       "    </tr>\n",
       "    <tr>\n",
       "      <th>word</th>\n",
       "      <th></th>\n",
       "    </tr>\n",
       "  </thead>\n",
       "  <tbody>\n",
       "    <tr>\n",
       "      <th>aidungeon</th>\n",
       "      <td>4.60517</td>\n",
       "    </tr>\n",
       "    <tr>\n",
       "      <th>prerelease</th>\n",
       "      <td>4.60517</td>\n",
       "    </tr>\n",
       "    <tr>\n",
       "      <th>rollout</th>\n",
       "      <td>4.60517</td>\n",
       "    </tr>\n",
       "    <tr>\n",
       "      <th>zoomin</th>\n",
       "      <td>4.60517</td>\n",
       "    </tr>\n",
       "    <tr>\n",
       "      <th>diligently</th>\n",
       "      <td>4.60517</td>\n",
       "    </tr>\n",
       "  </tbody>\n",
       "</table>\n",
       "</div>"
      ],
      "text/plain": [
       "                idf\n",
       "word               \n",
       "aidungeon   4.60517\n",
       "prerelease  4.60517\n",
       "rollout     4.60517\n",
       "zoomin      4.60517\n",
       "diligently  4.60517"
      ]
     },
     "execution_count": 45,
     "metadata": {},
     "output_type": "execute_result"
    }
   ],
   "source": [
    "word_df = pd.DataFrame(dict(word = unique_words))\n",
    "word_df.head()\n",
    "\n",
    "word_df = word_df.assign(idf = lambda df: df.word.apply(idf))\n",
    "\n",
    "word_df.set_index('word').sort_values(by='idf', ascending = False).head(5)"
   ]
  },
  {
   "cell_type": "code",
   "execution_count": 46,
   "metadata": {},
   "outputs": [
    {
     "data": {
      "text/html": [
       "<div>\n",
       "<style scoped>\n",
       "    .dataframe tbody tr th:only-of-type {\n",
       "        vertical-align: middle;\n",
       "    }\n",
       "\n",
       "    .dataframe tbody tr th {\n",
       "        vertical-align: top;\n",
       "    }\n",
       "\n",
       "    .dataframe thead th {\n",
       "        text-align: right;\n",
       "    }\n",
       "</style>\n",
       "<table border=\"1\" class=\"dataframe\">\n",
       "  <thead>\n",
       "    <tr style=\"text-align: right;\">\n",
       "      <th></th>\n",
       "      <th>idf</th>\n",
       "    </tr>\n",
       "    <tr>\n",
       "      <th>word</th>\n",
       "      <th></th>\n",
       "    </tr>\n",
       "  </thead>\n",
       "  <tbody>\n",
       "    <tr>\n",
       "      <th>aidungeon</th>\n",
       "      <td>4.60517</td>\n",
       "    </tr>\n",
       "    <tr>\n",
       "      <th>prerelease</th>\n",
       "      <td>4.60517</td>\n",
       "    </tr>\n",
       "    <tr>\n",
       "      <th>rollout</th>\n",
       "      <td>4.60517</td>\n",
       "    </tr>\n",
       "    <tr>\n",
       "      <th>zoomin</th>\n",
       "      <td>4.60517</td>\n",
       "    </tr>\n",
       "    <tr>\n",
       "      <th>diligently</th>\n",
       "      <td>4.60517</td>\n",
       "    </tr>\n",
       "  </tbody>\n",
       "</table>\n",
       "</div>"
      ],
      "text/plain": [
       "                idf\n",
       "word               \n",
       "aidungeon   4.60517\n",
       "prerelease  4.60517\n",
       "rollout     4.60517\n",
       "zoomin      4.60517\n",
       "diligently  4.60517"
      ]
     },
     "execution_count": 46,
     "metadata": {},
     "output_type": "execute_result"
    }
   ],
   "source": [
    "# put in a dataframe\n",
    "idf_df = pd.DataFrame(dict(word = unique_words))\\\n",
    "    .assign(idf = lambda df: df.word.apply(idf))\\\n",
    "    .set_index('word').sort_values(by='idf', ascending = False)\n",
    "\n",
    "idf_df.head(5)"
   ]
  },
  {
   "cell_type": "code",
   "execution_count": 47,
   "metadata": {},
   "outputs": [],
   "source": [
    "documents = df.cleaned.to_dict()"
   ]
  },
  {
   "cell_type": "code",
   "execution_count": 48,
   "metadata": {},
   "outputs": [],
   "source": [
    "from sklearn.feature_extraction.text import TfidfVectorizer\n",
    "\n",
    "tfidf = TfidfVectorizer()\n",
    "tfidfs = tfidf.fit_transform(documents.values())"
   ]
  },
  {
   "cell_type": "code",
   "execution_count": 49,
   "metadata": {},
   "outputs": [
    {
     "data": {
      "text/html": [
       "<div>\n",
       "<style scoped>\n",
       "    .dataframe tbody tr th:only-of-type {\n",
       "        vertical-align: middle;\n",
       "    }\n",
       "\n",
       "    .dataframe tbody tr th {\n",
       "        vertical-align: top;\n",
       "    }\n",
       "\n",
       "    .dataframe thead th {\n",
       "        text-align: right;\n",
       "    }\n",
       "</style>\n",
       "<table border=\"1\" class=\"dataframe\">\n",
       "  <thead>\n",
       "    <tr style=\"text-align: right;\">\n",
       "      <th></th>\n",
       "      <th>aaa</th>\n",
       "      <th>aaaaaa</th>\n",
       "      <th>aac</th>\n",
       "      <th>aacecc</th>\n",
       "      <th>aaf</th>\n",
       "      <th>aaojmfs</th>\n",
       "      <th>aardvark</th>\n",
       "      <th>aaron</th>\n",
       "      <th>ab</th>\n",
       "      <th>aba</th>\n",
       "      <th>...</th>\n",
       "      <th>zram</th>\n",
       "      <th>zrzmjddxrve</th>\n",
       "      <th>zsol</th>\n",
       "      <th>zsolt</th>\n",
       "      <th>zulip</th>\n",
       "      <th>zulipchat</th>\n",
       "      <th>zurb</th>\n",
       "      <th>zuul</th>\n",
       "      <th>zvrw</th>\n",
       "      <th>zxuypkodwof</th>\n",
       "    </tr>\n",
       "  </thead>\n",
       "  <tbody>\n",
       "    <tr>\n",
       "      <th>0</th>\n",
       "      <td>0.0</td>\n",
       "      <td>0.0</td>\n",
       "      <td>0.0</td>\n",
       "      <td>0.0</td>\n",
       "      <td>0.0</td>\n",
       "      <td>0.0</td>\n",
       "      <td>0.0</td>\n",
       "      <td>0.0</td>\n",
       "      <td>0.0</td>\n",
       "      <td>0.0</td>\n",
       "      <td>...</td>\n",
       "      <td>0.0</td>\n",
       "      <td>0.0</td>\n",
       "      <td>0.0</td>\n",
       "      <td>0.0</td>\n",
       "      <td>0.0</td>\n",
       "      <td>0.0</td>\n",
       "      <td>0.0</td>\n",
       "      <td>0.0</td>\n",
       "      <td>0.0</td>\n",
       "      <td>0.0</td>\n",
       "    </tr>\n",
       "    <tr>\n",
       "      <th>1</th>\n",
       "      <td>0.0</td>\n",
       "      <td>0.0</td>\n",
       "      <td>0.0</td>\n",
       "      <td>0.0</td>\n",
       "      <td>0.0</td>\n",
       "      <td>0.0</td>\n",
       "      <td>0.0</td>\n",
       "      <td>0.0</td>\n",
       "      <td>0.0</td>\n",
       "      <td>0.0</td>\n",
       "      <td>...</td>\n",
       "      <td>0.0</td>\n",
       "      <td>0.0</td>\n",
       "      <td>0.0</td>\n",
       "      <td>0.0</td>\n",
       "      <td>0.0</td>\n",
       "      <td>0.0</td>\n",
       "      <td>0.0</td>\n",
       "      <td>0.0</td>\n",
       "      <td>0.0</td>\n",
       "      <td>0.0</td>\n",
       "    </tr>\n",
       "    <tr>\n",
       "      <th>2</th>\n",
       "      <td>0.0</td>\n",
       "      <td>0.0</td>\n",
       "      <td>0.0</td>\n",
       "      <td>0.0</td>\n",
       "      <td>0.0</td>\n",
       "      <td>0.0</td>\n",
       "      <td>0.0</td>\n",
       "      <td>0.0</td>\n",
       "      <td>0.0</td>\n",
       "      <td>0.0</td>\n",
       "      <td>...</td>\n",
       "      <td>0.0</td>\n",
       "      <td>0.0</td>\n",
       "      <td>0.0</td>\n",
       "      <td>0.0</td>\n",
       "      <td>0.0</td>\n",
       "      <td>0.0</td>\n",
       "      <td>0.0</td>\n",
       "      <td>0.0</td>\n",
       "      <td>0.0</td>\n",
       "      <td>0.0</td>\n",
       "    </tr>\n",
       "    <tr>\n",
       "      <th>3</th>\n",
       "      <td>0.0</td>\n",
       "      <td>0.0</td>\n",
       "      <td>0.0</td>\n",
       "      <td>0.0</td>\n",
       "      <td>0.0</td>\n",
       "      <td>0.0</td>\n",
       "      <td>0.0</td>\n",
       "      <td>0.0</td>\n",
       "      <td>0.0</td>\n",
       "      <td>0.0</td>\n",
       "      <td>...</td>\n",
       "      <td>0.0</td>\n",
       "      <td>0.0</td>\n",
       "      <td>0.0</td>\n",
       "      <td>0.0</td>\n",
       "      <td>0.0</td>\n",
       "      <td>0.0</td>\n",
       "      <td>0.0</td>\n",
       "      <td>0.0</td>\n",
       "      <td>0.0</td>\n",
       "      <td>0.0</td>\n",
       "    </tr>\n",
       "    <tr>\n",
       "      <th>4</th>\n",
       "      <td>0.0</td>\n",
       "      <td>0.0</td>\n",
       "      <td>0.0</td>\n",
       "      <td>0.0</td>\n",
       "      <td>0.0</td>\n",
       "      <td>0.0</td>\n",
       "      <td>0.0</td>\n",
       "      <td>0.0</td>\n",
       "      <td>0.0</td>\n",
       "      <td>0.0</td>\n",
       "      <td>...</td>\n",
       "      <td>0.0</td>\n",
       "      <td>0.0</td>\n",
       "      <td>0.0</td>\n",
       "      <td>0.0</td>\n",
       "      <td>0.0</td>\n",
       "      <td>0.0</td>\n",
       "      <td>0.0</td>\n",
       "      <td>0.0</td>\n",
       "      <td>0.0</td>\n",
       "      <td>0.0</td>\n",
       "    </tr>\n",
       "  </tbody>\n",
       "</table>\n",
       "<p>5 rows × 9801 columns</p>\n",
       "</div>"
      ],
      "text/plain": [
       "   aaa  aaaaaa  aac  aacecc  aaf  aaojmfs  aardvark  aaron   ab  aba  ...  \\\n",
       "0  0.0     0.0  0.0     0.0  0.0      0.0       0.0    0.0  0.0  0.0  ...   \n",
       "1  0.0     0.0  0.0     0.0  0.0      0.0       0.0    0.0  0.0  0.0  ...   \n",
       "2  0.0     0.0  0.0     0.0  0.0      0.0       0.0    0.0  0.0  0.0  ...   \n",
       "3  0.0     0.0  0.0     0.0  0.0      0.0       0.0    0.0  0.0  0.0  ...   \n",
       "4  0.0     0.0  0.0     0.0  0.0      0.0       0.0    0.0  0.0  0.0  ...   \n",
       "\n",
       "   zram  zrzmjddxrve  zsol  zsolt  zulip  zulipchat  zurb  zuul  zvrw  \\\n",
       "0   0.0          0.0   0.0    0.0    0.0        0.0   0.0   0.0   0.0   \n",
       "1   0.0          0.0   0.0    0.0    0.0        0.0   0.0   0.0   0.0   \n",
       "2   0.0          0.0   0.0    0.0    0.0        0.0   0.0   0.0   0.0   \n",
       "3   0.0          0.0   0.0    0.0    0.0        0.0   0.0   0.0   0.0   \n",
       "4   0.0          0.0   0.0    0.0    0.0        0.0   0.0   0.0   0.0   \n",
       "\n",
       "   zxuypkodwof  \n",
       "0          0.0  \n",
       "1          0.0  \n",
       "2          0.0  \n",
       "3          0.0  \n",
       "4          0.0  \n",
       "\n",
       "[5 rows x 9801 columns]"
      ]
     },
     "execution_count": 49,
     "metadata": {},
     "output_type": "execute_result"
    }
   ],
   "source": [
    "features_df = pd.DataFrame(tfidfs.todense(), columns=tfidf.get_feature_names())\n",
    "features_df.head()"
   ]
  },
  {
   "cell_type": "markdown",
   "metadata": {},
   "source": [
    "# Modeling"
   ]
  },
  {
   "cell_type": "code",
   "execution_count": 50,
   "metadata": {},
   "outputs": [
    {
     "ename": "SyntaxError",
     "evalue": "invalid syntax (<ipython-input-50-fdfdf21d03a7>, line 1)",
     "output_type": "error",
     "traceback": [
      "\u001b[0;36m  File \u001b[0;32m\"<ipython-input-50-fdfdf21d03a7>\"\u001b[0;36m, line \u001b[0;32m1\u001b[0m\n\u001b[0;31m    df.language.value_counts()[df.language.value_counts() == 1].index]\u001b[0m\n\u001b[0m                                                                     ^\u001b[0m\n\u001b[0;31mSyntaxError\u001b[0m\u001b[0;31m:\u001b[0m invalid syntax\n"
     ]
    }
   ],
   "source": [
    "df.language.value_counts()[df.language.value_counts() == 1].index]"
   ]
  },
  {
   "cell_type": "code",
   "execution_count": null,
   "metadata": {},
   "outputs": [],
   "source": [
    "df.language.value_counts()[df.language.value_counts() == 1].index"
   ]
  },
  {
   "cell_type": "code",
   "execution_count": null,
   "metadata": {},
   "outputs": [],
   "source": [
    "list(df.language.value_counts()[df.language.value_counts() == 1].index)"
   ]
  },
  {
   "cell_type": "code",
   "execution_count": 56,
   "metadata": {},
   "outputs": [],
   "source": [
    "df[df.language == 'Kotlin']\n",
    "df = df.drop(15)\n",
    "df[df.language == 'C#']\n",
    "df = df.drop(16)\n",
    "df[df.language == 'CoffeeScript']\n",
    "df = df.drop(23)\n",
    "df[df.language == 'Clojure']\n",
    "df = df.drop(78)\n",
    "df[df.language == 'Haskell']\n",
    "df = df.drop(36)\n",
    "df[df.language == 'Rust']\n",
    "df = df.drop(3)"
   ]
  },
  {
   "cell_type": "code",
   "execution_count": 57,
   "metadata": {},
   "outputs": [],
   "source": [
    "df = df.reset_index()"
   ]
  },
  {
   "cell_type": "markdown",
   "metadata": {},
   "source": [
    "### Logistic Regression"
   ]
  },
  {
   "cell_type": "code",
   "execution_count": 58,
   "metadata": {},
   "outputs": [],
   "source": [
    "from sklearn.model_selection import train_test_split\n",
    "from sklearn.linear_model import LogisticRegression\n",
    "from sklearn.metrics import classification_report, accuracy_score\n",
    "\n",
    "# df = pd.read_csv('./data/spam_clean.csv')\n",
    "# df.head()\n",
    "\n",
    "tfidf = TfidfVectorizer()\n",
    "X = tfidf.fit_transform(df.cleaned)\n",
    "y = df.language\n",
    "\n",
    "X_train, X_test, y_train, y_test = train_test_split(X, y, stratify=y, test_size=.2)\n",
    "\n",
    "train = pd.DataFrame(dict(actual=y_train))\n",
    "test = pd.DataFrame(dict(actual=y_test))\n",
    "\n",
    "lm = LogisticRegression().fit(X_train, y_train)\n",
    "\n",
    "train['predicted'] = lm.predict(X_train)\n",
    "test['predicted'] = lm.predict(X_test)"
   ]
  },
  {
   "cell_type": "code",
   "execution_count": 59,
   "metadata": {},
   "outputs": [
    {
     "name": "stdout",
     "output_type": "stream",
     "text": [
      "---\n",
      "Confusion Matrix\n",
      "actual      C  C++  CSS  Go  HTML  Java  JavaScript  Jupyter Notebook  PHP  \\\n",
      "predicted                                                                    \n",
      "CSS         0    0    7   0     0     0           0                 0    0   \n",
      "JavaScript  2    3    0   5     4     4          20                 2    2   \n",
      "Python      0    0    0   0     0     0           0                 0    0   \n",
      "Ruby        0    0    0   0     0     0           0                 0    0   \n",
      "\n",
      "actual      Python  Ruby  TypeScript  \n",
      "predicted                             \n",
      "CSS              0     0           0  \n",
      "JavaScript       0     3           3  \n",
      "Python          16     0           0  \n",
      "Ruby             0     4           0  \n",
      "---\n"
     ]
    }
   ],
   "source": [
    "print('---')\n",
    "print('Confusion Matrix')\n",
    "print(pd.crosstab(train.predicted, train.actual))\n",
    "print('---')\n",
    "# print(classification_report(train.actual, train.predicted))"
   ]
  },
  {
   "cell_type": "code",
   "execution_count": 60,
   "metadata": {},
   "outputs": [
    {
     "name": "stdout",
     "output_type": "stream",
     "text": [
      "Accuracy: 42.11%\n",
      "---\n",
      "Confusion Matrix\n",
      "actual      C++  CSS  Go  HTML  Java  JavaScript  Python  Ruby  TypeScript\n",
      "predicted                                                                 \n",
      "JavaScript    1    2   2     1     1           5       1     2           1\n",
      "Python        0    0   0     0     0           0       3     0           0\n",
      "---\n",
      "              precision    recall  f1-score   support\n",
      "\n",
      "         C++       0.00      0.00      0.00         1\n",
      "         CSS       0.00      0.00      0.00         2\n",
      "          Go       0.00      0.00      0.00         2\n",
      "        HTML       0.00      0.00      0.00         1\n",
      "        Java       0.00      0.00      0.00         1\n",
      "  JavaScript       0.31      1.00      0.48         5\n",
      "      Python       1.00      0.75      0.86         4\n",
      "        Ruby       0.00      0.00      0.00         2\n",
      "  TypeScript       0.00      0.00      0.00         1\n",
      "\n",
      "    accuracy                           0.42        19\n",
      "   macro avg       0.15      0.19      0.15        19\n",
      "weighted avg       0.29      0.42      0.31        19\n",
      "\n"
     ]
    }
   ],
   "source": [
    "print('Accuracy: {:.2%}'.format(accuracy_score(test.actual, test.predicted)))\n",
    "print('---')\n",
    "print('Confusion Matrix')\n",
    "print(pd.crosstab(test.predicted, test.actual))\n",
    "print('---') \n",
    "print(classification_report(test.actual, test.predicted))"
   ]
  },
  {
   "cell_type": "markdown",
   "metadata": {},
   "source": [
    "### "
   ]
  },
  {
   "cell_type": "markdown",
   "metadata": {},
   "source": [
    "### Decision Tree"
   ]
  },
  {
   "cell_type": "code",
   "execution_count": 61,
   "metadata": {},
   "outputs": [
    {
     "data": {
      "text/plain": [
       "DecisionTreeClassifier(class_weight=None, criterion='entropy', max_depth=3,\n",
       "                       max_features=None, max_leaf_nodes=None,\n",
       "                       min_impurity_decrease=0.0, min_impurity_split=None,\n",
       "                       min_samples_leaf=1, min_samples_split=2,\n",
       "                       min_weight_fraction_leaf=0.0, presort=False,\n",
       "                       random_state=123, splitter='best')"
      ]
     },
     "execution_count": 61,
     "metadata": {},
     "output_type": "execute_result"
    }
   ],
   "source": [
    "from sklearn.model_selection import train_test_split\n",
    "from sklearn.tree import DecisionTreeClassifier\n",
    "from sklearn.tree import export_graphviz\n",
    "from sklearn.metrics import classification_report\n",
    "from sklearn.metrics import confusion_matrix\n",
    "\n",
    "clf = DecisionTreeClassifier(criterion='entropy', max_depth=3, random_state=123)\n",
    "\n",
    "clf.fit(X_train, y_train)"
   ]
  },
  {
   "cell_type": "code",
   "execution_count": 62,
   "metadata": {},
   "outputs": [
    {
     "name": "stdout",
     "output_type": "stream",
     "text": [
      "[0. 0. 0. ... 0. 0. 0.]\n"
     ]
    }
   ],
   "source": [
    "print(clf.feature_importances_)"
   ]
  },
  {
   "cell_type": "code",
   "execution_count": 63,
   "metadata": {},
   "outputs": [
    {
     "data": {
      "text/plain": [
       "array(['JavaScript', 'JavaScript', 'Python', 'Go', 'Python', 'JavaScript',\n",
       "       'JavaScript', 'JavaScript', 'JavaScript', 'JavaScript',\n",
       "       'JavaScript', 'JavaScript', 'JavaScript', 'Python', 'JavaScript',\n",
       "       'Go', 'JavaScript', 'JavaScript', 'C', 'Python', 'JavaScript',\n",
       "       'Go', 'Python', 'Go', 'JavaScript', 'Python', 'JavaScript',\n",
       "       'JavaScript', 'Python', 'CSS', 'JavaScript', 'JavaScript', 'Go',\n",
       "       'Go', 'JavaScript', 'Go', 'JavaScript', 'Go', 'JavaScript',\n",
       "       'JavaScript', 'JavaScript', 'Python', 'JavaScript', 'JavaScript',\n",
       "       'JavaScript', 'Python', 'Go', 'CSS', 'JavaScript', 'Go',\n",
       "       'JavaScript', 'JavaScript', 'JavaScript', 'JavaScript', 'Python',\n",
       "       'JavaScript', 'CSS', 'JavaScript', 'CSS', 'Python', 'JavaScript',\n",
       "       'Python', 'Go', 'JavaScript', 'JavaScript', 'JavaScript', 'C',\n",
       "       'JavaScript', 'JavaScript', 'Go', 'JavaScript', 'CSS',\n",
       "       'JavaScript', 'JavaScript', 'JavaScript'], dtype=object)"
      ]
     },
     "execution_count": 63,
     "metadata": {},
     "output_type": "execute_result"
    }
   ],
   "source": [
    "y_pred = clf.predict(X_train)\n",
    "y_pred"
   ]
  },
  {
   "cell_type": "code",
   "execution_count": 64,
   "metadata": {},
   "outputs": [],
   "source": [
    "y_pred_proba = clf.predict_proba(X_train)\n",
    "# y_pred_proba"
   ]
  },
  {
   "cell_type": "code",
   "execution_count": 65,
   "metadata": {},
   "outputs": [
    {
     "name": "stdout",
     "output_type": "stream",
     "text": [
      "Accuracy of Decision Tree classifier on training set: 0.57\n"
     ]
    }
   ],
   "source": [
    "print('Accuracy of Decision Tree classifier on training set: {:.2f}'\n",
    "     .format(clf.score(X_train, y_train)))"
   ]
  },
  {
   "cell_type": "code",
   "execution_count": 66,
   "metadata": {},
   "outputs": [
    {
     "data": {
      "text/plain": [
       "array([[ 1,  0,  0,  0,  0,  0,  1,  0,  0,  0,  0,  0],\n",
       "       [ 0,  0,  0,  2,  0,  0,  1,  0,  0,  0,  0,  0],\n",
       "       [ 0,  0,  5,  0,  0,  0,  2,  0,  0,  0,  0,  0],\n",
       "       [ 0,  0,  0,  5,  0,  0,  0,  0,  0,  0,  0,  0],\n",
       "       [ 0,  0,  0,  0,  0,  0,  4,  0,  0,  0,  0,  0],\n",
       "       [ 1,  0,  0,  1,  0,  0,  2,  0,  0,  0,  0,  0],\n",
       "       [ 0,  0,  0,  0,  0,  0, 20,  0,  0,  0,  0,  0],\n",
       "       [ 0,  0,  0,  1,  0,  0,  1,  0,  0,  0,  0,  0],\n",
       "       [ 0,  0,  0,  2,  0,  0,  0,  0,  0,  0,  0,  0],\n",
       "       [ 0,  0,  0,  0,  0,  0,  4,  0,  0, 12,  0,  0],\n",
       "       [ 0,  0,  0,  1,  0,  0,  6,  0,  0,  0,  0,  0],\n",
       "       [ 0,  0,  0,  0,  0,  0,  3,  0,  0,  0,  0,  0]])"
      ]
     },
     "execution_count": 66,
     "metadata": {},
     "output_type": "execute_result"
    }
   ],
   "source": [
    "confusion_matrix(y_train, y_pred)"
   ]
  },
  {
   "cell_type": "markdown",
   "metadata": {},
   "source": [
    "### Random Forest"
   ]
  },
  {
   "cell_type": "code",
   "execution_count": 67,
   "metadata": {},
   "outputs": [],
   "source": [
    "from sklearn.model_selection import train_test_split\n",
    "from sklearn.ensemble import RandomForestClassifier\n",
    "from sklearn.metrics import classification_report\n",
    "from sklearn.metrics import confusion_matrix"
   ]
  },
  {
   "cell_type": "code",
   "execution_count": 68,
   "metadata": {},
   "outputs": [],
   "source": [
    "rf = RandomForestClassifier(bootstrap=True, \n",
    "                            class_weight=None, \n",
    "                            criterion='gini',\n",
    "                            min_samples_leaf=10,\n",
    "                            n_estimators=100,\n",
    "                            max_depth=4, \n",
    "                            random_state=123)"
   ]
  },
  {
   "cell_type": "code",
   "execution_count": 69,
   "metadata": {},
   "outputs": [
    {
     "data": {
      "text/plain": [
       "RandomForestClassifier(bootstrap=True, class_weight=None, criterion='gini',\n",
       "                       max_depth=4, max_features='auto', max_leaf_nodes=None,\n",
       "                       min_impurity_decrease=0.0, min_impurity_split=None,\n",
       "                       min_samples_leaf=10, min_samples_split=2,\n",
       "                       min_weight_fraction_leaf=0.0, n_estimators=100,\n",
       "                       n_jobs=None, oob_score=False, random_state=123,\n",
       "                       verbose=0, warm_start=False)"
      ]
     },
     "execution_count": 69,
     "metadata": {},
     "output_type": "execute_result"
    }
   ],
   "source": [
    "rf.fit(X_train, y_train)"
   ]
  },
  {
   "cell_type": "code",
   "execution_count": 70,
   "metadata": {},
   "outputs": [
    {
     "name": "stdout",
     "output_type": "stream",
     "text": [
      "[0. 0. 0. ... 0. 0. 0.]\n"
     ]
    }
   ],
   "source": [
    "print(rf.feature_importances_)"
   ]
  },
  {
   "cell_type": "code",
   "execution_count": 71,
   "metadata": {},
   "outputs": [],
   "source": [
    "y_pred = rf.predict(X_train)"
   ]
  },
  {
   "cell_type": "code",
   "execution_count": 72,
   "metadata": {},
   "outputs": [],
   "source": [
    "y_pred_proba = rf.predict_proba(X_train)"
   ]
  },
  {
   "cell_type": "code",
   "execution_count": 73,
   "metadata": {},
   "outputs": [
    {
     "name": "stdout",
     "output_type": "stream",
     "text": [
      "Accuracy of random forest classifier on training set: 0.43\n"
     ]
    }
   ],
   "source": [
    "print('Accuracy of random forest classifier on training set: {:.2f}'\n",
    "     .format(rf.score(X_train, y_train)))"
   ]
  },
  {
   "cell_type": "code",
   "execution_count": 74,
   "metadata": {},
   "outputs": [
    {
     "name": "stdout",
     "output_type": "stream",
     "text": [
      "[[ 0  0  0  0  0  0  1  0  0  1  0  0]\n",
      " [ 0  0  0  0  0  0  3  0  0  0  0  0]\n",
      " [ 0  0  0  0  0  0  7  0  0  0  0  0]\n",
      " [ 0  0  0  0  0  0  5  0  0  0  0  0]\n",
      " [ 0  0  0  0  0  0  2  0  0  2  0  0]\n",
      " [ 0  0  0  0  0  0  3  0  0  1  0  0]\n",
      " [ 0  0  0  0  0  0 20  0  0  0  0  0]\n",
      " [ 0  0  0  0  0  0  1  0  0  1  0  0]\n",
      " [ 0  0  0  0  0  0  2  0  0  0  0  0]\n",
      " [ 0  0  0  0  0  0  4  0  0 12  0  0]\n",
      " [ 0  0  0  0  0  0  7  0  0  0  0  0]\n",
      " [ 0  0  0  0  0  0  3  0  0  0  0  0]]\n"
     ]
    }
   ],
   "source": [
    "print(confusion_matrix(y_train, y_pred))"
   ]
  },
  {
   "cell_type": "code",
   "execution_count": 75,
   "metadata": {},
   "outputs": [
    {
     "name": "stdout",
     "output_type": "stream",
     "text": [
      "                  precision    recall  f1-score   support\n",
      "\n",
      "               C       0.00      0.00      0.00         2\n",
      "             C++       0.00      0.00      0.00         3\n",
      "             CSS       0.00      0.00      0.00         7\n",
      "              Go       0.00      0.00      0.00         5\n",
      "            HTML       0.00      0.00      0.00         4\n",
      "            Java       0.00      0.00      0.00         4\n",
      "      JavaScript       0.34      1.00      0.51        20\n",
      "Jupyter Notebook       0.00      0.00      0.00         2\n",
      "             PHP       0.00      0.00      0.00         2\n",
      "          Python       0.71      0.75      0.73        16\n",
      "            Ruby       0.00      0.00      0.00         7\n",
      "      TypeScript       0.00      0.00      0.00         3\n",
      "\n",
      "        accuracy                           0.43        75\n",
      "       macro avg       0.09      0.15      0.10        75\n",
      "    weighted avg       0.24      0.43      0.29        75\n",
      "\n"
     ]
    }
   ],
   "source": [
    "print(classification_report(y_train, y_pred))"
   ]
  },
  {
   "cell_type": "code",
   "execution_count": 76,
   "metadata": {},
   "outputs": [
    {
     "name": "stdout",
     "output_type": "stream",
     "text": [
      "Accuracy of random forest classifier on test set: 0.32\n"
     ]
    }
   ],
   "source": [
    "print('Accuracy of random forest classifier on test set: {:.2f}'\n",
    "     .format(rf.score(X_test, y_test)))"
   ]
  },
  {
   "cell_type": "markdown",
   "metadata": {},
   "source": [
    "### K-Nearest_Neighbor"
   ]
  },
  {
   "cell_type": "code",
   "execution_count": 77,
   "metadata": {},
   "outputs": [],
   "source": [
    "from sklearn.model_selection import train_test_split\n",
    "from sklearn.neighbors import KNeighborsClassifier\n",
    "from sklearn.metrics import classification_report\n",
    "from sklearn.metrics import confusion_matrix"
   ]
  },
  {
   "cell_type": "code",
   "execution_count": 78,
   "metadata": {},
   "outputs": [],
   "source": [
    "knn = KNeighborsClassifier(n_neighbors=5, weights='uniform')"
   ]
  },
  {
   "cell_type": "code",
   "execution_count": 79,
   "metadata": {},
   "outputs": [
    {
     "data": {
      "text/plain": [
       "KNeighborsClassifier(algorithm='auto', leaf_size=30, metric='minkowski',\n",
       "                     metric_params=None, n_jobs=None, n_neighbors=5, p=2,\n",
       "                     weights='uniform')"
      ]
     },
     "execution_count": 79,
     "metadata": {},
     "output_type": "execute_result"
    }
   ],
   "source": [
    "knn.fit(X_train, y_train)"
   ]
  },
  {
   "cell_type": "code",
   "execution_count": 80,
   "metadata": {},
   "outputs": [],
   "source": [
    "y_pred = knn.predict(X_train)"
   ]
  },
  {
   "cell_type": "code",
   "execution_count": 81,
   "metadata": {},
   "outputs": [],
   "source": [
    "y_pred_proba = knn.predict_proba(X_train)"
   ]
  },
  {
   "cell_type": "code",
   "execution_count": 82,
   "metadata": {},
   "outputs": [
    {
     "name": "stdout",
     "output_type": "stream",
     "text": [
      "Accuracy of KNN classifier on training set: 0.61\n"
     ]
    }
   ],
   "source": [
    "print('Accuracy of KNN classifier on training set: {:.2f}'\n",
    "     .format(knn.score(X_train, y_train)))"
   ]
  },
  {
   "cell_type": "code",
   "execution_count": 83,
   "metadata": {},
   "outputs": [
    {
     "name": "stdout",
     "output_type": "stream",
     "text": [
      "[[ 1  0  0  0  0  0  0  0  0  0  1  0]\n",
      " [ 0  2  0  0  0  0  1  0  0  0  0  0]\n",
      " [ 0  0  7  0  0  0  0  0  0  0  0  0]\n",
      " [ 0  1  0  2  0  0  1  0  0  0  1  0]\n",
      " [ 0  0  0  1  0  0  3  0  0  0  0  0]\n",
      " [ 0  0  1  0  0  1  2  0  0  0  0  0]\n",
      " [ 0  0  0  1  0  0 19  0  0  0  0  0]\n",
      " [ 0  0  0  0  1  0  1  0  0  0  0  0]\n",
      " [ 0  1  0  0  0  0  1  0  0  0  0  0]\n",
      " [ 0  0  0  1  0  1  2  0  0 11  1  0]\n",
      " [ 0  0  1  1  0  0  2  0  0  0  3  0]\n",
      " [ 1  0  1  0  0  0  1  0  0  0  0  0]]\n"
     ]
    }
   ],
   "source": [
    "print(confusion_matrix(y_train, y_pred))"
   ]
  },
  {
   "cell_type": "code",
   "execution_count": 84,
   "metadata": {},
   "outputs": [
    {
     "name": "stdout",
     "output_type": "stream",
     "text": [
      "                  precision    recall  f1-score   support\n",
      "\n",
      "               C       0.50      0.50      0.50         2\n",
      "             C++       0.50      0.67      0.57         3\n",
      "             CSS       0.70      1.00      0.82         7\n",
      "              Go       0.33      0.40      0.36         5\n",
      "            HTML       0.00      0.00      0.00         4\n",
      "            Java       0.50      0.25      0.33         4\n",
      "      JavaScript       0.58      0.95      0.72        20\n",
      "Jupyter Notebook       0.00      0.00      0.00         2\n",
      "             PHP       0.00      0.00      0.00         2\n",
      "          Python       1.00      0.69      0.81        16\n",
      "            Ruby       0.50      0.43      0.46         7\n",
      "      TypeScript       0.00      0.00      0.00         3\n",
      "\n",
      "        accuracy                           0.61        75\n",
      "       macro avg       0.38      0.41      0.38        75\n",
      "    weighted avg       0.56      0.61      0.56        75\n",
      "\n"
     ]
    }
   ],
   "source": [
    "print(classification_report(y_train, y_pred))"
   ]
  },
  {
   "cell_type": "code",
   "execution_count": 85,
   "metadata": {},
   "outputs": [
    {
     "name": "stdout",
     "output_type": "stream",
     "text": [
      "Accuracy of KNN classifier on test set: 0.58\n"
     ]
    }
   ],
   "source": [
    "print('Accuracy of KNN classifier on test set: {:.2f}'\n",
    "     .format(knn.score(X_test, y_test)))"
   ]
  },
  {
   "cell_type": "code",
   "execution_count": 86,
   "metadata": {},
   "outputs": [
    {
     "data": {
      "text/plain": [
       "([<matplotlib.axis.XTick at 0x1a2204c278>,\n",
       "  <matplotlib.axis.XTick at 0x1a2204cd30>,\n",
       "  <matplotlib.axis.XTick at 0x1a2204c320>,\n",
       "  <matplotlib.axis.XTick at 0x1a220420f0>,\n",
       "  <matplotlib.axis.XTick at 0x1a22041d30>],\n",
       " <a list of 5 Text xticklabel objects>)"
      ]
     },
     "execution_count": 86,
     "metadata": {},
     "output_type": "execute_result"
    },
    {
     "data": {
      "image/png": "[encoded data removed]",
      "text/plain": [
       "<Figure size 432x288 with 1 Axes>"
      ]
     },
     "metadata": {
      "needs_background": "light"
     },
     "output_type": "display_data"
    }
   ],
   "source": [
    "import matplotlib.pyplot as plt\n",
    "k_range = range(1, 20)\n",
    "scores = []\n",
    "for k in k_range:\n",
    "    knn = KNeighborsClassifier(n_neighbors = k)\n",
    "    knn.fit(X_train, y_train)\n",
    "    scores.append(knn.score(X_test, y_test))\n",
    "plt.figure()\n",
    "plt.xlabel('k')\n",
    "plt.ylabel('accuracy')\n",
    "plt.scatter(k_range, scores)\n",
    "plt.xticks([0,5,10,15,20])"
   ]
  },
  {
   "cell_type": "markdown",
   "metadata": {},
   "source": [
    "### Naive Bayes"
   ]
  },
  {
   "cell_type": "code",
   "execution_count": 89,
   "metadata": {},
   "outputs": [
    {
     "name": "stdout",
     "output_type": "stream",
     "text": [
      "['JavaScript' 'Python' 'Python' 'Python' 'Python' 'Python' 'Python'\n",
      " 'Python' 'Python' 'Python' 'Python' 'Python' 'Python' 'Python'\n",
      " 'JavaScript' 'Python' 'JavaScript' 'Python' 'C' 'Python' 'JavaScript'\n",
      " 'Python' 'Python' 'Python' 'JavaScript' 'Python' 'Python' 'Python'\n",
      " 'Python' 'Python' 'JavaScript' 'Python' 'Python' 'Python' 'JavaScript'\n",
      " 'Python' 'JavaScript' 'Python' 'Python' 'Python' 'Python' 'Python'\n",
      " 'Python' 'JavaScript' 'JavaScript' 'Python' 'Python' 'Python'\n",
      " 'JavaScript' 'Python' 'Python' 'JavaScript' 'Jupyter Notebook' 'Python'\n",
      " 'Python' 'Python' 'Python' 'Python' 'Python' 'Python' 'Python' 'Python'\n",
      " 'Python' 'JavaScript' 'Python' 'Python' 'Python' 'Ruby' 'Python' 'Python'\n",
      " 'Python' 'Python' 'Python' 'Python' 'Python']\n"
     ]
    }
   ],
   "source": [
    "import numpy as np\n",
    "rng = np.random.RandomState(1)\n",
    "X = X_train\n",
    "y = y_train\n",
    "from sklearn.naive_bayes import BernoulliNB\n",
    "clf = BernoulliNB()\n",
    "clf.fit(X, y)\n",
    "\n",
    "print(clf.predict(X))"
   ]
  },
  {
   "cell_type": "code",
   "execution_count": 90,
   "metadata": {},
   "outputs": [],
   "source": [
    "y_pred = clf.predict(X)"
   ]
  },
  {
   "cell_type": "code",
   "execution_count": 91,
   "metadata": {},
   "outputs": [],
   "source": [
    "y_pred_proba = clf.predict_proba(X_train)"
   ]
  },
  {
   "cell_type": "code",
   "execution_count": 92,
   "metadata": {},
   "outputs": [
    {
     "name": "stdout",
     "output_type": "stream",
     "text": [
      "Accuracy of Naive Bayes classifier on training set: 0.41\n"
     ]
    }
   ],
   "source": [
    "print('Accuracy of Naive Bayes classifier on training set: {:.2f}'\n",
    "     .format(clf.score(X_train, y_train)))"
   ]
  },
  {
   "cell_type": "code",
   "execution_count": 93,
   "metadata": {},
   "outputs": [
    {
     "name": "stdout",
     "output_type": "stream",
     "text": [
      "                  precision    recall  f1-score   support\n",
      "\n",
      "               C       1.00      0.50      0.67         2\n",
      "             C++       0.00      0.00      0.00         3\n",
      "             CSS       0.00      0.00      0.00         7\n",
      "              Go       0.00      0.00      0.00         5\n",
      "            HTML       0.00      0.00      0.00         4\n",
      "            Java       0.00      0.00      0.00         4\n",
      "      JavaScript       1.00      0.65      0.79        20\n",
      "Jupyter Notebook       0.00      0.00      0.00         2\n",
      "             PHP       0.00      0.00      0.00         2\n",
      "          Python       0.27      1.00      0.43        16\n",
      "            Ruby       1.00      0.14      0.25         7\n",
      "      TypeScript       0.00      0.00      0.00         3\n",
      "\n",
      "        accuracy                           0.41        75\n",
      "       macro avg       0.27      0.19      0.18        75\n",
      "    weighted avg       0.44      0.41      0.34        75\n",
      "\n"
     ]
    }
   ],
   "source": [
    "print(classification_report(y_train, y_pred))"
   ]
  },
  {
   "cell_type": "markdown",
   "metadata": {},
   "source": [
    "### Support Vector Machine (SVM)"
   ]
  },
  {
   "cell_type": "code",
   "execution_count": 110,
   "metadata": {},
   "outputs": [
    {
     "data": {
      "text/plain": [
       "SVC(C=1.0, cache_size=200, class_weight=None, coef0=0.0,\n",
       "    decision_function_shape='ovr', degree=3, gamma='auto', kernel='linear',\n",
       "    max_iter=-1, probability=False, random_state=None, shrinking=True,\n",
       "    tol=0.001, verbose=False)"
      ]
     },
     "execution_count": 110,
     "metadata": {},
     "output_type": "execute_result"
    }
   ],
   "source": [
    "import numpy as np\n",
    "X = X_train\n",
    "y = y_train\n",
    "from sklearn.svm import SVC\n",
    "clf = SVC(gamma='auto', kernel='linear')\n",
    "clf.fit(X, y)"
   ]
  },
  {
   "cell_type": "code",
   "execution_count": 111,
   "metadata": {},
   "outputs": [
    {
     "data": {
      "text/plain": [
       "array(['JavaScript', 'TypeScript', 'Python', 'C++', 'Python', 'C',\n",
       "       'JavaScript', 'Ruby', 'CSS', 'Ruby', 'Ruby', 'TypeScript', 'Java',\n",
       "       'Python', 'JavaScript', 'JavaScript', 'JavaScript', 'Python', 'C',\n",
       "       'Python', 'JavaScript', 'JavaScript', 'Python', 'Go', 'JavaScript',\n",
       "       'Python', 'JavaScript', 'JavaScript', 'Python', 'CSS',\n",
       "       'JavaScript', 'JavaScript', 'Go', 'C++', 'JavaScript',\n",
       "       'Jupyter Notebook', 'JavaScript', 'Ruby', 'Python',\n",
       "       'Jupyter Notebook', 'HTML', 'Python', 'Python', 'JavaScript',\n",
       "       'JavaScript', 'Python', 'PHP', 'CSS', 'JavaScript', 'Go', 'HTML',\n",
       "       'JavaScript', 'JavaScript', 'Python', 'Python', 'CSS', 'CSS',\n",
       "       'JavaScript', 'CSS', 'Python', 'Ruby', 'Python', 'Go',\n",
       "       'JavaScript', 'JavaScript', 'HTML', 'Java', 'Ruby', 'JavaScript',\n",
       "       'Go', 'Java', 'CSS', 'TypeScript', 'HTML', 'C++'], dtype=object)"
      ]
     },
     "execution_count": 111,
     "metadata": {},
     "output_type": "execute_result"
    }
   ],
   "source": [
    "clf.predict(X)"
   ]
  },
  {
   "cell_type": "code",
   "execution_count": 121,
   "metadata": {},
   "outputs": [
    {
     "name": "stdout",
     "output_type": "stream",
     "text": [
      "Accuracy of Stochastic SVM on training set: 0.96\n"
     ]
    }
   ],
   "source": [
    "print('Accuracy of Stochastic SVM on training set: {:.2f}'\n",
    "     .format(clf.score(X_train, y_train)))"
   ]
  },
  {
   "cell_type": "code",
   "execution_count": 122,
   "metadata": {},
   "outputs": [
    {
     "name": "stdout",
     "output_type": "stream",
     "text": [
      "Accuracy of Stochastic SVM on training set: 0.42\n"
     ]
    }
   ],
   "source": [
    "print('Accuracy of Stochastic SVM on training set: {:.2f}'\n",
    "     .format(clf.score(X_test, y_test)))"
   ]
  },
  {
   "cell_type": "markdown",
   "metadata": {},
   "source": [
    "### Stochastic Gradient Descent "
   ]
  },
  {
   "cell_type": "code",
   "execution_count": 96,
   "metadata": {},
   "outputs": [
    {
     "data": {
      "text/plain": [
       "SGDClassifier(alpha=0.0001, average=False, class_weight=None,\n",
       "              early_stopping=False, epsilon=0.1, eta0=0.0, fit_intercept=True,\n",
       "              l1_ratio=0.15, learning_rate='optimal', loss='hinge', max_iter=5,\n",
       "              n_iter_no_change=5, n_jobs=None, penalty='l2', power_t=0.5,\n",
       "              random_state=None, shuffle=True, tol=0.001,\n",
       "              validation_fraction=0.1, verbose=0, warm_start=False)"
      ]
     },
     "execution_count": 96,
     "metadata": {},
     "output_type": "execute_result"
    }
   ],
   "source": [
    "from sklearn import linear_model\n",
    "from sklearn.linear_model import SGDClassifier\n",
    "X = X_train\n",
    "y = y_train\n",
    "# clf = linear_model.SGDClassifier(max_iter=, tol=1e-3)\n",
    "clf = SGDClassifier(loss=\"hinge\", penalty=\"l2\", max_iter=5)\n",
    "clf.fit(X, y)"
   ]
  },
  {
   "cell_type": "code",
   "execution_count": 97,
   "metadata": {},
   "outputs": [
    {
     "data": {
      "text/plain": [
       "array(['JavaScript', 'TypeScript', 'Python', 'C++', 'Python', 'C',\n",
       "       'JavaScript', 'Ruby', 'CSS', 'Ruby', 'Ruby', 'TypeScript', 'Java',\n",
       "       'Python', 'JavaScript', 'PHP', 'JavaScript', 'Python', 'C',\n",
       "       'Python', 'JavaScript', 'Java', 'Python', 'Go', 'JavaScript',\n",
       "       'Python', 'JavaScript', 'JavaScript', 'Python', 'CSS',\n",
       "       'JavaScript', 'JavaScript', 'Go', 'C++', 'JavaScript',\n",
       "       'Jupyter Notebook', 'JavaScript', 'Ruby', 'Python',\n",
       "       'Jupyter Notebook', 'HTML', 'Python', 'Python', 'JavaScript',\n",
       "       'JavaScript', 'Python', 'PHP', 'CSS', 'JavaScript', 'Go', 'HTML',\n",
       "       'JavaScript', 'JavaScript', 'Python', 'Python', 'CSS', 'CSS',\n",
       "       'JavaScript', 'CSS', 'Python', 'Ruby', 'Python', 'Go',\n",
       "       'JavaScript', 'Ruby', 'HTML', 'Java', 'Ruby', 'JavaScript', 'Go',\n",
       "       'Java', 'CSS', 'TypeScript', 'HTML', 'C++'], dtype='<U16')"
      ]
     },
     "execution_count": 97,
     "metadata": {},
     "output_type": "execute_result"
    }
   ],
   "source": [
    "clf.predict(X)"
   ]
  },
  {
   "cell_type": "code",
   "execution_count": 107,
   "metadata": {},
   "outputs": [
    {
     "name": "stdout",
     "output_type": "stream",
     "text": [
      "Accuracy of Stochastic Gradient Decent Classifier on training set: 0.85\n"
     ]
    }
   ],
   "source": [
    "print('Accuracy of Stochastic Gradient Decent Classifier on training set: {:.2f}'\n",
    "     .format(clf.score(X_train, y_train)))"
   ]
  },
  {
   "cell_type": "code",
   "execution_count": 99,
   "metadata": {
    "scrolled": true
   },
   "outputs": [
    {
     "name": "stdout",
     "output_type": "stream",
     "text": [
      "                  precision    recall  f1-score   support\n",
      "\n",
      "               C       1.00      0.50      0.67         2\n",
      "             C++       0.00      0.00      0.00         3\n",
      "             CSS       0.00      0.00      0.00         7\n",
      "              Go       0.00      0.00      0.00         5\n",
      "            HTML       0.00      0.00      0.00         4\n",
      "            Java       0.00      0.00      0.00         4\n",
      "      JavaScript       1.00      0.65      0.79        20\n",
      "Jupyter Notebook       0.00      0.00      0.00         2\n",
      "             PHP       0.00      0.00      0.00         2\n",
      "          Python       0.27      1.00      0.43        16\n",
      "            Ruby       1.00      0.14      0.25         7\n",
      "      TypeScript       0.00      0.00      0.00         3\n",
      "\n",
      "        accuracy                           0.41        75\n",
      "       macro avg       0.27      0.19      0.18        75\n",
      "    weighted avg       0.44      0.41      0.34        75\n",
      "\n"
     ]
    }
   ],
   "source": [
    "print(classification_report(y_train, y_pred))"
   ]
  },
  {
   "cell_type": "code",
   "execution_count": 100,
   "metadata": {},
   "outputs": [
    {
     "name": "stdout",
     "output_type": "stream",
     "text": [
      "Accuracy of Stochastic Gradient Decent classifier on test set: 0.47\n"
     ]
    }
   ],
   "source": [
    "print('Accuracy of Stochastic Gradient Decent classifier on test set: {:.2f}'\n",
    "     .format(knn.score(X_test, y_test)))"
   ]
  },
  {
   "cell_type": "markdown",
   "metadata": {},
   "source": [
    "### AdaBoost"
   ]
  },
  {
   "cell_type": "code",
   "execution_count": 101,
   "metadata": {},
   "outputs": [
    {
     "name": "stdout",
     "output_type": "stream",
     "text": [
      "[0. 0. 0. ... 0. 0. 0.]\n"
     ]
    },
    {
     "data": {
      "text/plain": [
       "0.48"
      ]
     },
     "execution_count": 101,
     "metadata": {},
     "output_type": "execute_result"
    }
   ],
   "source": [
    "from sklearn.ensemble import AdaBoostClassifier\n",
    "X = X_train\n",
    "y = y_train\n",
    "clf = AdaBoostClassifier(n_estimators=100, random_state=0)\n",
    "clf.fit(X, y)\n",
    "\n",
    "print(clf.feature_importances_)\n",
    "\n",
    "clf.predict(X)\n",
    "\n",
    "clf.score(X, y)\n"
   ]
  },
  {
   "cell_type": "code",
   "execution_count": null,
   "metadata": {},
   "outputs": [],
   "source": []
  },
  {
   "cell_type": "markdown",
   "metadata": {},
   "source": [
    "### Bagging"
   ]
  },
  {
   "cell_type": "code",
   "execution_count": 102,
   "metadata": {},
   "outputs": [
    {
     "data": {
      "text/plain": [
       "array(['JavaScript', 'TypeScript', 'Python', 'C++', 'Python', 'Java',\n",
       "       'HTML', 'Ruby', 'CSS', 'Ruby', 'Ruby', 'Go', 'CSS', 'Python',\n",
       "       'JavaScript', 'PHP', 'JavaScript', 'Python', 'C', 'Python',\n",
       "       'JavaScript', 'Java', 'Python', 'Go', 'JavaScript', 'Python',\n",
       "       'CSS', 'JavaScript', 'Python', 'CSS', 'JavaScript', 'JavaScript',\n",
       "       'Go', 'C++', 'JavaScript', 'HTML', 'JavaScript', 'Ruby', 'Python',\n",
       "       'Jupyter Notebook', 'HTML', 'Python', 'HTML', 'JavaScript',\n",
       "       'JavaScript', 'Python', 'PHP', 'CSS', 'JavaScript', 'Go', 'HTML',\n",
       "       'JavaScript', 'JavaScript', 'Python', 'Python', 'CSS', 'CSS',\n",
       "       'HTML', 'CSS', 'Python', 'Ruby', 'Python', 'C++', 'JavaScript',\n",
       "       'CSS', 'HTML', 'Java', 'Java', 'JavaScript', 'Go', 'Java', 'CSS',\n",
       "       'TypeScript', 'HTML', 'C++'], dtype=object)"
      ]
     },
     "execution_count": 102,
     "metadata": {},
     "output_type": "execute_result"
    }
   ],
   "source": [
    "from sklearn.svm import SVC\n",
    "from sklearn.ensemble import BaggingClassifier\n",
    "\n",
    "X = X_train\n",
    "y = y_train\n",
    "\n",
    "clf = BaggingClassifier(n_estimators=3, random_state=0)\n",
    "clf.fit(X, y)\n",
    "clf.predict(X)"
   ]
  },
  {
   "cell_type": "code",
   "execution_count": 105,
   "metadata": {},
   "outputs": [
    {
     "name": "stdout",
     "output_type": "stream",
     "text": [
      "Accuracy of Bagging classifier on training set: 0.85\n"
     ]
    }
   ],
   "source": [
    "print('Accuracy of Bagging classifier on training set: {:.2f}'\n",
    "     .format(clf.score(X_train, y_train)))"
   ]
  },
  {
   "cell_type": "code",
   "execution_count": 106,
   "metadata": {},
   "outputs": [
    {
     "data": {
      "text/plain": [
       "0.2631578947368421"
      ]
     },
     "execution_count": 106,
     "metadata": {},
     "output_type": "execute_result"
    }
   ],
   "source": [
    "clf.score(X_test, y_test)"
   ]
  },
  {
   "cell_type": "code",
   "execution_count": null,
   "metadata": {},
   "outputs": [],
   "source": []
  }
 ],
 "metadata": {
  "kernelspec": {
   "display_name": "Python 3",
   "language": "python",
   "name": "python3"
  },
  "language_info": {
   "codemirror_mode": {
    "name": "ipython",
    "version": 3
   },
   "file_extension": ".py",
   "mimetype": "text/x-python",
   "name": "python",
   "nbconvert_exporter": "python",
   "pygments_lexer": "ipython3",
   "version": "3.7.3"
  }
 },
 "nbformat": 4,
 "nbformat_minor": 2
}
