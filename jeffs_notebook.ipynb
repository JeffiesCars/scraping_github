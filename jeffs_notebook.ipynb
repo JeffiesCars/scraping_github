{
 "cells": [
  {
   "cell_type": "code",
   "execution_count": 207,
   "metadata": {},
   "outputs": [],
   "source": [
    "import pandas as pd\n",
    "from requests import get\n",
    "from bs4 import BeautifulSoup\n",
    "import os\n",
    "import json\n",
    "from os import path\n",
    "import re\n",
    "import acquire\n",
    "import env\n",
    "\n",
    "import unicodedata\n",
    "import json\n",
    "\n",
    "import nltk\n",
    "from nltk.tokenize.toktok import ToktokTokenizer\n",
    "from nltk.corpus import stopwords\n",
    "\n",
    "import numpy as np\n",
    "\n",
    "import matplotlib.pyplot as plt\n",
    "import seaborn as sns\n",
    "\n",
    "# matplotlib default plotting styles\n",
    "plt.rc(\"patch\", edgecolor=\"black\", force_edgecolor=True)\n",
    "plt.rc(\"axes\", grid=True)\n",
    "plt.rc(\"grid\", linestyle=\":\", linewidth=0.8, alpha=0.7)\n",
    "plt.rc(\"axes.spines\", right=False, top=False)\n",
    "plt.rc(\"figure\", figsize=(11, 8))\n",
    "plt.rc(\"font\", size=12.0)\n",
    "plt.rc(\"hist\", bins=25)\n",
    "\n",
    "import warnings\n",
    "warnings.filterwarnings('ignore')"
   ]
  },
  {
   "cell_type": "code",
   "execution_count": null,
   "metadata": {},
   "outputs": [],
   "source": [
    "# def get_links():\n",
    "#     for url in urls:\n",
    "        \n",
    "#         headers = {'User-Agent': 'Codeup Data Science Student'}\n",
    "#         response = get(url, headers=headers)\n",
    "#         soup = BeautifulSoup(response.content, 'html.parser')\n",
    "    \n",
    "#     urls = []\n",
    "    \n",
    "#     for h1 in soup.find_all('h1'):\n",
    "#         urls.append((re.sub(r'\\s', '',h1.text)))\n",
    "#     urls.pop(0)\n",
    "#     return urls"
   ]
  },
  {
   "cell_type": "code",
   "execution_count": 18,
   "metadata": {},
   "outputs": [],
   "source": [
    "def create_urls(string):\n",
    "    urls = []\n",
    "    for item in string:\n",
    "        base_url = 'https://github.com/{}'.format(item)\n",
    "        urls.append(base_url)\n",
    "    return urls"
   ]
  },
  {
   "cell_type": "code",
   "execution_count": 22,
   "metadata": {},
   "outputs": [],
   "source": [
    "repo_list = create_urls(string=repo_list)"
   ]
  },
  {
   "cell_type": "code",
   "execution_count": 25,
   "metadata": {},
   "outputs": [
    {
     "data": {
      "text/plain": [
       "['https://github.com/AIDungeon/AIDungeon',\n",
       " 'https://github.com/rclone/rclone',\n",
       " 'https://github.com/marblexu/PythonPlantsVsZombies',\n",
       " 'https://github.com/redox-os/orbtk',\n",
       " 'https://github.com/sailay1996/UAC_Bypass_In_The_Wild',\n",
       " 'https://github.com/ruanyf/weekly',\n",
       " 'https://github.com/alirezadir/Production-Level-Deep-Learning',\n",
       " 'https://github.com/sdmg15/Best-websites-a-programmer-should-visit',\n",
       " 'https://github.com/practicalAI/practicalAI',\n",
       " 'https://github.com/HuaweiJoke/Huawei-Joke',\n",
       " 'https://github.com/trekhleb/javascript-algorithms',\n",
       " 'https://github.com/521xueweihan/HelloGitHub',\n",
       " 'https://github.com/getify/You-Dont-Know-JS',\n",
       " 'https://github.com/kdn251/interviews',\n",
       " 'https://github.com/eavichay/microfronts',\n",
       " 'https://github.com/goldbergyoni/nodebestpractices',\n",
       " 'https://github.com/wuyouzhuguli/SpringAll',\n",
       " 'https://github.com/halo-dev/halo',\n",
       " 'https://github.com/serverless/serverless',\n",
       " 'https://github.com/prometheus/client_golang',\n",
       " 'https://github.com/VMadalin/kotlin-sample-app',\n",
       " 'https://github.com/davidfowl/FeatherHttp',\n",
       " 'https://github.com/0vercl0k/CVE-2019-11708',\n",
       " 'https://github.com/mrdoob/three.js',\n",
       " 'https://github.com/OfficeDev/office-ui-fabric-react',\n",
       " 'https://github.com/standard/standard',\n",
       " 'https://github.com/eslint/eslint',\n",
       " 'https://github.com/jshint/jshint',\n",
       " 'https://github.com/clutchski/coffeelint',\n",
       " 'https://github.com/csscomb/csscomb.js',\n",
       " 'https://github.com/sds/scss-lint',\n",
       " 'https://github.com/htmlhint/HTMLHint',\n",
       " 'https://github.com/validator/validator',\n",
       " 'https://github.com/CSSLint/csslint',\n",
       " 'https://github.com/PyCQA/pycodestyle',\n",
       " 'https://github.com/PyCQA/flake8',\n",
       " 'https://github.com/psf/black',\n",
       " 'https://github.com/checkstyle/checkstyle',\n",
       " 'https://github.com/rubocop-hq/rubocop',\n",
       " 'https://github.com/oclint/oclint',\n",
       " 'https://github.com/golang/lint',\n",
       " 'https://github.com/ndmitchell/hlint',\n",
       " 'https://github.com/coala/coala',\n",
       " 'https://github.com/pre-commit/pre-commit',\n",
       " 'https://github.com/innogames/igcommit',\n",
       " 'https://github.com/fivethirtyeight/data',\n",
       " 'https://github.com/datadesk/notebooks',\n",
       " 'https://github.com/nytimes/objective-c-style-guide',\n",
       " 'https://github.com/newsapps/beeswithmachineguns',\n",
       " 'https://github.com/voxmedia/meme',\n",
       " 'https://github.com/propublica/guides',\n",
       " 'https://github.com/censusreporter/censusreporter',\n",
       " 'https://github.com/nprapps/app-template',\n",
       " 'https://github.com/TimeMagazineLabs/babynames',\n",
       " 'https://github.com/guardian/frontend',\n",
       " 'https://github.com/dukechronicle/chronline',\n",
       " 'https://github.com/BloombergMedia/whatiscode',\n",
       " 'https://github.com/times/cardkit',\n",
       " 'https://github.com/mkiser/WTFJHT',\n",
       " 'https://github.com/twbs/bootstrap',\n",
       " 'https://github.com/daneden/animate.css',\n",
       " 'https://github.com/nathansmith/960-Grid-System',\n",
       " 'https://github.com/necolas/normalize.css',\n",
       " 'https://github.com/ionic-team/ionicons',\n",
       " 'https://github.com/designmodo/Flat-UI',\n",
       " 'https://github.com/h5bp/html5-boilerplate',\n",
       " 'https://github.com/foundation/foundation-sites',\n",
       " 'https://github.com/Modernizr/Modernizr',\n",
       " 'https://github.com/twbs/ratchet',\n",
       " 'https://github.com/IanLunn/Hover',\n",
       " 'https://github.com/connors/photon',\n",
       " 'https://github.com/basscss/basscss',\n",
       " 'https://github.com/atlemo/SubtlePatterns',\n",
       " 'https://github.com/mrmrs/colors',\n",
       " 'https://github.com/beetbox/beets',\n",
       " 'https://github.com/scottschiller/SoundManager2',\n",
       " 'https://github.com/CreateJS/SoundJS',\n",
       " 'https://github.com/musescore/MuseScore',\n",
       " 'https://github.com/tomahawk-player/tomahawk',\n",
       " 'https://github.com/cashmusic/platform',\n",
       " 'https://github.com/mopidy/mopidy',\n",
       " 'https://github.com/AudioKit/AudioKit',\n",
       " 'https://github.com/Soundnode/soundnode-app',\n",
       " 'https://github.com/gillesdemey/Cumulus',\n",
       " 'https://github.com/metabrainz/picard',\n",
       " 'https://github.com/overtone/overtone',\n",
       " 'https://github.com/samaaron/sonic-pi',\n",
       " 'https://github.com/puppetlabs/puppet',\n",
       " 'https://github.com/chef/chef',\n",
       " 'https://github.com/ansible/ansible',\n",
       " 'https://github.com/saltstack/salt',\n",
       " 'https://github.com/hashicorp/vagrant',\n",
       " 'https://github.com/openstack/openstack',\n",
       " 'https://github.com/moby/moby',\n",
       " 'https://github.com/capistrano/capistrano',\n",
       " 'https://github.com/statsd/statsd',\n",
       " 'https://github.com/graphite-project/graphite-web',\n",
       " 'https://github.com/elastic/logstash',\n",
       " 'https://github.com/fabric/fabric',\n",
       " 'https://github.com/grafana/grafana',\n",
       " 'https://github.com/StackStorm/st2',\n",
       " 'https://github.com/openshift/origin',\n",
       " 'https://github.com/getsentry/sentry',\n",
       " 'https://github.com/deployphp/deployer',\n",
       " 'https://github.com/kubernetes/kubernetes',\n",
       " 'https://github.com/netdata/netdata',\n",
       " 'https://github.com/cloud66-oss/habitus']"
      ]
     },
     "execution_count": 25,
     "metadata": {},
     "output_type": "execute_result"
    }
   ],
   "source": [
    "repo_list"
   ]
  },
  {
   "cell_type": "code",
   "execution_count": 26,
   "metadata": {},
   "outputs": [],
   "source": [
    "# repo_list"
   ]
  },
  {
   "cell_type": "code",
   "execution_count": null,
   "metadata": {},
   "outputs": [],
   "source": [
    "# def get_dataframe():\n",
    "\n",
    "#     output = []\n",
    "    \n",
    "#     urls = create_urls()\n",
    "    \n",
    "#     for url in urls:\n",
    "#         headers = {'User-Agent': 'Codeup Data Science Student'}\n",
    "#         response = get(url, headers=headers)\n",
    "#         soup = BeautifulSoup(response.content, 'html.parser')\n",
    "#         title = urls[url]\n",
    "#         language = soup.find('span', class_= 'lang').text\n",
    "#         body = soup.find('div', class_= 'Box-body').text\n",
    "\n",
    "#         data = {\n",
    "#             'title' : title,\n",
    "#             'language' : language,\n",
    "#             'body' : body\n",
    "#         }\n",
    "\n",
    "#         output.append(data)\n",
    "# #     df = pd.DataFrame(output, header=None)\n",
    "#     return output"
   ]
  },
  {
   "cell_type": "code",
   "execution_count": 27,
   "metadata": {},
   "outputs": [],
   "source": [
    "# def get_links():\n",
    "# #     url = 'https://github.com/trending'\n",
    "# #     url = 'https://github.com/collections/clean-code-linters'\n",
    "# #     url = 'https://github.com/collections/open-journalism'\n",
    "# #     url = 'https://github.com/collections/design-essentials'\n",
    "# #     url = 'https://github.com/collections/music'\n",
    "#     url = 'https://github.com/collections/devops-tools'\n",
    "#     headers = {'User-Agent': 'Codeup Data Science Student'}\n",
    "#     response = get(url, headers=headers)\n",
    "#     soup = BeautifulSoup(response.content, 'html.parser')\n",
    "    \n",
    "#     urls = []\n",
    "    \n",
    "#     for h1 in soup.find_all('h1'):\n",
    "#         urls.append((re.sub(r'\\s', '',h1.text)))\n",
    "#     urls.pop(0)\n",
    "#     return urls"
   ]
  },
  {
   "cell_type": "code",
   "execution_count": 142,
   "metadata": {},
   "outputs": [],
   "source": [
    "repo_url_end = ['AIDungeon/AIDungeon',\n",
    "             'rclone/rclone',\n",
    "             'marblexu/PythonPlantsVsZombies',\n",
    "             'redox-os/orbtk',\n",
    "             'sailay1996/UAC_Bypass_In_The_Wild',\n",
    "             'ruanyf/weekly',\n",
    "             'alirezadir/Production-Level-Deep-Learning',\n",
    "             'sdmg15/Best-websites-a-programmer-should-visit',\n",
    "             'practicalAI/practicalAI',\n",
    "             'HuaweiJoke/Huawei-Joke',\n",
    "             'trekhleb/javascript-algorithms',\n",
    "             '521xueweihan/HelloGitHub',\n",
    "             'getify/You-Dont-Know-JS',\n",
    "             'kdn251/interviews',\n",
    "             'eavichay/microfronts',\n",
    "             'goldbergyoni/nodebestpractices',\n",
    "             'wuyouzhuguli/SpringAll',\n",
    "             'halo-dev/halo',\n",
    "             'serverless/serverless',\n",
    "             'prometheus/client_golang',\n",
    "             'VMadalin/kotlin-sample-app',\n",
    "             'davidfowl/FeatherHttp',\n",
    "             '0vercl0k/CVE-2019-11708',\n",
    "             'mrdoob/three.js',\n",
    "             'OfficeDev/office-ui-fabric-react',\n",
    "             'standard/standard',\n",
    "             'eslint/eslint',\n",
    "             'jshint/jshint',\n",
    "             'clutchski/coffeelint',\n",
    "             'csscomb/csscomb.js',\n",
    "             'sds/scss-lint',\n",
    "             'htmlhint/HTMLHint',\n",
    "             'validator/validator',\n",
    "             'CSSLint/csslint',\n",
    "             'PyCQA/pycodestyle',\n",
    "             'PyCQA/flake8',\n",
    "             'psf/black',\n",
    "             'checkstyle/checkstyle',\n",
    "             'rubocop-hq/rubocop',\n",
    "             'oclint/oclint',\n",
    "             'golang/lint',\n",
    "             'ndmitchell/hlint',\n",
    "             'coala/coala',\n",
    "             'pre-commit/pre-commit',\n",
    "             'innogames/igcommit',\n",
    "             'fivethirtyeight/data',\n",
    "             'datadesk/notebooks',\n",
    "             'nytimes/objective-c-style-guide',\n",
    "             'newsapps/beeswithmachineguns',\n",
    "             'voxmedia/meme',\n",
    "             'propublica/guides',\n",
    "             'censusreporter/censusreporter',\n",
    "             'nprapps/app-template',\n",
    "             'TimeMagazineLabs/babynames',\n",
    "             'guardian/frontend',\n",
    "             'dukechronicle/chronline',\n",
    "             'BloombergMedia/whatiscode',\n",
    "             'times/cardkit',\n",
    "             'mkiser/WTFJHT',\n",
    "             'twbs/bootstrap',\n",
    "             'daneden/animate.css',\n",
    "             'nathansmith/960-Grid-System',\n",
    "             'necolas/normalize.css',\n",
    "             'ionic-team/ionicons',\n",
    "             'designmodo/Flat-UI',\n",
    "             'h5bp/html5-boilerplate',\n",
    "             'foundation/foundation-sites',\n",
    "             'Modernizr/Modernizr',\n",
    "             'twbs/ratchet',\n",
    "             'IanLunn/Hover',\n",
    "             'connors/photon',\n",
    "             'basscss/basscss',\n",
    "             'atlemo/SubtlePatterns',\n",
    "             'mrmrs/colors',\n",
    "             'beetbox/beets',\n",
    "             'scottschiller/SoundManager2',\n",
    "             'CreateJS/SoundJS',\n",
    "             'musescore/MuseScore',\n",
    "             'tomahawk-player/tomahawk',\n",
    "             'cashmusic/platform',\n",
    "             'mopidy/mopidy',\n",
    "             'AudioKit/AudioKit',\n",
    "             'Soundnode/soundnode-app',\n",
    "             'gillesdemey/Cumulus',\n",
    "             'metabrainz/picard',\n",
    "             'overtone/overtone',\n",
    "             'samaaron/sonic-pi',\n",
    "             'puppetlabs/puppet',\n",
    "             'chef/chef',\n",
    "             'ansible/ansible',\n",
    "             'saltstack/salt',\n",
    "             'hashicorp/vagrant',\n",
    "             'openstack/openstack',\n",
    "             'moby/moby',\n",
    "             'capistrano/capistrano',\n",
    "             'statsd/statsd',\n",
    "             'graphite-project/graphite-web',\n",
    "             'elastic/logstash',\n",
    "             'fabric/fabric',\n",
    "             'grafana/grafana',\n",
    "             'StackStorm/st2',\n",
    "             'openshift/origin',\n",
    "             'getsentry/sentry',\n",
    "             'deployphp/deployer',\n",
    "             'kubernetes/kubernetes',\n",
    "             'netdata/netdata',\n",
    "             'cloud66-oss/habitus'\n",
    "             \n",
    "]"
   ]
  },
  {
   "cell_type": "code",
   "execution_count": 489,
   "metadata": {},
   "outputs": [],
   "source": [
    "x = []\n",
    "for url in repo_url_end:\n",
    "    x.extend(url.split('/'))"
   ]
  },
  {
   "cell_type": "code",
   "execution_count": 491,
   "metadata": {},
   "outputs": [
    {
     "data": {
      "text/plain": [
       "['AIDungeon',\n",
       " 'AIDungeon',\n",
       " 'rclone',\n",
       " 'rclone',\n",
       " 'marblexu',\n",
       " 'PythonPlantsVsZombies',\n",
       " 'redox-os',\n",
       " 'orbtk',\n",
       " 'sailay1996',\n",
       " 'UAC_Bypass_In_The_Wild',\n",
       " 'ruanyf',\n",
       " 'weekly',\n",
       " 'alirezadir',\n",
       " 'Production-Level-Deep-Learning',\n",
       " 'sdmg15',\n",
       " 'Best-websites-a-programmer-should-visit',\n",
       " 'practicalAI',\n",
       " 'practicalAI',\n",
       " 'HuaweiJoke',\n",
       " 'Huawei-Joke',\n",
       " 'trekhleb',\n",
       " 'javascript-algorithms',\n",
       " '521xueweihan',\n",
       " 'HelloGitHub',\n",
       " 'getify',\n",
       " 'You-Dont-Know-JS',\n",
       " 'kdn251',\n",
       " 'interviews',\n",
       " 'eavichay',\n",
       " 'microfronts',\n",
       " 'goldbergyoni',\n",
       " 'nodebestpractices',\n",
       " 'wuyouzhuguli',\n",
       " 'SpringAll',\n",
       " 'halo-dev',\n",
       " 'halo',\n",
       " 'serverless',\n",
       " 'serverless',\n",
       " 'prometheus',\n",
       " 'client_golang',\n",
       " 'VMadalin',\n",
       " 'kotlin-sample-app',\n",
       " 'davidfowl',\n",
       " 'FeatherHttp',\n",
       " '0vercl0k',\n",
       " 'CVE-2019-11708',\n",
       " 'mrdoob',\n",
       " 'three.js',\n",
       " 'OfficeDev',\n",
       " 'office-ui-fabric-react',\n",
       " 'standard',\n",
       " 'standard',\n",
       " 'eslint',\n",
       " 'eslint',\n",
       " 'jshint',\n",
       " 'jshint',\n",
       " 'clutchski',\n",
       " 'coffeelint',\n",
       " 'csscomb',\n",
       " 'csscomb.js',\n",
       " 'sds',\n",
       " 'scss-lint',\n",
       " 'htmlhint',\n",
       " 'HTMLHint',\n",
       " 'validator',\n",
       " 'validator',\n",
       " 'CSSLint',\n",
       " 'csslint',\n",
       " 'PyCQA',\n",
       " 'pycodestyle',\n",
       " 'PyCQA',\n",
       " 'flake8',\n",
       " 'psf',\n",
       " 'black',\n",
       " 'checkstyle',\n",
       " 'checkstyle',\n",
       " 'rubocop-hq',\n",
       " 'rubocop',\n",
       " 'oclint',\n",
       " 'oclint',\n",
       " 'golang',\n",
       " 'lint',\n",
       " 'ndmitchell',\n",
       " 'hlint',\n",
       " 'coala',\n",
       " 'coala',\n",
       " 'pre-commit',\n",
       " 'pre-commit',\n",
       " 'innogames',\n",
       " 'igcommit',\n",
       " 'fivethirtyeight',\n",
       " 'data',\n",
       " 'datadesk',\n",
       " 'notebooks',\n",
       " 'nytimes',\n",
       " 'objective-c-style-guide',\n",
       " 'newsapps',\n",
       " 'beeswithmachineguns',\n",
       " 'voxmedia',\n",
       " 'meme',\n",
       " 'propublica',\n",
       " 'guides',\n",
       " 'censusreporter',\n",
       " 'censusreporter',\n",
       " 'nprapps',\n",
       " 'app-template',\n",
       " 'TimeMagazineLabs',\n",
       " 'babynames',\n",
       " 'guardian',\n",
       " 'frontend',\n",
       " 'dukechronicle',\n",
       " 'chronline',\n",
       " 'BloombergMedia',\n",
       " 'whatiscode',\n",
       " 'times',\n",
       " 'cardkit',\n",
       " 'mkiser',\n",
       " 'WTFJHT',\n",
       " 'twbs',\n",
       " 'bootstrap',\n",
       " 'daneden',\n",
       " 'animate.css',\n",
       " 'nathansmith',\n",
       " '960-Grid-System',\n",
       " 'necolas',\n",
       " 'normalize.css',\n",
       " 'ionic-team',\n",
       " 'ionicons',\n",
       " 'designmodo',\n",
       " 'Flat-UI',\n",
       " 'h5bp',\n",
       " 'html5-boilerplate',\n",
       " 'foundation',\n",
       " 'foundation-sites',\n",
       " 'Modernizr',\n",
       " 'Modernizr',\n",
       " 'twbs',\n",
       " 'ratchet',\n",
       " 'IanLunn',\n",
       " 'Hover',\n",
       " 'connors',\n",
       " 'photon',\n",
       " 'basscss',\n",
       " 'basscss',\n",
       " 'atlemo',\n",
       " 'SubtlePatterns',\n",
       " 'mrmrs',\n",
       " 'colors',\n",
       " 'beetbox',\n",
       " 'beets',\n",
       " 'scottschiller',\n",
       " 'SoundManager2',\n",
       " 'CreateJS',\n",
       " 'SoundJS',\n",
       " 'musescore',\n",
       " 'MuseScore',\n",
       " 'tomahawk-player',\n",
       " 'tomahawk',\n",
       " 'cashmusic',\n",
       " 'platform',\n",
       " 'mopidy',\n",
       " 'mopidy',\n",
       " 'AudioKit',\n",
       " 'AudioKit',\n",
       " 'Soundnode',\n",
       " 'soundnode-app',\n",
       " 'gillesdemey',\n",
       " 'Cumulus',\n",
       " 'metabrainz',\n",
       " 'picard',\n",
       " 'overtone',\n",
       " 'overtone',\n",
       " 'samaaron',\n",
       " 'sonic-pi',\n",
       " 'puppetlabs',\n",
       " 'puppet',\n",
       " 'chef',\n",
       " 'chef',\n",
       " 'ansible',\n",
       " 'ansible',\n",
       " 'saltstack',\n",
       " 'salt',\n",
       " 'hashicorp',\n",
       " 'vagrant',\n",
       " 'openstack',\n",
       " 'openstack',\n",
       " 'moby',\n",
       " 'moby',\n",
       " 'capistrano',\n",
       " 'capistrano',\n",
       " 'statsd',\n",
       " 'statsd',\n",
       " 'graphite-project',\n",
       " 'graphite-web',\n",
       " 'elastic',\n",
       " 'logstash',\n",
       " 'fabric',\n",
       " 'fabric',\n",
       " 'grafana',\n",
       " 'grafana',\n",
       " 'StackStorm',\n",
       " 'st2',\n",
       " 'openshift',\n",
       " 'origin',\n",
       " 'getsentry',\n",
       " 'sentry',\n",
       " 'deployphp',\n",
       " 'deployer',\n",
       " 'kubernetes',\n",
       " 'kubernetes',\n",
       " 'netdata',\n",
       " 'netdata',\n",
       " 'cloud66-oss',\n",
       " 'habitus']"
      ]
     },
     "execution_count": 491,
     "metadata": {},
     "output_type": "execute_result"
    }
   ],
   "source": [
    "x"
   ]
  },
  {
   "cell_type": "code",
   "execution_count": 29,
   "metadata": {},
   "outputs": [],
   "source": [
    "acquire.scrape_github_data()"
   ]
  },
  {
   "cell_type": "code",
   "execution_count": 78,
   "metadata": {},
   "outputs": [],
   "source": [
    "original_df = pd.read_json('data.json')"
   ]
  },
  {
   "cell_type": "code",
   "execution_count": 122,
   "metadata": {},
   "outputs": [
    {
     "data": {
      "text/plain": [
       "(100, 3)"
      ]
     },
     "execution_count": 122,
     "metadata": {},
     "output_type": "execute_result"
    }
   ],
   "source": [
    "original_df.shape"
   ]
  },
  {
   "cell_type": "code",
   "execution_count": 80,
   "metadata": {},
   "outputs": [
    {
     "data": {
      "text/html": [
       "<div>\n",
       "<style scoped>\n",
       "    .dataframe tbody tr th:only-of-type {\n",
       "        vertical-align: middle;\n",
       "    }\n",
       "\n",
       "    .dataframe tbody tr th {\n",
       "        vertical-align: top;\n",
       "    }\n",
       "\n",
       "    .dataframe thead th {\n",
       "        text-align: right;\n",
       "    }\n",
       "</style>\n",
       "<table border=\"1\" class=\"dataframe\">\n",
       "  <thead>\n",
       "    <tr style=\"text-align: right;\">\n",
       "      <th></th>\n",
       "      <th>language</th>\n",
       "      <th>readme_contents</th>\n",
       "      <th>repo</th>\n",
       "    </tr>\n",
       "  </thead>\n",
       "  <tbody>\n",
       "    <tr>\n",
       "      <th>count</th>\n",
       "      <td>100</td>\n",
       "      <td>107</td>\n",
       "      <td>107</td>\n",
       "    </tr>\n",
       "    <tr>\n",
       "      <th>unique</th>\n",
       "      <td>18</td>\n",
       "      <td>107</td>\n",
       "      <td>107</td>\n",
       "    </tr>\n",
       "    <tr>\n",
       "      <th>top</th>\n",
       "      <td>JavaScript</td>\n",
       "      <td>nprviz's Project Template\\n===================...</td>\n",
       "      <td>rclone/rclone</td>\n",
       "    </tr>\n",
       "    <tr>\n",
       "      <th>freq</th>\n",
       "      <td>25</td>\n",
       "      <td>1</td>\n",
       "      <td>1</td>\n",
       "    </tr>\n",
       "  </tbody>\n",
       "</table>\n",
       "</div>"
      ],
      "text/plain": [
       "          language                                    readme_contents  \\\n",
       "count          100                                                107   \n",
       "unique          18                                                107   \n",
       "top     JavaScript  nprviz's Project Template\\n===================...   \n",
       "freq            25                                                  1   \n",
       "\n",
       "                 repo  \n",
       "count             107  \n",
       "unique            107  \n",
       "top     rclone/rclone  \n",
       "freq                1  "
      ]
     },
     "execution_count": 80,
     "metadata": {},
     "output_type": "execute_result"
    }
   ],
   "source": [
    "original_df.describe()"
   ]
  },
  {
   "cell_type": "code",
   "execution_count": 81,
   "metadata": {},
   "outputs": [
    {
     "name": "stdout",
     "output_type": "stream",
     "text": [
      "<class 'pandas.core.frame.DataFrame'>\n",
      "RangeIndex: 107 entries, 0 to 106\n",
      "Data columns (total 3 columns):\n",
      "language           100 non-null object\n",
      "readme_contents    107 non-null object\n",
      "repo               107 non-null object\n",
      "dtypes: object(3)\n",
      "memory usage: 2.6+ KB\n"
     ]
    }
   ],
   "source": [
    "original_df.info()"
   ]
  },
  {
   "cell_type": "code",
   "execution_count": 82,
   "metadata": {},
   "outputs": [],
   "source": [
    "original_df = original_df.dropna()"
   ]
  },
  {
   "cell_type": "code",
   "execution_count": 83,
   "metadata": {},
   "outputs": [
    {
     "data": {
      "text/plain": [
       "(100, 3)"
      ]
     },
     "execution_count": 83,
     "metadata": {},
     "output_type": "execute_result"
    }
   ],
   "source": [
    "original_df.shape"
   ]
  },
  {
   "cell_type": "code",
   "execution_count": 84,
   "metadata": {},
   "outputs": [],
   "source": [
    "original_df = original_df.reset_index()"
   ]
  },
  {
   "cell_type": "code",
   "execution_count": 85,
   "metadata": {},
   "outputs": [],
   "source": [
    "original_df = original_df.drop(columns='index')"
   ]
  },
  {
   "cell_type": "code",
   "execution_count": 86,
   "metadata": {},
   "outputs": [
    {
     "data": {
      "text/html": [
       "<div>\n",
       "<style scoped>\n",
       "    .dataframe tbody tr th:only-of-type {\n",
       "        vertical-align: middle;\n",
       "    }\n",
       "\n",
       "    .dataframe tbody tr th {\n",
       "        vertical-align: top;\n",
       "    }\n",
       "\n",
       "    .dataframe thead th {\n",
       "        text-align: right;\n",
       "    }\n",
       "</style>\n",
       "<table border=\"1\" class=\"dataframe\">\n",
       "  <thead>\n",
       "    <tr style=\"text-align: right;\">\n",
       "      <th></th>\n",
       "      <th>language</th>\n",
       "      <th>readme_contents</th>\n",
       "      <th>repo</th>\n",
       "    </tr>\n",
       "  </thead>\n",
       "  <tbody>\n",
       "    <tr>\n",
       "      <th>0</th>\n",
       "      <td>Python</td>\n",
       "      <td># AIDungeon2\\n\\n### The model for AI Dungeon2 ...</td>\n",
       "      <td>AIDungeon/AIDungeon</td>\n",
       "    </tr>\n",
       "    <tr>\n",
       "      <th>1</th>\n",
       "      <td>Go</td>\n",
       "      <td>[&lt;img src=\"https://rclone.org/img/logo_on_ligh...</td>\n",
       "      <td>rclone/rclone</td>\n",
       "    </tr>\n",
       "    <tr>\n",
       "      <th>2</th>\n",
       "      <td>Python</td>\n",
       "      <td># PythonPlantsVsZombies\\na simple PlantsVsZomb...</td>\n",
       "      <td>marblexu/PythonPlantsVsZombies</td>\n",
       "    </tr>\n",
       "    <tr>\n",
       "      <th>3</th>\n",
       "      <td>Rust</td>\n",
       "      <td>&lt;img alt=\"OrbTk\" width=\"380\" src=\"https://gitl...</td>\n",
       "      <td>redox-os/orbtk</td>\n",
       "    </tr>\n",
       "    <tr>\n",
       "      <th>4</th>\n",
       "      <td>C</td>\n",
       "      <td># UAC Bypass In The Wild\\nWindows 10 UAC bypas...</td>\n",
       "      <td>sailay1996/UAC_Bypass_In_The_Wild</td>\n",
       "    </tr>\n",
       "  </tbody>\n",
       "</table>\n",
       "</div>"
      ],
      "text/plain": [
       "  language                                    readme_contents  \\\n",
       "0   Python  # AIDungeon2\\n\\n### The model for AI Dungeon2 ...   \n",
       "1       Go  [<img src=\"https://rclone.org/img/logo_on_ligh...   \n",
       "2   Python  # PythonPlantsVsZombies\\na simple PlantsVsZomb...   \n",
       "3     Rust  <img alt=\"OrbTk\" width=\"380\" src=\"https://gitl...   \n",
       "4        C  # UAC Bypass In The Wild\\nWindows 10 UAC bypas...   \n",
       "\n",
       "                                repo  \n",
       "0                AIDungeon/AIDungeon  \n",
       "1                      rclone/rclone  \n",
       "2     marblexu/PythonPlantsVsZombies  \n",
       "3                     redox-os/orbtk  \n",
       "4  sailay1996/UAC_Bypass_In_The_Wild  "
      ]
     },
     "execution_count": 86,
     "metadata": {},
     "output_type": "execute_result"
    }
   ],
   "source": [
    "original_df.head()"
   ]
  },
  {
   "cell_type": "code",
   "execution_count": 87,
   "metadata": {},
   "outputs": [],
   "source": [
    "df = original_df[['language', 'readme_contents']]"
   ]
  },
  {
   "cell_type": "code",
   "execution_count": 89,
   "metadata": {},
   "outputs": [
    {
     "data": {
      "text/html": [
       "<div>\n",
       "<style scoped>\n",
       "    .dataframe tbody tr th:only-of-type {\n",
       "        vertical-align: middle;\n",
       "    }\n",
       "\n",
       "    .dataframe tbody tr th {\n",
       "        vertical-align: top;\n",
       "    }\n",
       "\n",
       "    .dataframe thead th {\n",
       "        text-align: right;\n",
       "    }\n",
       "</style>\n",
       "<table border=\"1\" class=\"dataframe\">\n",
       "  <thead>\n",
       "    <tr style=\"text-align: right;\">\n",
       "      <th></th>\n",
       "      <th>language</th>\n",
       "      <th>readme_contents</th>\n",
       "    </tr>\n",
       "  </thead>\n",
       "  <tbody>\n",
       "    <tr>\n",
       "      <th>0</th>\n",
       "      <td>Python</td>\n",
       "      <td># AIDungeon2\\n\\n### The model for AI Dungeon2 ...</td>\n",
       "    </tr>\n",
       "    <tr>\n",
       "      <th>1</th>\n",
       "      <td>Go</td>\n",
       "      <td>[&lt;img src=\"https://rclone.org/img/logo_on_ligh...</td>\n",
       "    </tr>\n",
       "    <tr>\n",
       "      <th>2</th>\n",
       "      <td>Python</td>\n",
       "      <td># PythonPlantsVsZombies\\na simple PlantsVsZomb...</td>\n",
       "    </tr>\n",
       "    <tr>\n",
       "      <th>3</th>\n",
       "      <td>Rust</td>\n",
       "      <td>&lt;img alt=\"OrbTk\" width=\"380\" src=\"https://gitl...</td>\n",
       "    </tr>\n",
       "    <tr>\n",
       "      <th>4</th>\n",
       "      <td>C</td>\n",
       "      <td># UAC Bypass In The Wild\\nWindows 10 UAC bypas...</td>\n",
       "    </tr>\n",
       "  </tbody>\n",
       "</table>\n",
       "</div>"
      ],
      "text/plain": [
       "  language                                    readme_contents\n",
       "0   Python  # AIDungeon2\\n\\n### The model for AI Dungeon2 ...\n",
       "1       Go  [<img src=\"https://rclone.org/img/logo_on_ligh...\n",
       "2   Python  # PythonPlantsVsZombies\\na simple PlantsVsZomb...\n",
       "3     Rust  <img alt=\"OrbTk\" width=\"380\" src=\"https://gitl...\n",
       "4        C  # UAC Bypass In The Wild\\nWindows 10 UAC bypas..."
      ]
     },
     "execution_count": 89,
     "metadata": {},
     "output_type": "execute_result"
    }
   ],
   "source": [
    "df.head()"
   ]
  },
  {
   "cell_type": "code",
   "execution_count": 93,
   "metadata": {},
   "outputs": [],
   "source": [
    "def normalize(string):\n",
    "    \"\"\"\n",
    "    Convert to all lowercase  \n",
    "    Normalize the unicode chars  \n",
    "    Remove any non-alpha or whitespace characters  \n",
    "    Remove any alpha strings with 2 characters or less  \n",
    "    \"\"\"\n",
    "    string = string.lower()\n",
    "    string = unicodedata.normalize('NFKD', string).encode('ascii', 'ignore').decode('utf-8', 'ignore')\n",
    "    \n",
    "    # keep only alpha chars\n",
    "    string = re.sub(r'[^a-z]', ' ', string)\n",
    "    \n",
    "    # remove strings less than 2 chars in length\n",
    "    string = re.sub(r'\\b[a-z]{,2}\\b', '', string)\n",
    "    \n",
    "    # convert newlines and tabs to a single space\n",
    "    string = re.sub(r'[\\r|\\n|\\r\\n]+', ' ', string)\n",
    "    \n",
    "    # strip extra whitespace\n",
    "    string = string.strip()\n",
    "    \n",
    "    return string\n",
    "\n",
    "df = df.assign(normalized = df.readme_contents.apply(normalize))"
   ]
  },
  {
   "cell_type": "code",
   "execution_count": 94,
   "metadata": {},
   "outputs": [
    {
     "data": {
      "text/html": [
       "<div>\n",
       "<style scoped>\n",
       "    .dataframe tbody tr th:only-of-type {\n",
       "        vertical-align: middle;\n",
       "    }\n",
       "\n",
       "    .dataframe tbody tr th {\n",
       "        vertical-align: top;\n",
       "    }\n",
       "\n",
       "    .dataframe thead th {\n",
       "        text-align: right;\n",
       "    }\n",
       "</style>\n",
       "<table border=\"1\" class=\"dataframe\">\n",
       "  <thead>\n",
       "    <tr style=\"text-align: right;\">\n",
       "      <th></th>\n",
       "      <th>language</th>\n",
       "      <th>readme_contents</th>\n",
       "      <th>normalized</th>\n",
       "    </tr>\n",
       "  </thead>\n",
       "  <tbody>\n",
       "    <tr>\n",
       "      <th>0</th>\n",
       "      <td>Python</td>\n",
       "      <td># AIDungeon2\\n\\n### The model for AI Dungeon2 ...</td>\n",
       "      <td>aidungeon       the model for  dungeon   tempo...</td>\n",
       "    </tr>\n",
       "    <tr>\n",
       "      <th>1</th>\n",
       "      <td>Go</td>\n",
       "      <td>[&lt;img src=\"https://rclone.org/img/logo_on_ligh...</td>\n",
       "      <td>img src  https   rclone org img logo  light  h...</td>\n",
       "    </tr>\n",
       "    <tr>\n",
       "      <th>2</th>\n",
       "      <td>Python</td>\n",
       "      <td># PythonPlantsVsZombies\\na simple PlantsVsZomb...</td>\n",
       "      <td>pythonplantsvszombies  simple plantsvszombies ...</td>\n",
       "    </tr>\n",
       "    <tr>\n",
       "      <th>3</th>\n",
       "      <td>Rust</td>\n",
       "      <td>&lt;img alt=\"OrbTk\" width=\"380\" src=\"https://gitl...</td>\n",
       "      <td>img alt  orbtk  width       src  https   gitla...</td>\n",
       "    </tr>\n",
       "    <tr>\n",
       "      <th>4</th>\n",
       "      <td>C</td>\n",
       "      <td># UAC Bypass In The Wild\\nWindows 10 UAC bypas...</td>\n",
       "      <td>uac bypass  the wild windows    uac bypass for...</td>\n",
       "    </tr>\n",
       "  </tbody>\n",
       "</table>\n",
       "</div>"
      ],
      "text/plain": [
       "  language                                    readme_contents  \\\n",
       "0   Python  # AIDungeon2\\n\\n### The model for AI Dungeon2 ...   \n",
       "1       Go  [<img src=\"https://rclone.org/img/logo_on_ligh...   \n",
       "2   Python  # PythonPlantsVsZombies\\na simple PlantsVsZomb...   \n",
       "3     Rust  <img alt=\"OrbTk\" width=\"380\" src=\"https://gitl...   \n",
       "4        C  # UAC Bypass In The Wild\\nWindows 10 UAC bypas...   \n",
       "\n",
       "                                          normalized  \n",
       "0  aidungeon       the model for  dungeon   tempo...  \n",
       "1  img src  https   rclone org img logo  light  h...  \n",
       "2  pythonplantsvszombies  simple plantsvszombies ...  \n",
       "3  img alt  orbtk  width       src  https   gitla...  \n",
       "4  uac bypass  the wild windows    uac bypass for...  "
      ]
     },
     "execution_count": 94,
     "metadata": {},
     "output_type": "execute_result"
    }
   ],
   "source": [
    "df.head()"
   ]
  },
  {
   "cell_type": "code",
   "execution_count": 97,
   "metadata": {},
   "outputs": [],
   "source": [
    "def stem(string):\n",
    "    ps = nltk.porter.PorterStemmer()\n",
    "    stems = [ps.stem(word) for word in string.split()]\n",
    "    string_of_stems = ' '.join(stems)\n",
    "    return string_of_stems"
   ]
  },
  {
   "cell_type": "code",
   "execution_count": 99,
   "metadata": {},
   "outputs": [],
   "source": [
    "def lemmatize(string):\n",
    "    wnl = nltk.stem.WordNetLemmatizer()\n",
    "    lemmas = [wnl.lemmatize(word) for word in string.split()]\n",
    "    string_of_lemmas = ' '.join(lemmas)\n",
    "    return string_of_lemmas"
   ]
  },
  {
   "cell_type": "code",
   "execution_count": 101,
   "metadata": {},
   "outputs": [],
   "source": [
    "def tokenize(string):\n",
    "    tokenizer = nltk.tokenize.ToktokTokenizer()\n",
    "    return tokenizer.tokenize(string, return_str=True)"
   ]
  },
  {
   "cell_type": "code",
   "execution_count": 495,
   "metadata": {},
   "outputs": [],
   "source": [
    "def remove_stopwords(tokenized_string, extra_words=['https', 'http', 'github', 'www', 'email','gmail', 'com', 'AIDungeon',\n",
    " 'AIDungeon',\n",
    " 'rclone',\n",
    " 'rclone',\n",
    " 'marblexu',\n",
    " 'PythonPlantsVsZombies',\n",
    " 'redox-os',\n",
    " 'orbtk',\n",
    " 'sailay1996',\n",
    " 'UAC_Bypass_In_The_Wild',\n",
    " 'ruanyf',\n",
    " 'weekly',\n",
    " 'alirezadir',\n",
    " 'Production-Level-Deep-Learning',\n",
    " 'sdmg15',\n",
    " 'Best-websites-a-programmer-should-visit',\n",
    " 'practicalAI',\n",
    " 'practicalAI',\n",
    " 'HuaweiJoke',\n",
    " 'Huawei-Joke',\n",
    " 'trekhleb',\n",
    " 'javascript-algorithms',\n",
    " '521xueweihan',\n",
    " 'HelloGitHub',\n",
    " 'getify',\n",
    " 'You-Dont-Know-JS',\n",
    " 'kdn251',\n",
    " 'interviews',\n",
    " 'eavichay',\n",
    " 'microfronts',\n",
    " 'goldbergyoni',\n",
    " 'nodebestpractices',\n",
    " 'wuyouzhuguli',\n",
    " 'SpringAll',\n",
    " 'halo-dev',\n",
    " 'halo',\n",
    " 'serverless',\n",
    " 'serverless',\n",
    " 'prometheus',\n",
    " 'client_golang',\n",
    " 'VMadalin',\n",
    " 'kotlin-sample-app',\n",
    " 'davidfowl',\n",
    " 'FeatherHttp',\n",
    " '0vercl0k',\n",
    " 'CVE-2019-11708',\n",
    " 'mrdoob',\n",
    " 'three.js',\n",
    " 'OfficeDev',\n",
    " 'office-ui-fabric-react',\n",
    " 'standard',\n",
    " 'standard',\n",
    " 'eslint',\n",
    " 'eslint',\n",
    " 'jshint',\n",
    " 'jshint',\n",
    " 'clutchski',\n",
    " 'coffeelint',\n",
    " 'csscomb',\n",
    " 'csscomb.js',\n",
    " 'sds',\n",
    " 'scss-lint',\n",
    " 'htmlhint',\n",
    " 'HTMLHint',\n",
    " 'validator',\n",
    " 'validator',\n",
    " 'CSSLint',\n",
    " 'csslint',\n",
    " 'PyCQA',\n",
    " 'pycodestyle',\n",
    " 'PyCQA',\n",
    " 'flake8',\n",
    " 'psf',\n",
    " 'black',\n",
    " 'checkstyle',\n",
    " 'checkstyle',\n",
    " 'rubocop-hq',\n",
    " 'rubocop',\n",
    " 'oclint',\n",
    " 'oclint',\n",
    " 'golang',\n",
    " 'lint',\n",
    " 'ndmitchell',\n",
    " 'hlint',\n",
    " 'coala',\n",
    " 'coala',\n",
    " 'pre-commit',\n",
    " 'pre-commit',\n",
    " 'innogames',\n",
    " 'igcommit',\n",
    " 'fivethirtyeight',\n",
    " 'data',\n",
    " 'datadesk',\n",
    " 'notebooks',\n",
    " 'nytimes',\n",
    " 'objective-c-style-guide',\n",
    " 'newsapps',\n",
    " 'beeswithmachineguns',\n",
    " 'voxmedia',\n",
    " 'meme',\n",
    " 'propublica',\n",
    " 'guides',\n",
    " 'censusreporter',\n",
    " 'censusreporter',\n",
    " 'nprapps',\n",
    " 'app-template',\n",
    " 'TimeMagazineLabs',\n",
    " 'babynames',\n",
    " 'guardian',\n",
    " 'frontend',\n",
    " 'dukechronicle',\n",
    " 'chronline',\n",
    " 'BloombergMedia',\n",
    " 'whatiscode',\n",
    " 'times',\n",
    " 'cardkit',\n",
    " 'mkiser',\n",
    " 'WTFJHT',\n",
    " 'twbs',\n",
    " 'bootstrap',\n",
    " 'daneden',\n",
    " 'animate.css',\n",
    " 'nathansmith',\n",
    " '960-Grid-System',\n",
    " 'necolas',\n",
    " 'normalize.css',\n",
    " 'ionic-team',\n",
    " 'ionicons',\n",
    " 'designmodo',\n",
    " 'Flat-UI',\n",
    " 'h5bp',\n",
    " 'html5-boilerplate',\n",
    " 'foundation',\n",
    " 'foundation-sites',\n",
    " 'Modernizr',\n",
    " 'Modernizr',\n",
    " 'twbs',\n",
    " 'ratchet',\n",
    " 'IanLunn',\n",
    " 'Hover',\n",
    " 'connors',\n",
    " 'photon',\n",
    " 'basscss',\n",
    " 'basscss',\n",
    " 'atlemo',\n",
    " 'SubtlePatterns',\n",
    " 'mrmrs',\n",
    " 'colors',\n",
    " 'beetbox',\n",
    " 'beets',\n",
    " 'scottschiller',\n",
    " 'SoundManager2',\n",
    " 'CreateJS',\n",
    " 'SoundJS',\n",
    " 'musescore',\n",
    " 'MuseScore',\n",
    " 'tomahawk-player',\n",
    " 'tomahawk',\n",
    " 'cashmusic',\n",
    " 'platform',\n",
    " 'mopidy',\n",
    " 'mopidy',\n",
    " 'AudioKit',\n",
    " 'AudioKit',\n",
    " 'Soundnode',\n",
    " 'soundnode-app',\n",
    " 'gillesdemey',\n",
    " 'Cumulus',\n",
    " 'metabrainz',\n",
    " 'picard',\n",
    " 'overtone',\n",
    " 'overtone',\n",
    " 'samaaron',\n",
    " 'sonic-pi',\n",
    " 'puppetlabs',\n",
    " 'puppet',\n",
    " 'chef',\n",
    " 'chef',\n",
    " 'ansible',\n",
    " 'ansible',\n",
    " 'saltstack',\n",
    " 'salt',\n",
    " 'hashicorp',\n",
    " 'vagrant',\n",
    " 'openstack',\n",
    " 'openstack',\n",
    " 'moby',\n",
    " 'moby',\n",
    " 'capistrano',\n",
    " 'capistrano',\n",
    " 'statsd',\n",
    " 'statsd',\n",
    " 'graphite-project',\n",
    " 'graphite-web',\n",
    " 'elastic',\n",
    " 'logstash',\n",
    " 'fabric',\n",
    " 'fabric',\n",
    " 'grafana',\n",
    " 'grafana',\n",
    " 'StackStorm',\n",
    " 'st2',\n",
    " 'openshift',\n",
    " 'origin',\n",
    " 'getsentry',\n",
    " 'sentry',\n",
    " 'deployphp',\n",
    " 'deployer',\n",
    " 'kubernetes',\n",
    " 'kubernetes',\n",
    " 'netdata',\n",
    " 'netdata',\n",
    " 'cloud66-oss',\n",
    " 'habitus'], exclude_words=[]):\n",
    "    words = tokenized_string.split()\n",
    "    stopword_list = stopwords.words('english')\n",
    "\n",
    "    # remove the excluded words from the stopword list\n",
    "    stopword_list = set(stopword_list) - set(exclude_words)\n",
    "\n",
    "    # add in the user specified extra words\n",
    "    stopword_list = stopword_list.union(set(extra_words))\n",
    "\n",
    "    filtered_words = [w for w in words if w not in stopword_list]\n",
    "    final_string = \" \".join(filtered_words)\n",
    "    return final_string"
   ]
  },
  {
   "cell_type": "code",
   "execution_count": 496,
   "metadata": {},
   "outputs": [
    {
     "data": {
      "text/html": [
       "<div>\n",
       "<style scoped>\n",
       "    .dataframe tbody tr th:only-of-type {\n",
       "        vertical-align: middle;\n",
       "    }\n",
       "\n",
       "    .dataframe tbody tr th {\n",
       "        vertical-align: top;\n",
       "    }\n",
       "\n",
       "    .dataframe thead th {\n",
       "        text-align: right;\n",
       "    }\n",
       "</style>\n",
       "<table border=\"1\" class=\"dataframe\">\n",
       "  <thead>\n",
       "    <tr style=\"text-align: right;\">\n",
       "      <th></th>\n",
       "      <th>index</th>\n",
       "      <th>language</th>\n",
       "      <th>readme_contents</th>\n",
       "      <th>normalized</th>\n",
       "      <th>original</th>\n",
       "      <th>stemmed</th>\n",
       "      <th>lemmatized</th>\n",
       "      <th>cleaned</th>\n",
       "    </tr>\n",
       "  </thead>\n",
       "  <tbody>\n",
       "    <tr>\n",
       "      <th>0</th>\n",
       "      <td>0</td>\n",
       "      <td>Python</td>\n",
       "      <td># AIDungeon2\\n\\n### The model for AI Dungeon2 ...</td>\n",
       "      <td>aidungeon       the model for  dungeon   tempo...</td>\n",
       "      <td># AIDungeon2\\n\\n### The model for AI Dungeon2 ...</td>\n",
       "      <td>aidungeon the model for dungeon temporarili un...</td>\n",
       "      <td>aidungeon the model for dungeon temporarily un...</td>\n",
       "      <td>aidungeon model dungeon temporarily unavailabl...</td>\n",
       "    </tr>\n",
       "    <tr>\n",
       "      <th>1</th>\n",
       "      <td>1</td>\n",
       "      <td>Go</td>\n",
       "      <td>[&lt;img src=\"https://rclone.org/img/logo_on_ligh...</td>\n",
       "      <td>img src  https   rclone org img logo  light  h...</td>\n",
       "      <td>[&lt;img src=\"https://rclone.org/img/logo_on_ligh...</td>\n",
       "      <td>img src http rclone org img logo light horizon...</td>\n",
       "      <td>img src http rclone org img logo light horizon...</td>\n",
       "      <td>img src org img logo light horizontal color sv...</td>\n",
       "    </tr>\n",
       "    <tr>\n",
       "      <th>2</th>\n",
       "      <td>2</td>\n",
       "      <td>Python</td>\n",
       "      <td># PythonPlantsVsZombies\\na simple PlantsVsZomb...</td>\n",
       "      <td>pythonplantsvszombies  simple plantsvszombies ...</td>\n",
       "      <td># PythonPlantsVsZombies\\na simple PlantsVsZomb...</td>\n",
       "      <td>pythonplantsvszombi simpl plantsvszombi game i...</td>\n",
       "      <td>pythonplantsvszombies simple plantsvszombies g...</td>\n",
       "      <td>pythonplantsvszombies simple plantsvszombies g...</td>\n",
       "    </tr>\n",
       "    <tr>\n",
       "      <th>3</th>\n",
       "      <td>4</td>\n",
       "      <td>C</td>\n",
       "      <td># UAC Bypass In The Wild\\nWindows 10 UAC bypas...</td>\n",
       "      <td>uac bypass  the wild windows    uac bypass for...</td>\n",
       "      <td># UAC Bypass In The Wild\\nWindows 10 UAC bypas...</td>\n",
       "      <td>uac bypass the wild window uac bypass for all ...</td>\n",
       "      <td>uac bypass the wild window uac bypass for all ...</td>\n",
       "      <td>uac bypass wild window uac bypass executable f...</td>\n",
       "    </tr>\n",
       "    <tr>\n",
       "      <th>4</th>\n",
       "      <td>5</td>\n",
       "      <td>Jupyter Notebook</td>\n",
       "      <td>&lt;div align=\"center\"&gt;\\n&lt;a href=\"https://practic...</td>\n",
       "      <td>div align  center     href  https   practicala...</td>\n",
       "      <td>&lt;div align=\"center\"&gt;\\n&lt;a href=\"https://practic...</td>\n",
       "      <td>div align center href http practicalai img src...</td>\n",
       "      <td>div align center href http practicalai img src...</td>\n",
       "      <td>div align center href practicalai img src raw ...</td>\n",
       "    </tr>\n",
       "  </tbody>\n",
       "</table>\n",
       "</div>"
      ],
      "text/plain": [
       "   index          language                                    readme_contents  \\\n",
       "0      0            Python  # AIDungeon2\\n\\n### The model for AI Dungeon2 ...   \n",
       "1      1                Go  [<img src=\"https://rclone.org/img/logo_on_ligh...   \n",
       "2      2            Python  # PythonPlantsVsZombies\\na simple PlantsVsZomb...   \n",
       "3      4                 C  # UAC Bypass In The Wild\\nWindows 10 UAC bypas...   \n",
       "4      5  Jupyter Notebook  <div align=\"center\">\\n<a href=\"https://practic...   \n",
       "\n",
       "                                          normalized  \\\n",
       "0  aidungeon       the model for  dungeon   tempo...   \n",
       "1  img src  https   rclone org img logo  light  h...   \n",
       "2  pythonplantsvszombies  simple plantsvszombies ...   \n",
       "3  uac bypass  the wild windows    uac bypass for...   \n",
       "4  div align  center     href  https   practicala...   \n",
       "\n",
       "                                            original  \\\n",
       "0  # AIDungeon2\\n\\n### The model for AI Dungeon2 ...   \n",
       "1  [<img src=\"https://rclone.org/img/logo_on_ligh...   \n",
       "2  # PythonPlantsVsZombies\\na simple PlantsVsZomb...   \n",
       "3  # UAC Bypass In The Wild\\nWindows 10 UAC bypas...   \n",
       "4  <div align=\"center\">\\n<a href=\"https://practic...   \n",
       "\n",
       "                                             stemmed  \\\n",
       "0  aidungeon the model for dungeon temporarili un...   \n",
       "1  img src http rclone org img logo light horizon...   \n",
       "2  pythonplantsvszombi simpl plantsvszombi game i...   \n",
       "3  uac bypass the wild window uac bypass for all ...   \n",
       "4  div align center href http practicalai img src...   \n",
       "\n",
       "                                          lemmatized  \\\n",
       "0  aidungeon the model for dungeon temporarily un...   \n",
       "1  img src http rclone org img logo light horizon...   \n",
       "2  pythonplantsvszombies simple plantsvszombies g...   \n",
       "3  uac bypass the wild window uac bypass for all ...   \n",
       "4  div align center href http practicalai img src...   \n",
       "\n",
       "                                             cleaned  \n",
       "0  aidungeon model dungeon temporarily unavailabl...  \n",
       "1  img src org img logo light horizontal color sv...  \n",
       "2  pythonplantsvszombies simple plantsvszombies g...  \n",
       "3  uac bypass wild window uac bypass executable f...  \n",
       "4  div align center href practicalai img src raw ...  "
      ]
     },
     "execution_count": 496,
     "metadata": {},
     "output_type": "execute_result"
    }
   ],
   "source": [
    "df = df.assign(original = df.readme_contents)\n",
    "\n",
    "df = df.assign(normalized = df.original.apply(normalize))\n",
    "\n",
    "df = df.assign(stemmed = df.normalized.apply(stem))\n",
    "df = df.assign(lemmatized = df.normalized.apply(lemmatize))\n",
    "\n",
    "df = df.assign(cleaned = df.lemmatized.apply(remove_stopwords))\n",
    "df.head()"
   ]
  },
  {
   "cell_type": "code",
   "execution_count": 497,
   "metadata": {},
   "outputs": [
    {
     "data": {
      "text/html": [
       "<div>\n",
       "<style scoped>\n",
       "    .dataframe tbody tr th:only-of-type {\n",
       "        vertical-align: middle;\n",
       "    }\n",
       "\n",
       "    .dataframe tbody tr th {\n",
       "        vertical-align: top;\n",
       "    }\n",
       "\n",
       "    .dataframe thead th {\n",
       "        text-align: right;\n",
       "    }\n",
       "</style>\n",
       "<table border=\"1\" class=\"dataframe\">\n",
       "  <thead>\n",
       "    <tr style=\"text-align: right;\">\n",
       "      <th></th>\n",
       "      <th>index</th>\n",
       "      <th>language</th>\n",
       "      <th>readme_contents</th>\n",
       "      <th>normalized</th>\n",
       "      <th>original</th>\n",
       "      <th>stemmed</th>\n",
       "      <th>lemmatized</th>\n",
       "      <th>cleaned</th>\n",
       "    </tr>\n",
       "  </thead>\n",
       "  <tbody>\n",
       "    <tr>\n",
       "      <th>89</th>\n",
       "      <td>95</td>\n",
       "      <td>Python</td>\n",
       "      <td>.. raw:: html\\n\\n   &lt;p align=\"center\"&gt;\\n     &lt;...</td>\n",
       "      <td>raw   html       align  center          align ...</td>\n",
       "      <td>.. raw:: html\\n\\n   &lt;p align=\"center\"&gt;\\n     &lt;...</td>\n",
       "      <td>raw html align center align center href http s...</td>\n",
       "      <td>raw html align center align center href http s...</td>\n",
       "      <td>raw html align center align center href utm so...</td>\n",
       "    </tr>\n",
       "    <tr>\n",
       "      <th>90</th>\n",
       "      <td>96</td>\n",
       "      <td>PHP</td>\n",
       "      <td># Deployer\\n\\n&lt;a href=\"https://travis-ci.org/d...</td>\n",
       "      <td>deployer    href  https   travis  org deployph...</td>\n",
       "      <td># Deployer\\n\\n&lt;a href=\"https://travis-ci.org/d...</td>\n",
       "      <td>deploy href http travi org deployphp deploy im...</td>\n",
       "      <td>deployer href http travis org deployphp deploy...</td>\n",
       "      <td>href travis org img src travis org svg branch ...</td>\n",
       "    </tr>\n",
       "    <tr>\n",
       "      <th>91</th>\n",
       "      <td>97</td>\n",
       "      <td>Go</td>\n",
       "      <td># Kubernetes\\n\\n[![GoDoc Widget]][GoDoc] [![CI...</td>\n",
       "      <td>kubernetes     godoc widget   godoc     cii be...</td>\n",
       "      <td># Kubernetes\\n\\n[![GoDoc Widget]][GoDoc] [![CI...</td>\n",
       "      <td>kubernet godoc widget godoc cii best practic h...</td>\n",
       "      <td>kubernetes godoc widget godoc cii best practic...</td>\n",
       "      <td>godoc widget godoc cii best practice bestpract...</td>\n",
       "    </tr>\n",
       "    <tr>\n",
       "      <th>92</th>\n",
       "      <td>98</td>\n",
       "      <td>C</td>\n",
       "      <td># Netdata [![Build Status](https://travis-ci.c...</td>\n",
       "      <td>netdata    build status  https   travis  com n...</td>\n",
       "      <td># Netdata [![Build Status](https://travis-ci.c...</td>\n",
       "      <td>netdata build statu http travi com netdata net...</td>\n",
       "      <td>netdata build status http travis com netdata n...</td>\n",
       "      <td>build status travis svg branch master travis c...</td>\n",
       "    </tr>\n",
       "    <tr>\n",
       "      <th>93</th>\n",
       "      <td>99</td>\n",
       "      <td>Go</td>\n",
       "      <td>&lt;img src=\"http://cdn2-cloud66-com.s3.amazonaws...</td>\n",
       "      <td>img src  http   cdn  cloud   com   amazonaws c...</td>\n",
       "      <td>&lt;img src=\"http://cdn2-cloud66-com.s3.amazonaws...</td>\n",
       "      <td>img src http cdn cloud com amazonaw com imag o...</td>\n",
       "      <td>img src http cdn cloud com amazonaws com image...</td>\n",
       "      <td>img src cdn cloud amazonaws image os sponsorsh...</td>\n",
       "    </tr>\n",
       "  </tbody>\n",
       "</table>\n",
       "</div>"
      ],
      "text/plain": [
       "    index language                                    readme_contents  \\\n",
       "89     95   Python  .. raw:: html\\n\\n   <p align=\"center\">\\n     <...   \n",
       "90     96      PHP  # Deployer\\n\\n<a href=\"https://travis-ci.org/d...   \n",
       "91     97       Go  # Kubernetes\\n\\n[![GoDoc Widget]][GoDoc] [![CI...   \n",
       "92     98        C  # Netdata [![Build Status](https://travis-ci.c...   \n",
       "93     99       Go  <img src=\"http://cdn2-cloud66-com.s3.amazonaws...   \n",
       "\n",
       "                                           normalized  \\\n",
       "89  raw   html       align  center          align ...   \n",
       "90  deployer    href  https   travis  org deployph...   \n",
       "91  kubernetes     godoc widget   godoc     cii be...   \n",
       "92  netdata    build status  https   travis  com n...   \n",
       "93  img src  http   cdn  cloud   com   amazonaws c...   \n",
       "\n",
       "                                             original  \\\n",
       "89  .. raw:: html\\n\\n   <p align=\"center\">\\n     <...   \n",
       "90  # Deployer\\n\\n<a href=\"https://travis-ci.org/d...   \n",
       "91  # Kubernetes\\n\\n[![GoDoc Widget]][GoDoc] [![CI...   \n",
       "92  # Netdata [![Build Status](https://travis-ci.c...   \n",
       "93  <img src=\"http://cdn2-cloud66-com.s3.amazonaws...   \n",
       "\n",
       "                                              stemmed  \\\n",
       "89  raw html align center align center href http s...   \n",
       "90  deploy href http travi org deployphp deploy im...   \n",
       "91  kubernet godoc widget godoc cii best practic h...   \n",
       "92  netdata build statu http travi com netdata net...   \n",
       "93  img src http cdn cloud com amazonaw com imag o...   \n",
       "\n",
       "                                           lemmatized  \\\n",
       "89  raw html align center align center href http s...   \n",
       "90  deployer href http travis org deployphp deploy...   \n",
       "91  kubernetes godoc widget godoc cii best practic...   \n",
       "92  netdata build status http travis com netdata n...   \n",
       "93  img src http cdn cloud com amazonaws com image...   \n",
       "\n",
       "                                              cleaned  \n",
       "89  raw html align center align center href utm so...  \n",
       "90  href travis org img src travis org svg branch ...  \n",
       "91  godoc widget godoc cii best practice bestpract...  \n",
       "92  build status travis svg branch master travis c...  \n",
       "93  img src cdn cloud amazonaws image os sponsorsh...  "
      ]
     },
     "execution_count": 497,
     "metadata": {},
     "output_type": "execute_result"
    }
   ],
   "source": [
    "df.tail()"
   ]
  },
  {
   "cell_type": "code",
   "execution_count": 498,
   "metadata": {},
   "outputs": [],
   "source": [
    "def prep_articles(df):\n",
    "    df = df.assign(original = df.readme_contents)\n",
    "    df = df.assign(normalized = df.original.apply(normalize))\n",
    "    df = df.assign(stemmed = df.normalized.apply(stem))\n",
    "    df = df.assign(lemmatized = df.normalized.apply(lemmatize))\n",
    "    df = df.assign(cleaned = df.lemmatized.apply(remove_stopwords))\n",
    "    df.drop(columns=[\"title\"], inplace=True)\n",
    "    return df"
   ]
  },
  {
   "cell_type": "code",
   "execution_count": 499,
   "metadata": {},
   "outputs": [],
   "source": [
    "raw_count = pd.Series(\" \".join(df.cleaned).split()).value_counts()"
   ]
  },
  {
   "cell_type": "code",
   "execution_count": 500,
   "metadata": {},
   "outputs": [
    {
     "data": {
      "text/plain": [
       "org                        593\n",
       "img                        530\n",
       "file                       466\n",
       "svg                        455\n",
       "src                        449\n",
       "html                       380\n",
       "doc                        341\n",
       "code                       339\n",
       "href                       324\n",
       "use                        318\n",
       "master                     292\n",
       "cs                         289\n",
       "project                    280\n",
       "license                    279\n",
       "plugin                     270\n",
       "badge                      262\n",
       "build                      242\n",
       "install                    219\n",
       "line                       217\n",
       "run                        213\n",
       "image                      210\n",
       "python                     208\n",
       "png                        200\n",
       "opencollective             197\n",
       "release                    197\n",
       "using                      194\n",
       "version                    190\n",
       "que                        189\n",
       "target                     185\n",
       "java                       185\n",
       "                          ... \n",
       "defect                       1\n",
       "gulpjs                       1\n",
       "giving                       1\n",
       "fadeindownbig                1\n",
       "fingerblast                  1\n",
       "documentingusingswagger      1\n",
       "termination                  1\n",
       "particione                   1\n",
       "cahvjavxngwiqu               1\n",
       "paintfence                   1\n",
       "wildcard                     1\n",
       "automatizada                 1\n",
       "jin                          1\n",
       "cid                          1\n",
       "microsservico                1\n",
       "graylog                      1\n",
       "redirecionar                 1\n",
       "instalar                     1\n",
       "internally                   1\n",
       "compromise                   1\n",
       "etapa                        1\n",
       "thomas                       1\n",
       "byu                          1\n",
       "configurando                 1\n",
       "somebody                     1\n",
       "revogar                      1\n",
       "lecturas                     1\n",
       "graphically                  1\n",
       "incerteza                    1\n",
       "period                       1\n",
       "Length: 9268, dtype: int64"
      ]
     },
     "execution_count": 500,
     "metadata": {},
     "output_type": "execute_result"
    }
   ],
   "source": [
    "raw_count"
   ]
  },
  {
   "cell_type": "code",
   "execution_count": 501,
   "metadata": {},
   "outputs": [
    {
     "data": {
      "text/plain": [
       "Text(0.5, 1.0, '10 most common words')"
      ]
     },
     "execution_count": 501,
     "metadata": {},
     "output_type": "execute_result"
    },
    {
     "data": {
      "image/png": "[encoded data removed]",
      "text/plain": [
       "<Figure size 792x576 with 1 Axes>"
      ]
     },
     "metadata": {
      "needs_background": "light"
     },
     "output_type": "display_data"
    }
   ],
   "source": [
    "raw_count.sort_values(ascending=False)[0:10].plot.barh(width=.9)\n",
    "plt.title('10 most common words')"
   ]
  },
  {
   "cell_type": "code",
   "execution_count": 502,
   "metadata": {},
   "outputs": [
    {
     "data": {
      "text/plain": [
       "'aidungeon model dungeon temporarily unavailable download due cost working solution read aidungeon wa built pcc byu edu dungeon creating infinitely generated text adventure deep learning language model play game colab aidungeon play game locally recommended nvidia gpu memory cuda installed gpu turn take couple minute game compose response install play locally git clone aidungeon aidungeon aidungeon install python play community aidungeon open source project question discussion contribution welcome contribution anything new package bugfixes documentation even new core feature resource website aidungeon aidungeon aidungeon twitter creator nickwalton twitter nickwalton dev benjbay twitter benjbay reddit aidungeon reddit aidungeon discord aidungeon discord discord vcz contributing contributing aidungeon relatively easy send pull request help article using pull request fork send request make develop destination branch aidungeon repository nickwalton aidungeon prefer pr pep python org dev pep pep compliant aidungeon us rough approximation git flow nvie post successful git branching model branching model develop branch contains latest contribution master always tagged point latest stable release'"
      ]
     },
     "execution_count": 502,
     "metadata": {},
     "output_type": "execute_result"
    }
   ],
   "source": [
    "df.cleaned[0]"
   ]
  },
  {
   "cell_type": "code",
   "execution_count": 503,
   "metadata": {},
   "outputs": [],
   "source": [
    "def idf(word):\n",
    "    n_occurrences = sum([1 for doc in df.cleaned if word in doc])\n",
    "    n_docs = len(df.cleaned)\n",
    "    idf = np.log(n_docs/n_occurrences)\n",
    "    return idf"
   ]
  },
  {
   "cell_type": "code",
   "execution_count": 504,
   "metadata": {},
   "outputs": [
    {
     "data": {
      "text/plain": [
       "numpy.ndarray"
      ]
     },
     "execution_count": 504,
     "metadata": {},
     "output_type": "execute_result"
    }
   ],
   "source": [
    "part1 = ' '.join(df.cleaned)\n",
    "part2 = part1.split()\n",
    "part3 = pd.Series(part2)\n",
    "# print(part3.value_counts())\n",
    "\n",
    "part4 = part3.unique()\n",
    "type(part4)\n",
    "# confirm that those words that existed multiple times, are now only represented once in the unique_words list. \n",
    "# print(pd.Series(part4).value_counts())"
   ]
  },
  {
   "cell_type": "code",
   "execution_count": 505,
   "metadata": {},
   "outputs": [
    {
     "data": {
      "text/plain": [
       "array(['aidungeon', 'model', 'dungeon', ..., 'healthy', 'downstream',\n",
       "       'schema'], dtype=object)"
      ]
     },
     "execution_count": 505,
     "metadata": {},
     "output_type": "execute_result"
    }
   ],
   "source": [
    "part4"
   ]
  },
  {
   "cell_type": "code",
   "execution_count": 506,
   "metadata": {},
   "outputs": [],
   "source": [
    "unique_words = pd.Series(' '.join(df.cleaned).split()).unique()"
   ]
  },
  {
   "cell_type": "code",
   "execution_count": 507,
   "metadata": {},
   "outputs": [
    {
     "data": {
      "text/html": [
       "<div>\n",
       "<style scoped>\n",
       "    .dataframe tbody tr th:only-of-type {\n",
       "        vertical-align: middle;\n",
       "    }\n",
       "\n",
       "    .dataframe tbody tr th {\n",
       "        vertical-align: top;\n",
       "    }\n",
       "\n",
       "    .dataframe thead th {\n",
       "        text-align: right;\n",
       "    }\n",
       "</style>\n",
       "<table border=\"1\" class=\"dataframe\">\n",
       "  <thead>\n",
       "    <tr style=\"text-align: right;\">\n",
       "      <th></th>\n",
       "      <th>idf</th>\n",
       "    </tr>\n",
       "    <tr>\n",
       "      <th>word</th>\n",
       "      <th></th>\n",
       "    </tr>\n",
       "  </thead>\n",
       "  <tbody>\n",
       "    <tr>\n",
       "      <th>aidungeon</th>\n",
       "      <td>4.543295</td>\n",
       "    </tr>\n",
       "    <tr>\n",
       "      <th>dynamodb</th>\n",
       "      <td>4.543295</td>\n",
       "    </tr>\n",
       "    <tr>\n",
       "      <th>consequently</th>\n",
       "      <td>4.543295</td>\n",
       "    </tr>\n",
       "    <tr>\n",
       "      <th>simplehttpserver</th>\n",
       "      <td>4.543295</td>\n",
       "    </tr>\n",
       "    <tr>\n",
       "      <th>eahefnawy</th>\n",
       "      <td>4.543295</td>\n",
       "    </tr>\n",
       "  </tbody>\n",
       "</table>\n",
       "</div>"
      ],
      "text/plain": [
       "                       idf\n",
       "word                      \n",
       "aidungeon         4.543295\n",
       "dynamodb          4.543295\n",
       "consequently      4.543295\n",
       "simplehttpserver  4.543295\n",
       "eahefnawy         4.543295"
      ]
     },
     "execution_count": 507,
     "metadata": {},
     "output_type": "execute_result"
    }
   ],
   "source": [
    "word_df = pd.DataFrame(dict(word = unique_words))\n",
    "word_df.head()\n",
    "\n",
    "word_df = word_df.assign(idf = lambda df: df.word.apply(idf))\n",
    "\n",
    "word_df.set_index('word').sort_values(by='idf', ascending = False).head(5)"
   ]
  },
  {
   "cell_type": "code",
   "execution_count": 508,
   "metadata": {},
   "outputs": [
    {
     "data": {
      "text/html": [
       "<div>\n",
       "<style scoped>\n",
       "    .dataframe tbody tr th:only-of-type {\n",
       "        vertical-align: middle;\n",
       "    }\n",
       "\n",
       "    .dataframe tbody tr th {\n",
       "        vertical-align: top;\n",
       "    }\n",
       "\n",
       "    .dataframe thead th {\n",
       "        text-align: right;\n",
       "    }\n",
       "</style>\n",
       "<table border=\"1\" class=\"dataframe\">\n",
       "  <thead>\n",
       "    <tr style=\"text-align: right;\">\n",
       "      <th></th>\n",
       "      <th>idf</th>\n",
       "    </tr>\n",
       "    <tr>\n",
       "      <th>word</th>\n",
       "      <th></th>\n",
       "    </tr>\n",
       "  </thead>\n",
       "  <tbody>\n",
       "    <tr>\n",
       "      <th>aidungeon</th>\n",
       "      <td>4.543295</td>\n",
       "    </tr>\n",
       "    <tr>\n",
       "      <th>dynamodb</th>\n",
       "      <td>4.543295</td>\n",
       "    </tr>\n",
       "    <tr>\n",
       "      <th>consequently</th>\n",
       "      <td>4.543295</td>\n",
       "    </tr>\n",
       "    <tr>\n",
       "      <th>simplehttpserver</th>\n",
       "      <td>4.543295</td>\n",
       "    </tr>\n",
       "    <tr>\n",
       "      <th>eahefnawy</th>\n",
       "      <td>4.543295</td>\n",
       "    </tr>\n",
       "  </tbody>\n",
       "</table>\n",
       "</div>"
      ],
      "text/plain": [
       "                       idf\n",
       "word                      \n",
       "aidungeon         4.543295\n",
       "dynamodb          4.543295\n",
       "consequently      4.543295\n",
       "simplehttpserver  4.543295\n",
       "eahefnawy         4.543295"
      ]
     },
     "execution_count": 508,
     "metadata": {},
     "output_type": "execute_result"
    }
   ],
   "source": [
    "# put in a dataframe\n",
    "idf_df = pd.DataFrame(dict(word = unique_words))\\\n",
    "    .assign(idf = lambda df: df.word.apply(idf))\\\n",
    "    .set_index('word').sort_values(by='idf', ascending = False)\n",
    "\n",
    "idf_df.head(5)"
   ]
  },
  {
   "cell_type": "code",
   "execution_count": 509,
   "metadata": {},
   "outputs": [],
   "source": [
    "documents = df.cleaned.to_dict()"
   ]
  },
  {
   "cell_type": "code",
   "execution_count": 510,
   "metadata": {},
   "outputs": [],
   "source": [
    "from sklearn.feature_extraction.text import TfidfVectorizer\n",
    "\n",
    "tfidf = TfidfVectorizer()\n",
    "tfidfs = tfidf.fit_transform(documents.values())"
   ]
  },
  {
   "cell_type": "code",
   "execution_count": 511,
   "metadata": {},
   "outputs": [
    {
     "data": {
      "text/html": [
       "<div>\n",
       "<style scoped>\n",
       "    .dataframe tbody tr th:only-of-type {\n",
       "        vertical-align: middle;\n",
       "    }\n",
       "\n",
       "    .dataframe tbody tr th {\n",
       "        vertical-align: top;\n",
       "    }\n",
       "\n",
       "    .dataframe thead th {\n",
       "        text-align: right;\n",
       "    }\n",
       "</style>\n",
       "<table border=\"1\" class=\"dataframe\">\n",
       "  <thead>\n",
       "    <tr style=\"text-align: right;\">\n",
       "      <th></th>\n",
       "      <th>aaa</th>\n",
       "      <th>aaaaaa</th>\n",
       "      <th>aac</th>\n",
       "      <th>aacecc</th>\n",
       "      <th>aaf</th>\n",
       "      <th>aaojmfs</th>\n",
       "      <th>aardvark</th>\n",
       "      <th>ab</th>\n",
       "      <th>aba</th>\n",
       "      <th>abaixo</th>\n",
       "      <th>...</th>\n",
       "      <th>zram</th>\n",
       "      <th>zrzmjddxrve</th>\n",
       "      <th>zsol</th>\n",
       "      <th>zsolt</th>\n",
       "      <th>zulip</th>\n",
       "      <th>zulipchat</th>\n",
       "      <th>zurb</th>\n",
       "      <th>zuul</th>\n",
       "      <th>zvrw</th>\n",
       "      <th>zxuypkodwof</th>\n",
       "    </tr>\n",
       "  </thead>\n",
       "  <tbody>\n",
       "    <tr>\n",
       "      <th>0</th>\n",
       "      <td>0.0</td>\n",
       "      <td>0.0</td>\n",
       "      <td>0.0</td>\n",
       "      <td>0.0</td>\n",
       "      <td>0.0</td>\n",
       "      <td>0.0</td>\n",
       "      <td>0.0</td>\n",
       "      <td>0.0</td>\n",
       "      <td>0.0</td>\n",
       "      <td>0.0</td>\n",
       "      <td>...</td>\n",
       "      <td>0.0</td>\n",
       "      <td>0.0</td>\n",
       "      <td>0.0</td>\n",
       "      <td>0.0</td>\n",
       "      <td>0.0</td>\n",
       "      <td>0.0</td>\n",
       "      <td>0.0</td>\n",
       "      <td>0.0</td>\n",
       "      <td>0.0</td>\n",
       "      <td>0.0</td>\n",
       "    </tr>\n",
       "    <tr>\n",
       "      <th>1</th>\n",
       "      <td>0.0</td>\n",
       "      <td>0.0</td>\n",
       "      <td>0.0</td>\n",
       "      <td>0.0</td>\n",
       "      <td>0.0</td>\n",
       "      <td>0.0</td>\n",
       "      <td>0.0</td>\n",
       "      <td>0.0</td>\n",
       "      <td>0.0</td>\n",
       "      <td>0.0</td>\n",
       "      <td>...</td>\n",
       "      <td>0.0</td>\n",
       "      <td>0.0</td>\n",
       "      <td>0.0</td>\n",
       "      <td>0.0</td>\n",
       "      <td>0.0</td>\n",
       "      <td>0.0</td>\n",
       "      <td>0.0</td>\n",
       "      <td>0.0</td>\n",
       "      <td>0.0</td>\n",
       "      <td>0.0</td>\n",
       "    </tr>\n",
       "    <tr>\n",
       "      <th>2</th>\n",
       "      <td>0.0</td>\n",
       "      <td>0.0</td>\n",
       "      <td>0.0</td>\n",
       "      <td>0.0</td>\n",
       "      <td>0.0</td>\n",
       "      <td>0.0</td>\n",
       "      <td>0.0</td>\n",
       "      <td>0.0</td>\n",
       "      <td>0.0</td>\n",
       "      <td>0.0</td>\n",
       "      <td>...</td>\n",
       "      <td>0.0</td>\n",
       "      <td>0.0</td>\n",
       "      <td>0.0</td>\n",
       "      <td>0.0</td>\n",
       "      <td>0.0</td>\n",
       "      <td>0.0</td>\n",
       "      <td>0.0</td>\n",
       "      <td>0.0</td>\n",
       "      <td>0.0</td>\n",
       "      <td>0.0</td>\n",
       "    </tr>\n",
       "    <tr>\n",
       "      <th>3</th>\n",
       "      <td>0.0</td>\n",
       "      <td>0.0</td>\n",
       "      <td>0.0</td>\n",
       "      <td>0.0</td>\n",
       "      <td>0.0</td>\n",
       "      <td>0.0</td>\n",
       "      <td>0.0</td>\n",
       "      <td>0.0</td>\n",
       "      <td>0.0</td>\n",
       "      <td>0.0</td>\n",
       "      <td>...</td>\n",
       "      <td>0.0</td>\n",
       "      <td>0.0</td>\n",
       "      <td>0.0</td>\n",
       "      <td>0.0</td>\n",
       "      <td>0.0</td>\n",
       "      <td>0.0</td>\n",
       "      <td>0.0</td>\n",
       "      <td>0.0</td>\n",
       "      <td>0.0</td>\n",
       "      <td>0.0</td>\n",
       "    </tr>\n",
       "    <tr>\n",
       "      <th>4</th>\n",
       "      <td>0.0</td>\n",
       "      <td>0.0</td>\n",
       "      <td>0.0</td>\n",
       "      <td>0.0</td>\n",
       "      <td>0.0</td>\n",
       "      <td>0.0</td>\n",
       "      <td>0.0</td>\n",
       "      <td>0.0</td>\n",
       "      <td>0.0</td>\n",
       "      <td>0.0</td>\n",
       "      <td>...</td>\n",
       "      <td>0.0</td>\n",
       "      <td>0.0</td>\n",
       "      <td>0.0</td>\n",
       "      <td>0.0</td>\n",
       "      <td>0.0</td>\n",
       "      <td>0.0</td>\n",
       "      <td>0.0</td>\n",
       "      <td>0.0</td>\n",
       "      <td>0.0</td>\n",
       "      <td>0.0</td>\n",
       "    </tr>\n",
       "  </tbody>\n",
       "</table>\n",
       "<p>5 rows × 9266 columns</p>\n",
       "</div>"
      ],
      "text/plain": [
       "   aaa  aaaaaa  aac  aacecc  aaf  aaojmfs  aardvark   ab  aba  abaixo  ...  \\\n",
       "0  0.0     0.0  0.0     0.0  0.0      0.0       0.0  0.0  0.0     0.0  ...   \n",
       "1  0.0     0.0  0.0     0.0  0.0      0.0       0.0  0.0  0.0     0.0  ...   \n",
       "2  0.0     0.0  0.0     0.0  0.0      0.0       0.0  0.0  0.0     0.0  ...   \n",
       "3  0.0     0.0  0.0     0.0  0.0      0.0       0.0  0.0  0.0     0.0  ...   \n",
       "4  0.0     0.0  0.0     0.0  0.0      0.0       0.0  0.0  0.0     0.0  ...   \n",
       "\n",
       "   zram  zrzmjddxrve  zsol  zsolt  zulip  zulipchat  zurb  zuul  zvrw  \\\n",
       "0   0.0          0.0   0.0    0.0    0.0        0.0   0.0   0.0   0.0   \n",
       "1   0.0          0.0   0.0    0.0    0.0        0.0   0.0   0.0   0.0   \n",
       "2   0.0          0.0   0.0    0.0    0.0        0.0   0.0   0.0   0.0   \n",
       "3   0.0          0.0   0.0    0.0    0.0        0.0   0.0   0.0   0.0   \n",
       "4   0.0          0.0   0.0    0.0    0.0        0.0   0.0   0.0   0.0   \n",
       "\n",
       "   zxuypkodwof  \n",
       "0          0.0  \n",
       "1          0.0  \n",
       "2          0.0  \n",
       "3          0.0  \n",
       "4          0.0  \n",
       "\n",
       "[5 rows x 9266 columns]"
      ]
     },
     "execution_count": 511,
     "metadata": {},
     "output_type": "execute_result"
    }
   ],
   "source": [
    "features_df = pd.DataFrame(tfidfs.todense(), columns=tfidf.get_feature_names())\n",
    "features_df.head()"
   ]
  },
  {
   "cell_type": "markdown",
   "metadata": {},
   "source": [
    "# Modeling"
   ]
  },
  {
   "cell_type": "code",
   "execution_count": 512,
   "metadata": {},
   "outputs": [
    {
     "name": "stdout",
     "output_type": "stream",
     "text": [
      "Object `index` not found.\n"
     ]
    }
   ],
   "source": [
    "df.language.value_counts()[df.language.value_counts() == 1].index]"
   ]
  },
  {
   "cell_type": "code",
   "execution_count": null,
   "metadata": {},
   "outputs": [],
   "source": [
    "df.language.value_counts()[df.language.value_counts() == 1].index"
   ]
  },
  {
   "cell_type": "code",
   "execution_count": 513,
   "metadata": {},
   "outputs": [
    {
     "data": {
      "text/plain": [
       "[]"
      ]
     },
     "execution_count": 513,
     "metadata": {},
     "output_type": "execute_result"
    }
   ],
   "source": [
    "list(df.language.value_counts()[df.language.value_counts() == 1].index)"
   ]
  },
  {
   "cell_type": "code",
   "execution_count": 514,
   "metadata": {},
   "outputs": [],
   "source": [
    "# df[df.language == 'Kotlin']\n",
    "# df = df.drop(15)\n",
    "# df[df.language == 'C#']\n",
    "# df = df.drop(16)\n",
    "# df[df.language == 'CoffeeScript']\n",
    "# df = df.drop(23)\n",
    "# df[df.language == 'Clojure']\n",
    "# df = df.drop(78)\n",
    "# df[df.language == 'Haskell']\n",
    "# df = df.drop(36)\n",
    "# df[df.language == 'Rust']\n",
    "# df = df.drop(3)"
   ]
  },
  {
   "cell_type": "code",
   "execution_count": 515,
   "metadata": {},
   "outputs": [],
   "source": [
    "df = df.reset_index()"
   ]
  },
  {
   "cell_type": "markdown",
   "metadata": {},
   "source": [
    "### Logistic Regression"
   ]
  },
  {
   "cell_type": "code",
   "execution_count": 516,
   "metadata": {},
   "outputs": [],
   "source": [
    "from sklearn.model_selection import train_test_split\n",
    "from sklearn.linear_model import LogisticRegression\n",
    "from sklearn.metrics import classification_report, accuracy_score\n",
    "\n",
    "# df = pd.read_csv('./data/spam_clean.csv')\n",
    "# df.head()\n",
    "\n",
    "tfidf = TfidfVectorizer()\n",
    "X = tfidf.fit_transform(df.cleaned)\n",
    "y = df.language\n",
    "\n",
    "X_train, X_test, y_train, y_test = train_test_split(X, y, stratify=y, test_size=.2)\n",
    "\n",
    "train = pd.DataFrame(dict(actual=y_train))\n",
    "test = pd.DataFrame(dict(actual=y_test))\n",
    "\n",
    "lm = LogisticRegression().fit(X_train, y_train)\n",
    "\n",
    "train['predicted'] = lm.predict(X_train)\n",
    "test['predicted'] = lm.predict(X_test)"
   ]
  },
  {
   "cell_type": "code",
   "execution_count": 517,
   "metadata": {},
   "outputs": [
    {
     "name": "stdout",
     "output_type": "stream",
     "text": [
      "---\n",
      "Confusion Matrix\n",
      "actual      C  C++  CSS  Go  HTML  Java  JavaScript  Jupyter Notebook  PHP  \\\n",
      "predicted                                                                    \n",
      "CSS         0    0    7   0     0     0           0                 0    0   \n",
      "JavaScript  2    3    0   5     4     4          20                 2    2   \n",
      "Python      0    0    0   0     0     0           0                 0    0   \n",
      "Ruby        0    0    0   0     0     0           0                 0    0   \n",
      "\n",
      "actual      Python  Ruby  TypeScript  \n",
      "predicted                             \n",
      "CSS              0     0           0  \n",
      "JavaScript       0     3           3  \n",
      "Python          16     0           0  \n",
      "Ruby             0     4           0  \n",
      "---\n"
     ]
    }
   ],
   "source": [
    "print('---')\n",
    "print('Confusion Matrix')\n",
    "print(pd.crosstab(train.predicted, train.actual))\n",
    "print('---')\n",
    "# print(classification_report(train.actual, train.predicted))"
   ]
  },
  {
   "cell_type": "code",
   "execution_count": 518,
   "metadata": {},
   "outputs": [
    {
     "name": "stdout",
     "output_type": "stream",
     "text": [
      "Accuracy: 31.58%\n",
      "---\n",
      "Confusion Matrix\n",
      "actual      C++  CSS  Go  HTML  Java  JavaScript  Python  Ruby  TypeScript\n",
      "predicted                                                                 \n",
      "JavaScript    0    2   2     1     1           5       3     2           1\n",
      "Python        1    0   0     0     0           0       1     0           0\n",
      "---\n",
      "              precision    recall  f1-score   support\n",
      "\n",
      "         C++       0.00      0.00      0.00         1\n",
      "         CSS       0.00      0.00      0.00         2\n",
      "          Go       0.00      0.00      0.00         2\n",
      "        HTML       0.00      0.00      0.00         1\n",
      "        Java       0.00      0.00      0.00         1\n",
      "  JavaScript       0.29      1.00      0.45         5\n",
      "      Python       0.50      0.25      0.33         4\n",
      "        Ruby       0.00      0.00      0.00         2\n",
      "  TypeScript       0.00      0.00      0.00         1\n",
      "\n",
      "    accuracy                           0.32        19\n",
      "   macro avg       0.09      0.14      0.09        19\n",
      "weighted avg       0.18      0.32      0.19        19\n",
      "\n"
     ]
    }
   ],
   "source": [
    "print('Accuracy: {:.2%}'.format(accuracy_score(test.actual, test.predicted)))\n",
    "print('---')\n",
    "print('Confusion Matrix')\n",
    "print(pd.crosstab(test.predicted, test.actual))\n",
    "print('---') \n",
    "print(classification_report(test.actual, test.predicted))"
   ]
  },
  {
   "cell_type": "markdown",
   "metadata": {},
   "source": [
    "### "
   ]
  },
  {
   "cell_type": "markdown",
   "metadata": {},
   "source": [
    "### Decision Tree"
   ]
  },
  {
   "cell_type": "code",
   "execution_count": 519,
   "metadata": {},
   "outputs": [
    {
     "data": {
      "text/plain": [
       "DecisionTreeClassifier(class_weight=None, criterion='entropy', max_depth=3,\n",
       "                       max_features=None, max_leaf_nodes=None,\n",
       "                       min_impurity_decrease=0.0, min_impurity_split=None,\n",
       "                       min_samples_leaf=1, min_samples_split=2,\n",
       "                       min_weight_fraction_leaf=0.0, presort=False,\n",
       "                       random_state=123, splitter='best')"
      ]
     },
     "execution_count": 519,
     "metadata": {},
     "output_type": "execute_result"
    }
   ],
   "source": [
    "from sklearn.model_selection import train_test_split\n",
    "from sklearn.tree import DecisionTreeClassifier\n",
    "from sklearn.tree import export_graphviz\n",
    "from sklearn.metrics import classification_report\n",
    "from sklearn.metrics import confusion_matrix\n",
    "\n",
    "clf = DecisionTreeClassifier(criterion='entropy', max_depth=3, random_state=123)\n",
    "\n",
    "clf.fit(X_train, y_train)"
   ]
  },
  {
   "cell_type": "code",
   "execution_count": 520,
   "metadata": {},
   "outputs": [
    {
     "name": "stdout",
     "output_type": "stream",
     "text": [
      "[0. 0. 0. ... 0. 0. 0.]\n"
     ]
    }
   ],
   "source": [
    "print(clf.feature_importances_)"
   ]
  },
  {
   "cell_type": "code",
   "execution_count": 521,
   "metadata": {},
   "outputs": [
    {
     "data": {
      "text/plain": [
       "array(['JavaScript', 'JavaScript', 'JavaScript', 'JavaScript',\n",
       "       'JavaScript', 'Ruby', 'CSS', 'Ruby', 'Ruby', 'Python', 'Ruby',\n",
       "       'JavaScript', 'JavaScript', 'JavaScript', 'Ruby', 'JavaScript',\n",
       "       'Ruby', 'Python', 'Python', 'Python', 'JavaScript', 'Python',\n",
       "       'JavaScript', 'JavaScript', 'JavaScript', 'Python', 'JavaScript',\n",
       "       'C', 'JavaScript', 'JavaScript', 'JavaScript', 'JavaScript',\n",
       "       'JavaScript', 'Python', 'Python', 'JavaScript', 'JavaScript',\n",
       "       'JavaScript', 'CSS', 'TypeScript', 'JavaScript', 'Ruby', 'Ruby',\n",
       "       'JavaScript', 'JavaScript', 'JavaScript', 'C', 'CSS', 'Ruby',\n",
       "       'Python', 'CSS', 'JavaScript', 'JavaScript', 'JavaScript',\n",
       "       'JavaScript', 'JavaScript', 'Ruby', 'Python', 'JavaScript', 'Ruby',\n",
       "       'Ruby', 'JavaScript', 'JavaScript', 'CSS', 'JavaScript',\n",
       "       'JavaScript', 'Python', 'JavaScript', 'Python', 'JavaScript',\n",
       "       'Ruby', 'JavaScript', 'JavaScript', 'JavaScript', 'JavaScript'],\n",
       "      dtype=object)"
      ]
     },
     "execution_count": 521,
     "metadata": {},
     "output_type": "execute_result"
    }
   ],
   "source": [
    "y_pred = clf.predict(X_train)\n",
    "y_pred"
   ]
  },
  {
   "cell_type": "code",
   "execution_count": 522,
   "metadata": {},
   "outputs": [],
   "source": [
    "y_pred_proba = clf.predict_proba(X_train)\n",
    "# y_pred_proba"
   ]
  },
  {
   "cell_type": "code",
   "execution_count": 523,
   "metadata": {},
   "outputs": [
    {
     "name": "stdout",
     "output_type": "stream",
     "text": [
      "Accuracy of Decision Tree classifier on training set: 0.59\n"
     ]
    }
   ],
   "source": [
    "print('Accuracy of Decision Tree classifier on training set: {:.2f}'\n",
    "     .format(clf.score(X_train, y_train)))"
   ]
  },
  {
   "cell_type": "code",
   "execution_count": 524,
   "metadata": {},
   "outputs": [
    {
     "data": {
      "text/plain": [
       "array([[ 1,  0,  0,  0,  0,  0,  1,  0,  0,  0,  0,  0],\n",
       "       [ 0,  0,  0,  0,  0,  0,  3,  0,  0,  0,  0,  0],\n",
       "       [ 0,  0,  5,  0,  0,  0,  0,  0,  0,  0,  2,  0],\n",
       "       [ 0,  0,  0,  0,  0,  0,  3,  0,  0,  0,  2,  0],\n",
       "       [ 0,  0,  0,  0,  0,  0,  1,  0,  0,  0,  3,  0],\n",
       "       [ 1,  0,  0,  0,  0,  0,  3,  0,  0,  0,  0,  0],\n",
       "       [ 0,  0,  0,  0,  0,  0, 20,  0,  0,  0,  0,  0],\n",
       "       [ 0,  0,  0,  0,  0,  0,  2,  0,  0,  0,  0,  0],\n",
       "       [ 0,  0,  0,  0,  0,  0,  2,  0,  0,  0,  0,  0],\n",
       "       [ 0,  0,  0,  0,  0,  0,  4,  0,  0, 12,  0,  0],\n",
       "       [ 0,  0,  0,  0,  0,  0,  2,  0,  0,  0,  5,  0],\n",
       "       [ 0,  0,  0,  0,  0,  0,  1,  0,  0,  0,  1,  1]])"
      ]
     },
     "execution_count": 524,
     "metadata": {},
     "output_type": "execute_result"
    }
   ],
   "source": [
    "confusion_matrix(y_train, y_pred)"
   ]
  },
  {
   "cell_type": "markdown",
   "metadata": {},
   "source": [
    "### Random Forest"
   ]
  },
  {
   "cell_type": "code",
   "execution_count": 525,
   "metadata": {},
   "outputs": [],
   "source": [
    "from sklearn.model_selection import train_test_split\n",
    "from sklearn.ensemble import RandomForestClassifier\n",
    "from sklearn.metrics import classification_report\n",
    "from sklearn.metrics import confusion_matrix"
   ]
  },
  {
   "cell_type": "code",
   "execution_count": 526,
   "metadata": {},
   "outputs": [],
   "source": [
    "rf = RandomForestClassifier(bootstrap=True, \n",
    "                            class_weight=None, \n",
    "                            criterion='gini',\n",
    "                            min_samples_leaf=10,\n",
    "                            n_estimators=100,\n",
    "                            max_depth=4, \n",
    "                            random_state=123)"
   ]
  },
  {
   "cell_type": "code",
   "execution_count": 527,
   "metadata": {},
   "outputs": [
    {
     "data": {
      "text/plain": [
       "RandomForestClassifier(bootstrap=True, class_weight=None, criterion='gini',\n",
       "                       max_depth=4, max_features='auto', max_leaf_nodes=None,\n",
       "                       min_impurity_decrease=0.0, min_impurity_split=None,\n",
       "                       min_samples_leaf=10, min_samples_split=2,\n",
       "                       min_weight_fraction_leaf=0.0, n_estimators=100,\n",
       "                       n_jobs=None, oob_score=False, random_state=123,\n",
       "                       verbose=0, warm_start=False)"
      ]
     },
     "execution_count": 527,
     "metadata": {},
     "output_type": "execute_result"
    }
   ],
   "source": [
    "rf.fit(X_train, y_train)"
   ]
  },
  {
   "cell_type": "code",
   "execution_count": 528,
   "metadata": {},
   "outputs": [
    {
     "name": "stdout",
     "output_type": "stream",
     "text": [
      "[0. 0. 0. ... 0. 0. 0.]\n"
     ]
    }
   ],
   "source": [
    "print(rf.feature_importances_)"
   ]
  },
  {
   "cell_type": "code",
   "execution_count": 529,
   "metadata": {},
   "outputs": [],
   "source": [
    "y_pred = rf.predict(X_train)"
   ]
  },
  {
   "cell_type": "code",
   "execution_count": 530,
   "metadata": {},
   "outputs": [],
   "source": [
    "y_pred_proba = rf.predict_proba(X_train)"
   ]
  },
  {
   "cell_type": "code",
   "execution_count": 531,
   "metadata": {},
   "outputs": [
    {
     "name": "stdout",
     "output_type": "stream",
     "text": [
      "Accuracy of random forest classifier on training set: 0.43\n"
     ]
    }
   ],
   "source": [
    "print('Accuracy of random forest classifier on training set: {:.2f}'\n",
    "     .format(rf.score(X_train, y_train)))"
   ]
  },
  {
   "cell_type": "code",
   "execution_count": 532,
   "metadata": {},
   "outputs": [
    {
     "name": "stdout",
     "output_type": "stream",
     "text": [
      "[[ 0  0  0  0  0  0  2  0  0  0  0  0]\n",
      " [ 0  0  0  0  0  0  3  0  0  0  0  0]\n",
      " [ 0  0  0  0  0  0  7  0  0  0  0  0]\n",
      " [ 0  0  0  0  0  0  5  0  0  0  0  0]\n",
      " [ 0  0  0  0  0  0  3  0  0  1  0  0]\n",
      " [ 0  0  0  0  0  0  4  0  0  0  0  0]\n",
      " [ 0  0  0  0  0  0 20  0  0  0  0  0]\n",
      " [ 0  0  0  0  0  0  2  0  0  0  0  0]\n",
      " [ 0  0  0  0  0  0  2  0  0  0  0  0]\n",
      " [ 0  0  0  0  0  0  4  0  0 12  0  0]\n",
      " [ 0  0  0  0  0  0  7  0  0  0  0  0]\n",
      " [ 0  0  0  0  0  0  3  0  0  0  0  0]]\n"
     ]
    }
   ],
   "source": [
    "print(confusion_matrix(y_train, y_pred))"
   ]
  },
  {
   "cell_type": "code",
   "execution_count": 533,
   "metadata": {},
   "outputs": [
    {
     "name": "stdout",
     "output_type": "stream",
     "text": [
      "                  precision    recall  f1-score   support\n",
      "\n",
      "               C       0.00      0.00      0.00         2\n",
      "             C++       0.00      0.00      0.00         3\n",
      "             CSS       0.00      0.00      0.00         7\n",
      "              Go       0.00      0.00      0.00         5\n",
      "            HTML       0.00      0.00      0.00         4\n",
      "            Java       0.00      0.00      0.00         4\n",
      "      JavaScript       0.32      1.00      0.49        20\n",
      "Jupyter Notebook       0.00      0.00      0.00         2\n",
      "             PHP       0.00      0.00      0.00         2\n",
      "          Python       0.92      0.75      0.83        16\n",
      "            Ruby       0.00      0.00      0.00         7\n",
      "      TypeScript       0.00      0.00      0.00         3\n",
      "\n",
      "        accuracy                           0.43        75\n",
      "       macro avg       0.10      0.15      0.11        75\n",
      "    weighted avg       0.28      0.43      0.31        75\n",
      "\n"
     ]
    }
   ],
   "source": [
    "print(classification_report(y_train, y_pred))"
   ]
  },
  {
   "cell_type": "code",
   "execution_count": 534,
   "metadata": {},
   "outputs": [
    {
     "name": "stdout",
     "output_type": "stream",
     "text": [
      "Accuracy of random forest classifier on test set: 0.32\n"
     ]
    }
   ],
   "source": [
    "print('Accuracy of random forest classifier on test set: {:.2f}'\n",
    "     .format(rf.score(X_test, y_test)))"
   ]
  },
  {
   "cell_type": "markdown",
   "metadata": {},
   "source": [
    "### K-Nearest_Neighbor"
   ]
  },
  {
   "cell_type": "code",
   "execution_count": 535,
   "metadata": {},
   "outputs": [],
   "source": [
    "from sklearn.model_selection import train_test_split\n",
    "from sklearn.neighbors import KNeighborsClassifier\n",
    "from sklearn.metrics import classification_report\n",
    "from sklearn.metrics import confusion_matrix"
   ]
  },
  {
   "cell_type": "code",
   "execution_count": 536,
   "metadata": {},
   "outputs": [],
   "source": [
    "knn = KNeighborsClassifier(n_neighbors=5, weights='uniform')"
   ]
  },
  {
   "cell_type": "code",
   "execution_count": 537,
   "metadata": {},
   "outputs": [
    {
     "data": {
      "text/plain": [
       "KNeighborsClassifier(algorithm='auto', leaf_size=30, metric='minkowski',\n",
       "                     metric_params=None, n_jobs=None, n_neighbors=5, p=2,\n",
       "                     weights='uniform')"
      ]
     },
     "execution_count": 537,
     "metadata": {},
     "output_type": "execute_result"
    }
   ],
   "source": [
    "knn.fit(X_train, y_train)"
   ]
  },
  {
   "cell_type": "code",
   "execution_count": 538,
   "metadata": {},
   "outputs": [],
   "source": [
    "y_pred = knn.predict(X_train)"
   ]
  },
  {
   "cell_type": "code",
   "execution_count": 539,
   "metadata": {},
   "outputs": [],
   "source": [
    "y_pred_proba = knn.predict_proba(X_train)"
   ]
  },
  {
   "cell_type": "code",
   "execution_count": 540,
   "metadata": {},
   "outputs": [
    {
     "name": "stdout",
     "output_type": "stream",
     "text": [
      "Accuracy of KNN classifier on training set: 0.63\n"
     ]
    }
   ],
   "source": [
    "print('Accuracy of KNN classifier on training set: {:.2f}'\n",
    "     .format(knn.score(X_train, y_train)))"
   ]
  },
  {
   "cell_type": "code",
   "execution_count": 541,
   "metadata": {},
   "outputs": [
    {
     "name": "stdout",
     "output_type": "stream",
     "text": [
      "[[ 1  0  0  0  0  0  0  0  0  0  1  0]\n",
      " [ 0  2  0  0  0  0  0  0  0  1  0  0]\n",
      " [ 0  0  7  0  0  0  0  0  0  0  0  0]\n",
      " [ 0  0  1  2  0  0  0  0  0  0  2  0]\n",
      " [ 1  0  0  0  0  0  2  0  0  0  1  0]\n",
      " [ 0  0  0  1  0  1  2  0  0  0  0  0]\n",
      " [ 0  2  1  1  0  0 16  0  0  0  0  0]\n",
      " [ 0  0  0  1  0  0  1  0  0  0  0  0]\n",
      " [ 0  1  0  0  0  0  1  0  0  0  0  0]\n",
      " [ 0  1  0  0  0  0  1  0  0 14  0  0]\n",
      " [ 0  0  1  0  0  0  2  0  0  0  4  0]\n",
      " [ 1  0  1  0  0  0  1  0  0  0  0  0]]\n"
     ]
    }
   ],
   "source": [
    "print(confusion_matrix(y_train, y_pred))"
   ]
  },
  {
   "cell_type": "code",
   "execution_count": 542,
   "metadata": {},
   "outputs": [
    {
     "name": "stdout",
     "output_type": "stream",
     "text": [
      "                  precision    recall  f1-score   support\n",
      "\n",
      "               C       0.33      0.50      0.40         2\n",
      "             C++       0.33      0.67      0.44         3\n",
      "             CSS       0.64      1.00      0.78         7\n",
      "              Go       0.40      0.40      0.40         5\n",
      "            HTML       0.00      0.00      0.00         4\n",
      "            Java       1.00      0.25      0.40         4\n",
      "      JavaScript       0.62      0.80      0.70        20\n",
      "Jupyter Notebook       0.00      0.00      0.00         2\n",
      "             PHP       0.00      0.00      0.00         2\n",
      "          Python       0.93      0.88      0.90        16\n",
      "            Ruby       0.50      0.57      0.53         7\n",
      "      TypeScript       0.00      0.00      0.00         3\n",
      "\n",
      "        accuracy                           0.63        75\n",
      "       macro avg       0.40      0.42      0.38        75\n",
      "    weighted avg       0.57      0.63      0.58        75\n",
      "\n"
     ]
    }
   ],
   "source": [
    "print(classification_report(y_train, y_pred))"
   ]
  },
  {
   "cell_type": "code",
   "execution_count": 543,
   "metadata": {},
   "outputs": [
    {
     "name": "stdout",
     "output_type": "stream",
     "text": [
      "Accuracy of KNN classifier on test set: 0.32\n"
     ]
    }
   ],
   "source": [
    "print('Accuracy of KNN classifier on test set: {:.2f}'\n",
    "     .format(knn.score(X_test, y_test)))"
   ]
  },
  {
   "cell_type": "code",
   "execution_count": 544,
   "metadata": {},
   "outputs": [
    {
     "data": {
      "text/plain": [
       "([<matplotlib.axis.XTick at 0x1a287850b8>,\n",
       "  <matplotlib.axis.XTick at 0x1a23442470>,\n",
       "  <matplotlib.axis.XTick at 0x1a2882b940>,\n",
       "  <matplotlib.axis.XTick at 0x1a2877cbe0>,\n",
       "  <matplotlib.axis.XTick at 0x1a2877c550>],\n",
       " <a list of 5 Text xticklabel objects>)"
      ]
     },
     "execution_count": 544,
     "metadata": {},
     "output_type": "execute_result"
    },
    {
     "data": {
      "image/png": "[encoded data removed]",
      "text/plain": [
       "<Figure size 792x576 with 1 Axes>"
      ]
     },
     "metadata": {
      "needs_background": "light"
     },
     "output_type": "display_data"
    }
   ],
   "source": [
    "import matplotlib.pyplot as plt\n",
    "k_range = range(1, 20)\n",
    "scores = []\n",
    "for k in k_range:\n",
    "    knn = KNeighborsClassifier(n_neighbors = k)\n",
    "    knn.fit(X_train, y_train)\n",
    "    scores.append(knn.score(X_test, y_test))\n",
    "plt.figure()\n",
    "plt.xlabel('k')\n",
    "plt.ylabel('accuracy')\n",
    "plt.scatter(k_range, scores)\n",
    "plt.xticks([0,5,10,15,20])"
   ]
  },
  {
   "cell_type": "markdown",
   "metadata": {},
   "source": [
    "### Naive Bayes"
   ]
  },
  {
   "cell_type": "code",
   "execution_count": 545,
   "metadata": {},
   "outputs": [
    {
     "name": "stdout",
     "output_type": "stream",
     "text": [
      "['Python' 'JavaScript' 'Python' 'C' 'Python' 'JavaScript' 'JavaScript'\n",
      " 'Python' 'JavaScript' 'JavaScript' 'Python' 'JavaScript' 'JavaScript'\n",
      " 'Python' 'JavaScript' 'Python' 'Python' 'JavaScript' 'Python'\n",
      " 'JavaScript' 'JavaScript' 'Python' 'Python' 'Python' 'Python'\n",
      " 'JavaScript' 'JavaScript' 'JavaScript' 'JavaScript' 'Python' 'JavaScript'\n",
      " 'Python' 'JavaScript' 'Python' 'JavaScript' 'JavaScript' 'Python'\n",
      " 'Python' 'JavaScript' 'Python' 'JavaScript' 'Python' 'Java' 'JavaScript'\n",
      " 'JavaScript' 'Python' 'Python' 'Python' 'Python' 'C++' 'JavaScript'\n",
      " 'JavaScript' 'JavaScript' 'Python' 'Python' 'Python' 'Python'\n",
      " 'JavaScript' 'JavaScript' 'Python' 'Python' 'JavaScript' 'Python'\n",
      " 'Python' 'Python' 'JavaScript' 'JavaScript' 'JavaScript' 'Python'\n",
      " 'Python' 'Python' 'Python' 'Python' 'Python' 'JavaScript']\n"
     ]
    }
   ],
   "source": [
    "import numpy as np\n",
    "rng = np.random.RandomState(1)\n",
    "X = X_train\n",
    "y = y_train\n",
    "from sklearn.naive_bayes import BernoulliNB\n",
    "clf = BernoulliNB()\n",
    "clf.fit(X, Y)\n",
    "\n",
    "print(clf.predict(X))"
   ]
  },
  {
   "cell_type": "code",
   "execution_count": 546,
   "metadata": {},
   "outputs": [],
   "source": [
    "y_pred = clf.predict(X)"
   ]
  },
  {
   "cell_type": "code",
   "execution_count": 547,
   "metadata": {},
   "outputs": [],
   "source": [
    "y_pred_proba = clf.predict_proba(X_train)"
   ]
  },
  {
   "cell_type": "code",
   "execution_count": 548,
   "metadata": {},
   "outputs": [
    {
     "name": "stdout",
     "output_type": "stream",
     "text": [
      "Accuracy of Naive Bayes classifier on training set: 0.23\n"
     ]
    }
   ],
   "source": [
    "print('Accuracy of Naive Bayes classifier on training set: {:.2f}'\n",
    "     .format(clf.score(X_train, y_train)))"
   ]
  },
  {
   "cell_type": "code",
   "execution_count": 549,
   "metadata": {},
   "outputs": [
    {
     "name": "stdout",
     "output_type": "stream",
     "text": [
      "                  precision    recall  f1-score   support\n",
      "\n",
      "               C       0.00      0.00      0.00         2\n",
      "             C++       0.00      0.00      0.00         3\n",
      "             CSS       0.00      0.00      0.00         7\n",
      "              Go       0.00      0.00      0.00         5\n",
      "            HTML       0.00      0.00      0.00         4\n",
      "            Java       0.00      0.00      0.00         4\n",
      "      JavaScript       0.27      0.45      0.34        20\n",
      "Jupyter Notebook       0.00      0.00      0.00         2\n",
      "             PHP       0.00      0.00      0.00         2\n",
      "          Python       0.21      0.50      0.29        16\n",
      "            Ruby       0.00      0.00      0.00         7\n",
      "      TypeScript       0.00      0.00      0.00         3\n",
      "\n",
      "        accuracy                           0.23        75\n",
      "       macro avg       0.04      0.08      0.05        75\n",
      "    weighted avg       0.12      0.23      0.15        75\n",
      "\n"
     ]
    }
   ],
   "source": [
    "print(classification_report(y_train, y_pred))"
   ]
  },
  {
   "cell_type": "markdown",
   "metadata": {},
   "source": [
    "### Support Vector Machine (SVM)"
   ]
  },
  {
   "cell_type": "code",
   "execution_count": 550,
   "metadata": {},
   "outputs": [
    {
     "data": {
      "text/plain": [
       "SVC(C=1.0, cache_size=200, class_weight=None, coef0=0.0,\n",
       "    decision_function_shape='ovr', degree=3, gamma='auto', kernel='rbf',\n",
       "    max_iter=-1, probability=False, random_state=None, shrinking=True,\n",
       "    tol=0.001, verbose=False)"
      ]
     },
     "execution_count": 550,
     "metadata": {},
     "output_type": "execute_result"
    }
   ],
   "source": [
    "import numpy as np\n",
    "X = X_train\n",
    "y = y_train\n",
    "from sklearn.svm import SVC\n",
    "clf = SVC(gamma='auto')\n",
    "clf.fit(X, y)\n",
    "\n",
    "# print(clf.predict([[-0.8, -1]]))"
   ]
  },
  {
   "cell_type": "code",
   "execution_count": 551,
   "metadata": {},
   "outputs": [
    {
     "data": {
      "text/plain": [
       "array(['JavaScript', 'JavaScript', 'JavaScript', 'JavaScript',\n",
       "       'JavaScript', 'JavaScript', 'JavaScript', 'JavaScript',\n",
       "       'JavaScript', 'JavaScript', 'JavaScript', 'JavaScript',\n",
       "       'JavaScript', 'JavaScript', 'JavaScript', 'JavaScript',\n",
       "       'JavaScript', 'JavaScript', 'JavaScript', 'JavaScript',\n",
       "       'JavaScript', 'JavaScript', 'JavaScript', 'JavaScript',\n",
       "       'JavaScript', 'JavaScript', 'JavaScript', 'JavaScript',\n",
       "       'JavaScript', 'JavaScript', 'JavaScript', 'JavaScript',\n",
       "       'JavaScript', 'JavaScript', 'JavaScript', 'JavaScript',\n",
       "       'JavaScript', 'JavaScript', 'JavaScript', 'JavaScript',\n",
       "       'JavaScript', 'JavaScript', 'JavaScript', 'JavaScript',\n",
       "       'JavaScript', 'JavaScript', 'JavaScript', 'JavaScript',\n",
       "       'JavaScript', 'JavaScript', 'JavaScript', 'JavaScript',\n",
       "       'JavaScript', 'JavaScript', 'JavaScript', 'JavaScript',\n",
       "       'JavaScript', 'JavaScript', 'JavaScript', 'JavaScript',\n",
       "       'JavaScript', 'JavaScript', 'JavaScript', 'JavaScript',\n",
       "       'JavaScript', 'JavaScript', 'JavaScript', 'JavaScript',\n",
       "       'JavaScript', 'JavaScript', 'JavaScript', 'JavaScript',\n",
       "       'JavaScript', 'JavaScript', 'JavaScript'], dtype=object)"
      ]
     },
     "execution_count": 551,
     "metadata": {},
     "output_type": "execute_result"
    }
   ],
   "source": [
    "clf.predict(X)"
   ]
  },
  {
   "cell_type": "markdown",
   "metadata": {},
   "source": [
    "Skip this for now.  Weird that it predicted all JavaScript"
   ]
  },
  {
   "cell_type": "markdown",
   "metadata": {},
   "source": [
    "### Stochastic Gradient Descent "
   ]
  },
  {
   "cell_type": "code",
   "execution_count": 552,
   "metadata": {},
   "outputs": [
    {
     "data": {
      "text/plain": [
       "SGDClassifier(alpha=0.0001, average=False, class_weight=None,\n",
       "              early_stopping=False, epsilon=0.1, eta0=0.0, fit_intercept=True,\n",
       "              l1_ratio=0.15, learning_rate='optimal', loss='hinge', max_iter=5,\n",
       "              n_iter_no_change=5, n_jobs=None, penalty='l2', power_t=0.5,\n",
       "              random_state=None, shuffle=True, tol=0.001,\n",
       "              validation_fraction=0.1, verbose=0, warm_start=False)"
      ]
     },
     "execution_count": 552,
     "metadata": {},
     "output_type": "execute_result"
    }
   ],
   "source": [
    "from sklearn import linear_model\n",
    "from sklearn.linear_model import SGDClassifier\n",
    "X = X_train\n",
    "y = y_train\n",
    "# clf = linear_model.SGDClassifier(max_iter=, tol=1e-3)\n",
    "clf = SGDClassifier(loss=\"hinge\", penalty=\"l2\", max_iter=5)\n",
    "clf.fit(X, y)"
   ]
  },
  {
   "cell_type": "code",
   "execution_count": 553,
   "metadata": {},
   "outputs": [
    {
     "data": {
      "text/plain": [
       "array(['JavaScript', 'Jupyter Notebook', 'Go', 'JavaScript', 'JavaScript',\n",
       "       'Ruby', 'CSS', 'Ruby', 'HTML', 'Python', 'CSS', 'JavaScript',\n",
       "       'C++', 'Python', 'Go', 'JavaScript', 'Ruby', 'Python', 'Python',\n",
       "       'Python', 'JavaScript', 'Python', 'Python', 'JavaScript', 'Ruby',\n",
       "       'Python', 'JavaScript', 'C', 'JavaScript', 'JavaScript', 'Java',\n",
       "       'Ruby', 'JavaScript', 'Python', 'Python', 'Jupyter Notebook',\n",
       "       'JavaScript', 'C++', 'CSS', 'TypeScript', 'JavaScript',\n",
       "       'TypeScript', 'HTML', 'C', 'C++', 'Java', 'Java', 'CSS', 'Go',\n",
       "       'Python', 'CSS', 'JavaScript', 'Go', 'JavaScript', 'JavaScript',\n",
       "       'JavaScript', 'CSS', 'Python', 'HTML', 'Ruby', 'Ruby',\n",
       "       'TypeScript', 'Python', 'CSS', 'JavaScript', 'JavaScript',\n",
       "       'Python', 'PHP', 'Python', 'Go', 'HTML', 'Java', 'PHP', 'Python',\n",
       "       'JavaScript'], dtype='<U16')"
      ]
     },
     "execution_count": 553,
     "metadata": {},
     "output_type": "execute_result"
    }
   ],
   "source": [
    "clf.predict(X)"
   ]
  },
  {
   "cell_type": "code",
   "execution_count": 554,
   "metadata": {},
   "outputs": [
    {
     "name": "stdout",
     "output_type": "stream",
     "text": [
      "Accuracy of Naive Bayes classifier on training set: 1.00\n"
     ]
    }
   ],
   "source": [
    "print('Accuracy of Naive Bayes classifier on training set: {:.2f}'\n",
    "     .format(clf.score(X_train, y_train)))"
   ]
  },
  {
   "cell_type": "code",
   "execution_count": 555,
   "metadata": {
    "scrolled": true
   },
   "outputs": [
    {
     "name": "stdout",
     "output_type": "stream",
     "text": [
      "                  precision    recall  f1-score   support\n",
      "\n",
      "               C       0.00      0.00      0.00         2\n",
      "             C++       0.00      0.00      0.00         3\n",
      "             CSS       0.00      0.00      0.00         7\n",
      "              Go       0.00      0.00      0.00         5\n",
      "            HTML       0.00      0.00      0.00         4\n",
      "            Java       0.00      0.00      0.00         4\n",
      "      JavaScript       0.27      0.45      0.34        20\n",
      "Jupyter Notebook       0.00      0.00      0.00         2\n",
      "             PHP       0.00      0.00      0.00         2\n",
      "          Python       0.21      0.50      0.29        16\n",
      "            Ruby       0.00      0.00      0.00         7\n",
      "      TypeScript       0.00      0.00      0.00         3\n",
      "\n",
      "        accuracy                           0.23        75\n",
      "       macro avg       0.04      0.08      0.05        75\n",
      "    weighted avg       0.12      0.23      0.15        75\n",
      "\n"
     ]
    }
   ],
   "source": [
    "print(classification_report(y_train, y_pred))"
   ]
  },
  {
   "cell_type": "code",
   "execution_count": 556,
   "metadata": {},
   "outputs": [
    {
     "name": "stdout",
     "output_type": "stream",
     "text": [
      "Accuracy of Stochastic Gradient Decent classifier on test set: 0.37\n"
     ]
    }
   ],
   "source": [
    "print('Accuracy of Stochastic Gradient Decent classifier on test set: {:.2f}'\n",
    "     .format(knn.score(X_test, y_test)))"
   ]
  },
  {
   "cell_type": "markdown",
   "metadata": {},
   "source": [
    "### AdaBoost"
   ]
  },
  {
   "cell_type": "code",
   "execution_count": 557,
   "metadata": {},
   "outputs": [
    {
     "name": "stdout",
     "output_type": "stream",
     "text": [
      "[0. 0. 0. ... 0. 0. 0.]\n"
     ]
    },
    {
     "data": {
      "text/plain": [
       "0.4666666666666667"
      ]
     },
     "execution_count": 557,
     "metadata": {},
     "output_type": "execute_result"
    }
   ],
   "source": [
    "from sklearn.ensemble import AdaBoostClassifier\n",
    "X = X_train\n",
    "y = y_train\n",
    "clf = AdaBoostClassifier(n_estimators=100, random_state=0)\n",
    "clf.fit(X, y)\n",
    "\n",
    "print(clf.feature_importances_)\n",
    "\n",
    "clf.predict(X)\n",
    "\n",
    "clf.score(X, y)\n"
   ]
  },
  {
   "cell_type": "code",
   "execution_count": null,
   "metadata": {},
   "outputs": [],
   "source": []
  },
  {
   "cell_type": "markdown",
   "metadata": {},
   "source": [
    "### Bagging"
   ]
  },
  {
   "cell_type": "code",
   "execution_count": 576,
   "metadata": {},
   "outputs": [
    {
     "data": {
      "text/plain": [
       "array(['JavaScript', 'Jupyter Notebook', 'Go', 'JavaScript', 'JavaScript',\n",
       "       'C', 'CSS', 'Ruby', 'HTML', 'Python', 'CSS', 'C', 'C++', 'Python',\n",
       "       'Go', 'JavaScript', 'Ruby', 'Python', 'Python', 'Python',\n",
       "       'JavaScript', 'Python', 'Python', 'JavaScript', 'Go', 'Python',\n",
       "       'JavaScript', 'C', 'JavaScript', 'CSS', 'Java', 'Ruby',\n",
       "       'JavaScript', 'Python', 'Python', 'C', 'JavaScript', 'C++', 'CSS',\n",
       "       'TypeScript', 'JavaScript', 'TypeScript', 'JavaScript', 'C', 'C',\n",
       "       'Java', 'Java', 'CSS', 'Go', 'Python', 'CSS', 'JavaScript', 'Go',\n",
       "       'JavaScript', 'JavaScript', 'JavaScript', 'CSS', 'Python', 'HTML',\n",
       "       'Ruby', 'Ruby', 'Go', 'Python', 'CSS', 'JavaScript', 'JavaScript',\n",
       "       'Python', 'C', 'Python', 'Go', 'HTML', 'Java', 'PHP', 'Python',\n",
       "       'JavaScript'], dtype=object)"
      ]
     },
     "execution_count": 576,
     "metadata": {},
     "output_type": "execute_result"
    }
   ],
   "source": [
    "from sklearn.svm import SVC\n",
    "from sklearn.ensemble import BaggingClassifier\n",
    "\n",
    "X = X_train\n",
    "y = y_train\n",
    "\n",
    "clf = BaggingClassifier(n_estimators=3, random_state=0)\n",
    "clf.fit(X, y)\n",
    "clf.predict(X)"
   ]
  },
  {
   "cell_type": "code",
   "execution_count": 577,
   "metadata": {},
   "outputs": [
    {
     "name": "stdout",
     "output_type": "stream",
     "text": [
      "Accuracy of Naive Bayes classifier on training set: 0.88\n"
     ]
    }
   ],
   "source": [
    "print('Accuracy of Naive Bayes classifier on training set: {:.2f}'\n",
    "     .format(clf.score(X_train, y_train)))"
   ]
  },
  {
   "cell_type": "code",
   "execution_count": 578,
   "metadata": {},
   "outputs": [
    {
     "data": {
      "text/plain": [
       "0.3684210526315789"
      ]
     },
     "execution_count": 578,
     "metadata": {},
     "output_type": "execute_result"
    }
   ],
   "source": [
    "clf.score(X_test, y_test)"
   ]
  },
  {
   "cell_type": "code",
   "execution_count": null,
   "metadata": {},
   "outputs": [],
   "source": []
  }
 ],
 "metadata": {
  "kernelspec": {
   "display_name": "Python 3",
   "language": "python",
   "name": "python3"
  },
  "language_info": {
   "codemirror_mode": {
    "name": "ipython",
    "version": 3
   },
   "file_extension": ".py",
   "mimetype": "text/x-python",
   "name": "python",
   "nbconvert_exporter": "python",
   "pygments_lexer": "ipython3",
   "version": "3.7.3"
  }
 },
 "nbformat": 4,
 "nbformat_minor": 2
}
