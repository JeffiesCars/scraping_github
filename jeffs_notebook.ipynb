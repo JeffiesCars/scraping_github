{
 "cells": [
  {
   "cell_type": "code",
   "execution_count": 1,
   "metadata": {},
   "outputs": [],
   "source": [
    "import pandas as pd\n",
    "from requests import get\n",
    "from bs4 import BeautifulSoup\n",
    "import os\n",
    "import json\n",
    "from os import path"
   ]
  },
  {
   "cell_type": "markdown",
   "metadata": {},
   "source": [
    "### Find Top Language Used - Done\n",
    "### Scrape body of README.md - In Progress\n",
    "### Put into DataFrame - Not Done at all"
   ]
  },
  {
   "cell_type": "code",
   "execution_count": null,
   "metadata": {},
   "outputs": [],
   "source": [
    "# url = 'http://site-to-scrape.glitch.me/'\n",
    "\n",
    "url = 'https://github.com/AIDungeon/AIDungeon'\n",
    "\n",
    "headers = {'User-Agent': 'Codeup Data Science Student'}\n",
    "\n",
    "response = get(url, headers=headers)\n",
    "\n",
    "# print(response.content)\n",
    "\n",
    "soup = BeautifulSoup(response.content, 'html.parser')\n",
    "\n",
    "soup.find('span', class_= 'lang').text\n",
    "\n",
    "soup.find_all('span', class_= 'lang')[0].text\n",
    "\n",
    "\n",
    "\n",
    "# soup.select('span')\n",
    "\n",
    " = []\n",
    "full_beer = []\n",
    "for l in short_list:\n",
    "    url = 'https://github.com/trending/\n",
    "    #source = urllib.request.urlopen('https://untappd.com/beer/top_rated?type={}'.format(l)).read()\n",
    "    headers = {'User-Agent': 'Codeup Data Science Student'}\n",
    "    response = get(url, headers=headers)\n",
    "    soup = BeautifulSoup(response.content, 'html.parser') \n",
    "    table = soup.find_all(\"div\",{\"class\":\"beer-item\"})\n",
    "    #table_rows = soup.find_all('span',{\"class\":\"num\"})\n",
    "    full_beer.append(beers)\n",
    "    #beers = []\n",
    "    \n",
    "    for t in table:\n",
    "        rating = t.select('span',{\"class\":\"num\"})\n",
    "        name = t.select('a',{\"class\":\"name\"})\n",
    "        brewery = t.select('a',{\"class\":\"style\"})\n",
    "        style = t.select('p',{\"class\":\"style\"})\n",
    "        row_rating = [i.text for i in rating]\n",
    "        row_name = [i.text for i in name]\n",
    "        row_brewery = [i.text for i in brewery]\n",
    "        row_style = [i.text for i in style]\n",
    "        beers.append([row_name[1],row_rating[1],row_brewery[2],row_style[2]])\n",
    "        time.sleep(.3)"
   ]
  }
 ],
 "metadata": {
  "kernelspec": {
   "display_name": "Python 3",
   "language": "python",
   "name": "python3"
  },
  "language_info": {
   "codemirror_mode": {
    "name": "ipython",
    "version": 3
   },
   "file_extension": ".py",
   "mimetype": "text/x-python",
   "name": "python",
   "nbconvert_exporter": "python",
   "pygments_lexer": "ipython3",
   "version": "3.7.3"
  }
 },
 "nbformat": 4,
 "nbformat_minor": 2
}
