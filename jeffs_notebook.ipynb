{
 "cells": [
  {
   "cell_type": "code",
   "execution_count": 207,
   "metadata": {},
   "outputs": [],
   "source": [
    "import pandas as pd\n",
    "from requests import get\n",
    "from bs4 import BeautifulSoup\n",
    "import os\n",
    "import json\n",
    "from os import path\n",
    "import re\n",
    "import acquire\n",
    "import env\n",
    "\n",
    "import unicodedata\n",
    "import json\n",
    "\n",
    "import nltk\n",
    "from nltk.tokenize.toktok import ToktokTokenizer\n",
    "from nltk.corpus import stopwords\n",
    "\n",
    "import numpy as np\n",
    "\n",
    "import matplotlib.pyplot as plt\n",
    "import seaborn as sns\n",
    "\n",
    "# matplotlib default plotting styles\n",
    "plt.rc(\"patch\", edgecolor=\"black\", force_edgecolor=True)\n",
    "plt.rc(\"axes\", grid=True)\n",
    "plt.rc(\"grid\", linestyle=\":\", linewidth=0.8, alpha=0.7)\n",
    "plt.rc(\"axes.spines\", right=False, top=False)\n",
    "plt.rc(\"figure\", figsize=(11, 8))\n",
    "plt.rc(\"font\", size=12.0)\n",
    "plt.rc(\"hist\", bins=25)\n",
    "\n",
    "import warnings\n",
    "warnings.filterwarnings('ignore')"
   ]
  },
  {
   "cell_type": "code",
   "execution_count": null,
   "metadata": {},
   "outputs": [],
   "source": [
    "# def get_links():\n",
    "#     for url in urls:\n",
    "        \n",
    "#         headers = {'User-Agent': 'Codeup Data Science Student'}\n",
    "#         response = get(url, headers=headers)\n",
    "#         soup = BeautifulSoup(response.content, 'html.parser')\n",
    "    \n",
    "#     urls = []\n",
    "    \n",
    "#     for h1 in soup.find_all('h1'):\n",
    "#         urls.append((re.sub(r'\\s', '',h1.text)))\n",
    "#     urls.pop(0)\n",
    "#     return urls"
   ]
  },
  {
   "cell_type": "code",
   "execution_count": 18,
   "metadata": {},
   "outputs": [],
   "source": [
    "def create_urls(string):\n",
    "    urls = []\n",
    "    for item in string:\n",
    "        base_url = 'https://github.com/{}'.format(item)\n",
    "        urls.append(base_url)\n",
    "    return urls"
   ]
  },
  {
   "cell_type": "code",
   "execution_count": 22,
   "metadata": {},
   "outputs": [],
   "source": [
    "repo_list = create_urls(string=repo_list)"
   ]
  },
  {
   "cell_type": "code",
   "execution_count": 25,
   "metadata": {},
   "outputs": [
    {
     "data": {
      "text/plain": [
       "['https://github.com/AIDungeon/AIDungeon',\n",
       " 'https://github.com/rclone/rclone',\n",
       " 'https://github.com/marblexu/PythonPlantsVsZombies',\n",
       " 'https://github.com/redox-os/orbtk',\n",
       " 'https://github.com/sailay1996/UAC_Bypass_In_The_Wild',\n",
       " 'https://github.com/ruanyf/weekly',\n",
       " 'https://github.com/alirezadir/Production-Level-Deep-Learning',\n",
       " 'https://github.com/sdmg15/Best-websites-a-programmer-should-visit',\n",
       " 'https://github.com/practicalAI/practicalAI',\n",
       " 'https://github.com/HuaweiJoke/Huawei-Joke',\n",
       " 'https://github.com/trekhleb/javascript-algorithms',\n",
       " 'https://github.com/521xueweihan/HelloGitHub',\n",
       " 'https://github.com/getify/You-Dont-Know-JS',\n",
       " 'https://github.com/kdn251/interviews',\n",
       " 'https://github.com/eavichay/microfronts',\n",
       " 'https://github.com/goldbergyoni/nodebestpractices',\n",
       " 'https://github.com/wuyouzhuguli/SpringAll',\n",
       " 'https://github.com/halo-dev/halo',\n",
       " 'https://github.com/serverless/serverless',\n",
       " 'https://github.com/prometheus/client_golang',\n",
       " 'https://github.com/VMadalin/kotlin-sample-app',\n",
       " 'https://github.com/davidfowl/FeatherHttp',\n",
       " 'https://github.com/0vercl0k/CVE-2019-11708',\n",
       " 'https://github.com/mrdoob/three.js',\n",
       " 'https://github.com/OfficeDev/office-ui-fabric-react',\n",
       " 'https://github.com/standard/standard',\n",
       " 'https://github.com/eslint/eslint',\n",
       " 'https://github.com/jshint/jshint',\n",
       " 'https://github.com/clutchski/coffeelint',\n",
       " 'https://github.com/csscomb/csscomb.js',\n",
       " 'https://github.com/sds/scss-lint',\n",
       " 'https://github.com/htmlhint/HTMLHint',\n",
       " 'https://github.com/validator/validator',\n",
       " 'https://github.com/CSSLint/csslint',\n",
       " 'https://github.com/PyCQA/pycodestyle',\n",
       " 'https://github.com/PyCQA/flake8',\n",
       " 'https://github.com/psf/black',\n",
       " 'https://github.com/checkstyle/checkstyle',\n",
       " 'https://github.com/rubocop-hq/rubocop',\n",
       " 'https://github.com/oclint/oclint',\n",
       " 'https://github.com/golang/lint',\n",
       " 'https://github.com/ndmitchell/hlint',\n",
       " 'https://github.com/coala/coala',\n",
       " 'https://github.com/pre-commit/pre-commit',\n",
       " 'https://github.com/innogames/igcommit',\n",
       " 'https://github.com/fivethirtyeight/data',\n",
       " 'https://github.com/datadesk/notebooks',\n",
       " 'https://github.com/nytimes/objective-c-style-guide',\n",
       " 'https://github.com/newsapps/beeswithmachineguns',\n",
       " 'https://github.com/voxmedia/meme',\n",
       " 'https://github.com/propublica/guides',\n",
       " 'https://github.com/censusreporter/censusreporter',\n",
       " 'https://github.com/nprapps/app-template',\n",
       " 'https://github.com/TimeMagazineLabs/babynames',\n",
       " 'https://github.com/guardian/frontend',\n",
       " 'https://github.com/dukechronicle/chronline',\n",
       " 'https://github.com/BloombergMedia/whatiscode',\n",
       " 'https://github.com/times/cardkit',\n",
       " 'https://github.com/mkiser/WTFJHT',\n",
       " 'https://github.com/twbs/bootstrap',\n",
       " 'https://github.com/daneden/animate.css',\n",
       " 'https://github.com/nathansmith/960-Grid-System',\n",
       " 'https://github.com/necolas/normalize.css',\n",
       " 'https://github.com/ionic-team/ionicons',\n",
       " 'https://github.com/designmodo/Flat-UI',\n",
       " 'https://github.com/h5bp/html5-boilerplate',\n",
       " 'https://github.com/foundation/foundation-sites',\n",
       " 'https://github.com/Modernizr/Modernizr',\n",
       " 'https://github.com/twbs/ratchet',\n",
       " 'https://github.com/IanLunn/Hover',\n",
       " 'https://github.com/connors/photon',\n",
       " 'https://github.com/basscss/basscss',\n",
       " 'https://github.com/atlemo/SubtlePatterns',\n",
       " 'https://github.com/mrmrs/colors',\n",
       " 'https://github.com/beetbox/beets',\n",
       " 'https://github.com/scottschiller/SoundManager2',\n",
       " 'https://github.com/CreateJS/SoundJS',\n",
       " 'https://github.com/musescore/MuseScore',\n",
       " 'https://github.com/tomahawk-player/tomahawk',\n",
       " 'https://github.com/cashmusic/platform',\n",
       " 'https://github.com/mopidy/mopidy',\n",
       " 'https://github.com/AudioKit/AudioKit',\n",
       " 'https://github.com/Soundnode/soundnode-app',\n",
       " 'https://github.com/gillesdemey/Cumulus',\n",
       " 'https://github.com/metabrainz/picard',\n",
       " 'https://github.com/overtone/overtone',\n",
       " 'https://github.com/samaaron/sonic-pi',\n",
       " 'https://github.com/puppetlabs/puppet',\n",
       " 'https://github.com/chef/chef',\n",
       " 'https://github.com/ansible/ansible',\n",
       " 'https://github.com/saltstack/salt',\n",
       " 'https://github.com/hashicorp/vagrant',\n",
       " 'https://github.com/openstack/openstack',\n",
       " 'https://github.com/moby/moby',\n",
       " 'https://github.com/capistrano/capistrano',\n",
       " 'https://github.com/statsd/statsd',\n",
       " 'https://github.com/graphite-project/graphite-web',\n",
       " 'https://github.com/elastic/logstash',\n",
       " 'https://github.com/fabric/fabric',\n",
       " 'https://github.com/grafana/grafana',\n",
       " 'https://github.com/StackStorm/st2',\n",
       " 'https://github.com/openshift/origin',\n",
       " 'https://github.com/getsentry/sentry',\n",
       " 'https://github.com/deployphp/deployer',\n",
       " 'https://github.com/kubernetes/kubernetes',\n",
       " 'https://github.com/netdata/netdata',\n",
       " 'https://github.com/cloud66-oss/habitus']"
      ]
     },
     "execution_count": 25,
     "metadata": {},
     "output_type": "execute_result"
    }
   ],
   "source": [
    "repo_list"
   ]
  },
  {
   "cell_type": "code",
   "execution_count": 26,
   "metadata": {},
   "outputs": [],
   "source": [
    "# repo_list"
   ]
  },
  {
   "cell_type": "code",
   "execution_count": null,
   "metadata": {},
   "outputs": [],
   "source": [
    "# def get_dataframe():\n",
    "\n",
    "#     output = []\n",
    "    \n",
    "#     urls = create_urls()\n",
    "    \n",
    "#     for url in urls:\n",
    "#         headers = {'User-Agent': 'Codeup Data Science Student'}\n",
    "#         response = get(url, headers=headers)\n",
    "#         soup = BeautifulSoup(response.content, 'html.parser')\n",
    "#         title = urls[url]\n",
    "#         language = soup.find('span', class_= 'lang').text\n",
    "#         body = soup.find('div', class_= 'Box-body').text\n",
    "\n",
    "#         data = {\n",
    "#             'title' : title,\n",
    "#             'language' : language,\n",
    "#             'body' : body\n",
    "#         }\n",
    "\n",
    "#         output.append(data)\n",
    "# #     df = pd.DataFrame(output, header=None)\n",
    "#     return output"
   ]
  },
  {
   "cell_type": "code",
   "execution_count": 27,
   "metadata": {},
   "outputs": [],
   "source": [
    "# def get_links():\n",
    "# #     url = 'https://github.com/trending'\n",
    "# #     url = 'https://github.com/collections/clean-code-linters'\n",
    "# #     url = 'https://github.com/collections/open-journalism'\n",
    "# #     url = 'https://github.com/collections/design-essentials'\n",
    "# #     url = 'https://github.com/collections/music'\n",
    "#     url = 'https://github.com/collections/devops-tools'\n",
    "#     headers = {'User-Agent': 'Codeup Data Science Student'}\n",
    "#     response = get(url, headers=headers)\n",
    "#     soup = BeautifulSoup(response.content, 'html.parser')\n",
    "    \n",
    "#     urls = []\n",
    "    \n",
    "#     for h1 in soup.find_all('h1'):\n",
    "#         urls.append((re.sub(r'\\s', '',h1.text)))\n",
    "#     urls.pop(0)\n",
    "#     return urls"
   ]
  },
  {
   "cell_type": "code",
   "execution_count": 142,
   "metadata": {},
   "outputs": [],
   "source": [
    "repo_url_end = ['AIDungeon/AIDungeon',\n",
    "             'rclone/rclone',\n",
    "             'marblexu/PythonPlantsVsZombies',\n",
    "             'redox-os/orbtk',\n",
    "             'sailay1996/UAC_Bypass_In_The_Wild',\n",
    "             'ruanyf/weekly',\n",
    "             'alirezadir/Production-Level-Deep-Learning',\n",
    "             'sdmg15/Best-websites-a-programmer-should-visit',\n",
    "             'practicalAI/practicalAI',\n",
    "             'HuaweiJoke/Huawei-Joke',\n",
    "             'trekhleb/javascript-algorithms',\n",
    "             '521xueweihan/HelloGitHub',\n",
    "             'getify/You-Dont-Know-JS',\n",
    "             'kdn251/interviews',\n",
    "             'eavichay/microfronts',\n",
    "             'goldbergyoni/nodebestpractices',\n",
    "             'wuyouzhuguli/SpringAll',\n",
    "             'halo-dev/halo',\n",
    "             'serverless/serverless',\n",
    "             'prometheus/client_golang',\n",
    "             'VMadalin/kotlin-sample-app',\n",
    "             'davidfowl/FeatherHttp',\n",
    "             '0vercl0k/CVE-2019-11708',\n",
    "             'mrdoob/three.js',\n",
    "             'OfficeDev/office-ui-fabric-react',\n",
    "             'standard/standard',\n",
    "             'eslint/eslint',\n",
    "             'jshint/jshint',\n",
    "             'clutchski/coffeelint',\n",
    "             'csscomb/csscomb.js',\n",
    "             'sds/scss-lint',\n",
    "             'htmlhint/HTMLHint',\n",
    "             'validator/validator',\n",
    "             'CSSLint/csslint',\n",
    "             'PyCQA/pycodestyle',\n",
    "             'PyCQA/flake8',\n",
    "             'psf/black',\n",
    "             'checkstyle/checkstyle',\n",
    "             'rubocop-hq/rubocop',\n",
    "             'oclint/oclint',\n",
    "             'golang/lint',\n",
    "             'ndmitchell/hlint',\n",
    "             'coala/coala',\n",
    "             'pre-commit/pre-commit',\n",
    "             'innogames/igcommit',\n",
    "             'fivethirtyeight/data',\n",
    "             'datadesk/notebooks',\n",
    "             'nytimes/objective-c-style-guide',\n",
    "             'newsapps/beeswithmachineguns',\n",
    "             'voxmedia/meme',\n",
    "             'propublica/guides',\n",
    "             'censusreporter/censusreporter',\n",
    "             'nprapps/app-template',\n",
    "             'TimeMagazineLabs/babynames',\n",
    "             'guardian/frontend',\n",
    "             'dukechronicle/chronline',\n",
    "             'BloombergMedia/whatiscode',\n",
    "             'times/cardkit',\n",
    "             'mkiser/WTFJHT',\n",
    "             'twbs/bootstrap',\n",
    "             'daneden/animate.css',\n",
    "             'nathansmith/960-Grid-System',\n",
    "             'necolas/normalize.css',\n",
    "             'ionic-team/ionicons',\n",
    "             'designmodo/Flat-UI',\n",
    "             'h5bp/html5-boilerplate',\n",
    "             'foundation/foundation-sites',\n",
    "             'Modernizr/Modernizr',\n",
    "             'twbs/ratchet',\n",
    "             'IanLunn/Hover',\n",
    "             'connors/photon',\n",
    "             'basscss/basscss',\n",
    "             'atlemo/SubtlePatterns',\n",
    "             'mrmrs/colors',\n",
    "             'beetbox/beets',\n",
    "             'scottschiller/SoundManager2',\n",
    "             'CreateJS/SoundJS',\n",
    "             'musescore/MuseScore',\n",
    "             'tomahawk-player/tomahawk',\n",
    "             'cashmusic/platform',\n",
    "             'mopidy/mopidy',\n",
    "             'AudioKit/AudioKit',\n",
    "             'Soundnode/soundnode-app',\n",
    "             'gillesdemey/Cumulus',\n",
    "             'metabrainz/picard',\n",
    "             'overtone/overtone',\n",
    "             'samaaron/sonic-pi',\n",
    "             'puppetlabs/puppet',\n",
    "             'chef/chef',\n",
    "             'ansible/ansible',\n",
    "             'saltstack/salt',\n",
    "             'hashicorp/vagrant',\n",
    "             'openstack/openstack',\n",
    "             'moby/moby',\n",
    "             'capistrano/capistrano',\n",
    "             'statsd/statsd',\n",
    "             'graphite-project/graphite-web',\n",
    "             'elastic/logstash',\n",
    "             'fabric/fabric',\n",
    "             'grafana/grafana',\n",
    "             'StackStorm/st2',\n",
    "             'openshift/origin',\n",
    "             'getsentry/sentry',\n",
    "             'deployphp/deployer',\n",
    "             'kubernetes/kubernetes',\n",
    "             'netdata/netdata',\n",
    "             'cloud66-oss/habitus'\n",
    "             \n",
    "]"
   ]
  },
  {
   "cell_type": "code",
   "execution_count": 155,
   "metadata": {},
   "outputs": [
    {
     "name": "stdout",
     "output_type": "stream",
     "text": [
      "['AIDungeon', 'AIDungeon', 'A', 'I', 'D', 'u', 'n', 'g', 'e', 'o', 'n', '/', 'A', 'I', 'D', 'u', 'n', 'g', 'e', 'o', 'n']\n",
      "['rclone', 'rclone', 'r', 'c', 'l', 'o', 'n', 'e', '/', 'r', 'c', 'l', 'o', 'n', 'e']\n",
      "['marblexu', 'PythonPlantsVsZombies', 'm', 'a', 'r', 'b', 'l', 'e', 'x', 'u', '/', 'P', 'y', 't', 'h', 'o', 'n', 'P', 'l', 'a', 'n', 't', 's', 'V', 's', 'Z', 'o', 'm', 'b', 'i', 'e', 's']\n",
      "['redox-os', 'orbtk', 'r', 'e', 'd', 'o', 'x', '-', 'o', 's', '/', 'o', 'r', 'b', 't', 'k']\n",
      "['sailay1996', 'UAC_Bypass_In_The_Wild', 's', 'a', 'i', 'l', 'a', 'y', '1', '9', '9', '6', '/', 'U', 'A', 'C', '_', 'B', 'y', 'p', 'a', 's', 's', '_', 'I', 'n', '_', 'T', 'h', 'e', '_', 'W', 'i', 'l', 'd']\n",
      "['ruanyf', 'weekly', 'r', 'u', 'a', 'n', 'y', 'f', '/', 'w', 'e', 'e', 'k', 'l', 'y']\n",
      "['alirezadir', 'Production-Level-Deep-Learning', 'a', 'l', 'i', 'r', 'e', 'z', 'a', 'd', 'i', 'r', '/', 'P', 'r', 'o', 'd', 'u', 'c', 't', 'i', 'o', 'n', '-', 'L', 'e', 'v', 'e', 'l', '-', 'D', 'e', 'e', 'p', '-', 'L', 'e', 'a', 'r', 'n', 'i', 'n', 'g']\n",
      "['sdmg15', 'Best-websites-a-programmer-should-visit', 's', 'd', 'm', 'g', '1', '5', '/', 'B', 'e', 's', 't', '-', 'w', 'e', 'b', 's', 'i', 't', 'e', 's', '-', 'a', '-', 'p', 'r', 'o', 'g', 'r', 'a', 'm', 'm', 'e', 'r', '-', 's', 'h', 'o', 'u', 'l', 'd', '-', 'v', 'i', 's', 'i', 't']\n",
      "['practicalAI', 'practicalAI', 'p', 'r', 'a', 'c', 't', 'i', 'c', 'a', 'l', 'A', 'I', '/', 'p', 'r', 'a', 'c', 't', 'i', 'c', 'a', 'l', 'A', 'I']\n",
      "['HuaweiJoke', 'Huawei-Joke', 'H', 'u', 'a', 'w', 'e', 'i', 'J', 'o', 'k', 'e', '/', 'H', 'u', 'a', 'w', 'e', 'i', '-', 'J', 'o', 'k', 'e']\n",
      "['trekhleb', 'javascript-algorithms', 't', 'r', 'e', 'k', 'h', 'l', 'e', 'b', '/', 'j', 'a', 'v', 'a', 's', 'c', 'r', 'i', 'p', 't', '-', 'a', 'l', 'g', 'o', 'r', 'i', 't', 'h', 'm', 's']\n",
      "['521xueweihan', 'HelloGitHub', '5', '2', '1', 'x', 'u', 'e', 'w', 'e', 'i', 'h', 'a', 'n', '/', 'H', 'e', 'l', 'l', 'o', 'G', 'i', 't', 'H', 'u', 'b']\n",
      "['getify', 'You-Dont-Know-JS', 'g', 'e', 't', 'i', 'f', 'y', '/', 'Y', 'o', 'u', '-', 'D', 'o', 'n', 't', '-', 'K', 'n', 'o', 'w', '-', 'J', 'S']\n",
      "['kdn251', 'interviews', 'k', 'd', 'n', '2', '5', '1', '/', 'i', 'n', 't', 'e', 'r', 'v', 'i', 'e', 'w', 's']\n",
      "['eavichay', 'microfronts', 'e', 'a', 'v', 'i', 'c', 'h', 'a', 'y', '/', 'm', 'i', 'c', 'r', 'o', 'f', 'r', 'o', 'n', 't', 's']\n",
      "['goldbergyoni', 'nodebestpractices', 'g', 'o', 'l', 'd', 'b', 'e', 'r', 'g', 'y', 'o', 'n', 'i', '/', 'n', 'o', 'd', 'e', 'b', 'e', 's', 't', 'p', 'r', 'a', 'c', 't', 'i', 'c', 'e', 's']\n",
      "['wuyouzhuguli', 'SpringAll', 'w', 'u', 'y', 'o', 'u', 'z', 'h', 'u', 'g', 'u', 'l', 'i', '/', 'S', 'p', 'r', 'i', 'n', 'g', 'A', 'l', 'l']\n",
      "['halo-dev', 'halo', 'h', 'a', 'l', 'o', '-', 'd', 'e', 'v', '/', 'h', 'a', 'l', 'o']\n",
      "['serverless', 'serverless', 's', 'e', 'r', 'v', 'e', 'r', 'l', 'e', 's', 's', '/', 's', 'e', 'r', 'v', 'e', 'r', 'l', 'e', 's', 's']\n",
      "['prometheus', 'client_golang', 'p', 'r', 'o', 'm', 'e', 't', 'h', 'e', 'u', 's', '/', 'c', 'l', 'i', 'e', 'n', 't', '_', 'g', 'o', 'l', 'a', 'n', 'g']\n",
      "['VMadalin', 'kotlin-sample-app', 'V', 'M', 'a', 'd', 'a', 'l', 'i', 'n', '/', 'k', 'o', 't', 'l', 'i', 'n', '-', 's', 'a', 'm', 'p', 'l', 'e', '-', 'a', 'p', 'p']\n",
      "['davidfowl', 'FeatherHttp', 'd', 'a', 'v', 'i', 'd', 'f', 'o', 'w', 'l', '/', 'F', 'e', 'a', 't', 'h', 'e', 'r', 'H', 't', 't', 'p']\n",
      "['0vercl0k', 'CVE-2019-11708', '0', 'v', 'e', 'r', 'c', 'l', '0', 'k', '/', 'C', 'V', 'E', '-', '2', '0', '1', '9', '-', '1', '1', '7', '0', '8']\n",
      "['mrdoob', 'three.js', 'm', 'r', 'd', 'o', 'o', 'b', '/', 't', 'h', 'r', 'e', 'e', '.', 'j', 's']\n",
      "['OfficeDev', 'office-ui-fabric-react', 'O', 'f', 'f', 'i', 'c', 'e', 'D', 'e', 'v', '/', 'o', 'f', 'f', 'i', 'c', 'e', '-', 'u', 'i', '-', 'f', 'a', 'b', 'r', 'i', 'c', '-', 'r', 'e', 'a', 'c', 't']\n",
      "['standard', 'standard', 's', 't', 'a', 'n', 'd', 'a', 'r', 'd', '/', 's', 't', 'a', 'n', 'd', 'a', 'r', 'd']\n",
      "['eslint', 'eslint', 'e', 's', 'l', 'i', 'n', 't', '/', 'e', 's', 'l', 'i', 'n', 't']\n",
      "['jshint', 'jshint', 'j', 's', 'h', 'i', 'n', 't', '/', 'j', 's', 'h', 'i', 'n', 't']\n",
      "['clutchski', 'coffeelint', 'c', 'l', 'u', 't', 'c', 'h', 's', 'k', 'i', '/', 'c', 'o', 'f', 'f', 'e', 'e', 'l', 'i', 'n', 't']\n",
      "['csscomb', 'csscomb.js', 'c', 's', 's', 'c', 'o', 'm', 'b', '/', 'c', 's', 's', 'c', 'o', 'm', 'b', '.', 'j', 's']\n",
      "['sds', 'scss-lint', 's', 'd', 's', '/', 's', 'c', 's', 's', '-', 'l', 'i', 'n', 't']\n",
      "['htmlhint', 'HTMLHint', 'h', 't', 'm', 'l', 'h', 'i', 'n', 't', '/', 'H', 'T', 'M', 'L', 'H', 'i', 'n', 't']\n",
      "['validator', 'validator', 'v', 'a', 'l', 'i', 'd', 'a', 't', 'o', 'r', '/', 'v', 'a', 'l', 'i', 'd', 'a', 't', 'o', 'r']\n",
      "['CSSLint', 'csslint', 'C', 'S', 'S', 'L', 'i', 'n', 't', '/', 'c', 's', 's', 'l', 'i', 'n', 't']\n",
      "['PyCQA', 'pycodestyle', 'P', 'y', 'C', 'Q', 'A', '/', 'p', 'y', 'c', 'o', 'd', 'e', 's', 't', 'y', 'l', 'e']\n",
      "['PyCQA', 'flake8', 'P', 'y', 'C', 'Q', 'A', '/', 'f', 'l', 'a', 'k', 'e', '8']\n",
      "['psf', 'black', 'p', 's', 'f', '/', 'b', 'l', 'a', 'c', 'k']\n",
      "['checkstyle', 'checkstyle', 'c', 'h', 'e', 'c', 'k', 's', 't', 'y', 'l', 'e', '/', 'c', 'h', 'e', 'c', 'k', 's', 't', 'y', 'l', 'e']\n",
      "['rubocop-hq', 'rubocop', 'r', 'u', 'b', 'o', 'c', 'o', 'p', '-', 'h', 'q', '/', 'r', 'u', 'b', 'o', 'c', 'o', 'p']\n",
      "['oclint', 'oclint', 'o', 'c', 'l', 'i', 'n', 't', '/', 'o', 'c', 'l', 'i', 'n', 't']\n",
      "['golang', 'lint', 'g', 'o', 'l', 'a', 'n', 'g', '/', 'l', 'i', 'n', 't']\n",
      "['ndmitchell', 'hlint', 'n', 'd', 'm', 'i', 't', 'c', 'h', 'e', 'l', 'l', '/', 'h', 'l', 'i', 'n', 't']\n",
      "['coala', 'coala', 'c', 'o', 'a', 'l', 'a', '/', 'c', 'o', 'a', 'l', 'a']\n",
      "['pre-commit', 'pre-commit', 'p', 'r', 'e', '-', 'c', 'o', 'm', 'm', 'i', 't', '/', 'p', 'r', 'e', '-', 'c', 'o', 'm', 'm', 'i', 't']\n",
      "['innogames', 'igcommit', 'i', 'n', 'n', 'o', 'g', 'a', 'm', 'e', 's', '/', 'i', 'g', 'c', 'o', 'm', 'm', 'i', 't']\n",
      "['fivethirtyeight', 'data', 'f', 'i', 'v', 'e', 't', 'h', 'i', 'r', 't', 'y', 'e', 'i', 'g', 'h', 't', '/', 'd', 'a', 't', 'a']\n",
      "['datadesk', 'notebooks', 'd', 'a', 't', 'a', 'd', 'e', 's', 'k', '/', 'n', 'o', 't', 'e', 'b', 'o', 'o', 'k', 's']\n",
      "['nytimes', 'objective-c-style-guide', 'n', 'y', 't', 'i', 'm', 'e', 's', '/', 'o', 'b', 'j', 'e', 'c', 't', 'i', 'v', 'e', '-', 'c', '-', 's', 't', 'y', 'l', 'e', '-', 'g', 'u', 'i', 'd', 'e']\n",
      "['newsapps', 'beeswithmachineguns', 'n', 'e', 'w', 's', 'a', 'p', 'p', 's', '/', 'b', 'e', 'e', 's', 'w', 'i', 't', 'h', 'm', 'a', 'c', 'h', 'i', 'n', 'e', 'g', 'u', 'n', 's']\n",
      "['voxmedia', 'meme', 'v', 'o', 'x', 'm', 'e', 'd', 'i', 'a', '/', 'm', 'e', 'm', 'e']\n",
      "['propublica', 'guides', 'p', 'r', 'o', 'p', 'u', 'b', 'l', 'i', 'c', 'a', '/', 'g', 'u', 'i', 'd', 'e', 's']\n",
      "['censusreporter', 'censusreporter', 'c', 'e', 'n', 's', 'u', 's', 'r', 'e', 'p', 'o', 'r', 't', 'e', 'r', '/', 'c', 'e', 'n', 's', 'u', 's', 'r', 'e', 'p', 'o', 'r', 't', 'e', 'r']\n",
      "['nprapps', 'app-template', 'n', 'p', 'r', 'a', 'p', 'p', 's', '/', 'a', 'p', 'p', '-', 't', 'e', 'm', 'p', 'l', 'a', 't', 'e']\n",
      "['TimeMagazineLabs', 'babynames', 'T', 'i', 'm', 'e', 'M', 'a', 'g', 'a', 'z', 'i', 'n', 'e', 'L', 'a', 'b', 's', '/', 'b', 'a', 'b', 'y', 'n', 'a', 'm', 'e', 's']\n",
      "['guardian', 'frontend', 'g', 'u', 'a', 'r', 'd', 'i', 'a', 'n', '/', 'f', 'r', 'o', 'n', 't', 'e', 'n', 'd']\n",
      "['dukechronicle', 'chronline', 'd', 'u', 'k', 'e', 'c', 'h', 'r', 'o', 'n', 'i', 'c', 'l', 'e', '/', 'c', 'h', 'r', 'o', 'n', 'l', 'i', 'n', 'e']\n",
      "['BloombergMedia', 'whatiscode', 'B', 'l', 'o', 'o', 'm', 'b', 'e', 'r', 'g', 'M', 'e', 'd', 'i', 'a', '/', 'w', 'h', 'a', 't', 'i', 's', 'c', 'o', 'd', 'e']\n",
      "['times', 'cardkit', 't', 'i', 'm', 'e', 's', '/', 'c', 'a', 'r', 'd', 'k', 'i', 't']\n",
      "['mkiser', 'WTFJHT', 'm', 'k', 'i', 's', 'e', 'r', '/', 'W', 'T', 'F', 'J', 'H', 'T']\n",
      "['twbs', 'bootstrap', 't', 'w', 'b', 's', '/', 'b', 'o', 'o', 't', 's', 't', 'r', 'a', 'p']\n",
      "['daneden', 'animate.css', 'd', 'a', 'n', 'e', 'd', 'e', 'n', '/', 'a', 'n', 'i', 'm', 'a', 't', 'e', '.', 'c', 's', 's']\n",
      "['nathansmith', '960-Grid-System', 'n', 'a', 't', 'h', 'a', 'n', 's', 'm', 'i', 't', 'h', '/', '9', '6', '0', '-', 'G', 'r', 'i', 'd', '-', 'S', 'y', 's', 't', 'e', 'm']\n",
      "['necolas', 'normalize.css', 'n', 'e', 'c', 'o', 'l', 'a', 's', '/', 'n', 'o', 'r', 'm', 'a', 'l', 'i', 'z', 'e', '.', 'c', 's', 's']\n",
      "['ionic-team', 'ionicons', 'i', 'o', 'n', 'i', 'c', '-', 't', 'e', 'a', 'm', '/', 'i', 'o', 'n', 'i', 'c', 'o', 'n', 's']\n",
      "['designmodo', 'Flat-UI', 'd', 'e', 's', 'i', 'g', 'n', 'm', 'o', 'd', 'o', '/', 'F', 'l', 'a', 't', '-', 'U', 'I']\n",
      "['h5bp', 'html5-boilerplate', 'h', '5', 'b', 'p', '/', 'h', 't', 'm', 'l', '5', '-', 'b', 'o', 'i', 'l', 'e', 'r', 'p', 'l', 'a', 't', 'e']\n",
      "['foundation', 'foundation-sites', 'f', 'o', 'u', 'n', 'd', 'a', 't', 'i', 'o', 'n', '/', 'f', 'o', 'u', 'n', 'd', 'a', 't', 'i', 'o', 'n', '-', 's', 'i', 't', 'e', 's']\n",
      "['Modernizr', 'Modernizr', 'M', 'o', 'd', 'e', 'r', 'n', 'i', 'z', 'r', '/', 'M', 'o', 'd', 'e', 'r', 'n', 'i', 'z', 'r']\n",
      "['twbs', 'ratchet', 't', 'w', 'b', 's', '/', 'r', 'a', 't', 'c', 'h', 'e', 't']\n",
      "['IanLunn', 'Hover', 'I', 'a', 'n', 'L', 'u', 'n', 'n', '/', 'H', 'o', 'v', 'e', 'r']\n",
      "['connors', 'photon', 'c', 'o', 'n', 'n', 'o', 'r', 's', '/', 'p', 'h', 'o', 't', 'o', 'n']\n",
      "['basscss', 'basscss', 'b', 'a', 's', 's', 'c', 's', 's', '/', 'b', 'a', 's', 's', 'c', 's', 's']\n",
      "['atlemo', 'SubtlePatterns', 'a', 't', 'l', 'e', 'm', 'o', '/', 'S', 'u', 'b', 't', 'l', 'e', 'P', 'a', 't', 't', 'e', 'r', 'n', 's']\n",
      "['mrmrs', 'colors', 'm', 'r', 'm', 'r', 's', '/', 'c', 'o', 'l', 'o', 'r', 's']\n",
      "['beetbox', 'beets', 'b', 'e', 'e', 't', 'b', 'o', 'x', '/', 'b', 'e', 'e', 't', 's']\n",
      "['scottschiller', 'SoundManager2', 's', 'c', 'o', 't', 't', 's', 'c', 'h', 'i', 'l', 'l', 'e', 'r', '/', 'S', 'o', 'u', 'n', 'd', 'M', 'a', 'n', 'a', 'g', 'e', 'r', '2']\n",
      "['CreateJS', 'SoundJS', 'C', 'r', 'e', 'a', 't', 'e', 'J', 'S', '/', 'S', 'o', 'u', 'n', 'd', 'J', 'S']\n",
      "['musescore', 'MuseScore', 'm', 'u', 's', 'e', 's', 'c', 'o', 'r', 'e', '/', 'M', 'u', 's', 'e', 'S', 'c', 'o', 'r', 'e']\n",
      "['tomahawk-player', 'tomahawk', 't', 'o', 'm', 'a', 'h', 'a', 'w', 'k', '-', 'p', 'l', 'a', 'y', 'e', 'r', '/', 't', 'o', 'm', 'a', 'h', 'a', 'w', 'k']\n",
      "['cashmusic', 'platform', 'c', 'a', 's', 'h', 'm', 'u', 's', 'i', 'c', '/', 'p', 'l', 'a', 't', 'f', 'o', 'r', 'm']\n",
      "['mopidy', 'mopidy', 'm', 'o', 'p', 'i', 'd', 'y', '/', 'm', 'o', 'p', 'i', 'd', 'y']\n",
      "['AudioKit', 'AudioKit', 'A', 'u', 'd', 'i', 'o', 'K', 'i', 't', '/', 'A', 'u', 'd', 'i', 'o', 'K', 'i', 't']\n",
      "['Soundnode', 'soundnode-app', 'S', 'o', 'u', 'n', 'd', 'n', 'o', 'd', 'e', '/', 's', 'o', 'u', 'n', 'd', 'n', 'o', 'd', 'e', '-', 'a', 'p', 'p']\n",
      "['gillesdemey', 'Cumulus', 'g', 'i', 'l', 'l', 'e', 's', 'd', 'e', 'm', 'e', 'y', '/', 'C', 'u', 'm', 'u', 'l', 'u', 's']\n",
      "['metabrainz', 'picard', 'm', 'e', 't', 'a', 'b', 'r', 'a', 'i', 'n', 'z', '/', 'p', 'i', 'c', 'a', 'r', 'd']\n",
      "['overtone', 'overtone', 'o', 'v', 'e', 'r', 't', 'o', 'n', 'e', '/', 'o', 'v', 'e', 'r', 't', 'o', 'n', 'e']\n",
      "['samaaron', 'sonic-pi', 's', 'a', 'm', 'a', 'a', 'r', 'o', 'n', '/', 's', 'o', 'n', 'i', 'c', '-', 'p', 'i']\n",
      "['puppetlabs', 'puppet', 'p', 'u', 'p', 'p', 'e', 't', 'l', 'a', 'b', 's', '/', 'p', 'u', 'p', 'p', 'e', 't']\n",
      "['chef', 'chef', 'c', 'h', 'e', 'f', '/', 'c', 'h', 'e', 'f']\n",
      "['ansible', 'ansible', 'a', 'n', 's', 'i', 'b', 'l', 'e', '/', 'a', 'n', 's', 'i', 'b', 'l', 'e']\n",
      "['saltstack', 'salt', 's', 'a', 'l', 't', 's', 't', 'a', 'c', 'k', '/', 's', 'a', 'l', 't']\n",
      "['hashicorp', 'vagrant', 'h', 'a', 's', 'h', 'i', 'c', 'o', 'r', 'p', '/', 'v', 'a', 'g', 'r', 'a', 'n', 't']\n",
      "['openstack', 'openstack', 'o', 'p', 'e', 'n', 's', 't', 'a', 'c', 'k', '/', 'o', 'p', 'e', 'n', 's', 't', 'a', 'c', 'k']\n",
      "['moby', 'moby', 'm', 'o', 'b', 'y', '/', 'm', 'o', 'b', 'y']\n",
      "['capistrano', 'capistrano', 'c', 'a', 'p', 'i', 's', 't', 'r', 'a', 'n', 'o', '/', 'c', 'a', 'p', 'i', 's', 't', 'r', 'a', 'n', 'o']\n",
      "['statsd', 'statsd', 's', 't', 'a', 't', 's', 'd', '/', 's', 't', 'a', 't', 's', 'd']\n",
      "['graphite-project', 'graphite-web', 'g', 'r', 'a', 'p', 'h', 'i', 't', 'e', '-', 'p', 'r', 'o', 'j', 'e', 'c', 't', '/', 'g', 'r', 'a', 'p', 'h', 'i', 't', 'e', '-', 'w', 'e', 'b']\n",
      "['elastic', 'logstash', 'e', 'l', 'a', 's', 't', 'i', 'c', '/', 'l', 'o', 'g', 's', 't', 'a', 's', 'h']\n",
      "['fabric', 'fabric', 'f', 'a', 'b', 'r', 'i', 'c', '/', 'f', 'a', 'b', 'r', 'i', 'c']\n",
      "['grafana', 'grafana', 'g', 'r', 'a', 'f', 'a', 'n', 'a', '/', 'g', 'r', 'a', 'f', 'a', 'n', 'a']\n",
      "['StackStorm', 'st2', 'S', 't', 'a', 'c', 'k', 'S', 't', 'o', 'r', 'm', '/', 's', 't', '2']\n",
      "['openshift', 'origin', 'o', 'p', 'e', 'n', 's', 'h', 'i', 'f', 't', '/', 'o', 'r', 'i', 'g', 'i', 'n']\n",
      "['getsentry', 'sentry', 'g', 'e', 't', 's', 'e', 'n', 't', 'r', 'y', '/', 's', 'e', 'n', 't', 'r', 'y']\n",
      "['deployphp', 'deployer', 'd', 'e', 'p', 'l', 'o', 'y', 'p', 'h', 'p', '/', 'd', 'e', 'p', 'l', 'o', 'y', 'e', 'r']\n",
      "['kubernetes', 'kubernetes', 'k', 'u', 'b', 'e', 'r', 'n', 'e', 't', 'e', 's', '/', 'k', 'u', 'b', 'e', 'r', 'n', 'e', 't', 'e', 's']\n",
      "['netdata', 'netdata', 'n', 'e', 't', 'd', 'a', 't', 'a', '/', 'n', 'e', 't', 'd', 'a', 't', 'a']\n",
      "['cloud66-oss', 'habitus', 'c', 'l', 'o', 'u', 'd', '6', '6', '-', 'o', 's', 's', '/', 'h', 'a', 'b', 'i', 't', 'u', 's']\n"
     ]
    }
   ],
   "source": [
    "for url in repo_url_end:\n",
    "    x = url.split('/')\n",
    "    x.extend(url)\n",
    "    print(x)"
   ]
  },
  {
   "cell_type": "code",
   "execution_count": 29,
   "metadata": {},
   "outputs": [],
   "source": [
    "acquire.scrape_github_data()"
   ]
  },
  {
   "cell_type": "code",
   "execution_count": 78,
   "metadata": {},
   "outputs": [],
   "source": [
    "original_df = pd.read_json('data.json')"
   ]
  },
  {
   "cell_type": "code",
   "execution_count": 122,
   "metadata": {},
   "outputs": [
    {
     "data": {
      "text/plain": [
       "(100, 3)"
      ]
     },
     "execution_count": 122,
     "metadata": {},
     "output_type": "execute_result"
    }
   ],
   "source": [
    "original_df.shape"
   ]
  },
  {
   "cell_type": "code",
   "execution_count": 80,
   "metadata": {},
   "outputs": [
    {
     "data": {
      "text/html": [
       "<div>\n",
       "<style scoped>\n",
       "    .dataframe tbody tr th:only-of-type {\n",
       "        vertical-align: middle;\n",
       "    }\n",
       "\n",
       "    .dataframe tbody tr th {\n",
       "        vertical-align: top;\n",
       "    }\n",
       "\n",
       "    .dataframe thead th {\n",
       "        text-align: right;\n",
       "    }\n",
       "</style>\n",
       "<table border=\"1\" class=\"dataframe\">\n",
       "  <thead>\n",
       "    <tr style=\"text-align: right;\">\n",
       "      <th></th>\n",
       "      <th>language</th>\n",
       "      <th>readme_contents</th>\n",
       "      <th>repo</th>\n",
       "    </tr>\n",
       "  </thead>\n",
       "  <tbody>\n",
       "    <tr>\n",
       "      <th>count</th>\n",
       "      <td>100</td>\n",
       "      <td>107</td>\n",
       "      <td>107</td>\n",
       "    </tr>\n",
       "    <tr>\n",
       "      <th>unique</th>\n",
       "      <td>18</td>\n",
       "      <td>107</td>\n",
       "      <td>107</td>\n",
       "    </tr>\n",
       "    <tr>\n",
       "      <th>top</th>\n",
       "      <td>JavaScript</td>\n",
       "      <td>nprviz's Project Template\\n===================...</td>\n",
       "      <td>rclone/rclone</td>\n",
       "    </tr>\n",
       "    <tr>\n",
       "      <th>freq</th>\n",
       "      <td>25</td>\n",
       "      <td>1</td>\n",
       "      <td>1</td>\n",
       "    </tr>\n",
       "  </tbody>\n",
       "</table>\n",
       "</div>"
      ],
      "text/plain": [
       "          language                                    readme_contents  \\\n",
       "count          100                                                107   \n",
       "unique          18                                                107   \n",
       "top     JavaScript  nprviz's Project Template\\n===================...   \n",
       "freq            25                                                  1   \n",
       "\n",
       "                 repo  \n",
       "count             107  \n",
       "unique            107  \n",
       "top     rclone/rclone  \n",
       "freq                1  "
      ]
     },
     "execution_count": 80,
     "metadata": {},
     "output_type": "execute_result"
    }
   ],
   "source": [
    "original_df.describe()"
   ]
  },
  {
   "cell_type": "code",
   "execution_count": 81,
   "metadata": {},
   "outputs": [
    {
     "name": "stdout",
     "output_type": "stream",
     "text": [
      "<class 'pandas.core.frame.DataFrame'>\n",
      "RangeIndex: 107 entries, 0 to 106\n",
      "Data columns (total 3 columns):\n",
      "language           100 non-null object\n",
      "readme_contents    107 non-null object\n",
      "repo               107 non-null object\n",
      "dtypes: object(3)\n",
      "memory usage: 2.6+ KB\n"
     ]
    }
   ],
   "source": [
    "original_df.info()"
   ]
  },
  {
   "cell_type": "code",
   "execution_count": 82,
   "metadata": {},
   "outputs": [],
   "source": [
    "original_df = original_df.dropna()"
   ]
  },
  {
   "cell_type": "code",
   "execution_count": 83,
   "metadata": {},
   "outputs": [
    {
     "data": {
      "text/plain": [
       "(100, 3)"
      ]
     },
     "execution_count": 83,
     "metadata": {},
     "output_type": "execute_result"
    }
   ],
   "source": [
    "original_df.shape"
   ]
  },
  {
   "cell_type": "code",
   "execution_count": 84,
   "metadata": {},
   "outputs": [],
   "source": [
    "original_df = original_df.reset_index()"
   ]
  },
  {
   "cell_type": "code",
   "execution_count": 85,
   "metadata": {},
   "outputs": [],
   "source": [
    "original_df = original_df.drop(columns='index')"
   ]
  },
  {
   "cell_type": "code",
   "execution_count": 86,
   "metadata": {},
   "outputs": [
    {
     "data": {
      "text/html": [
       "<div>\n",
       "<style scoped>\n",
       "    .dataframe tbody tr th:only-of-type {\n",
       "        vertical-align: middle;\n",
       "    }\n",
       "\n",
       "    .dataframe tbody tr th {\n",
       "        vertical-align: top;\n",
       "    }\n",
       "\n",
       "    .dataframe thead th {\n",
       "        text-align: right;\n",
       "    }\n",
       "</style>\n",
       "<table border=\"1\" class=\"dataframe\">\n",
       "  <thead>\n",
       "    <tr style=\"text-align: right;\">\n",
       "      <th></th>\n",
       "      <th>language</th>\n",
       "      <th>readme_contents</th>\n",
       "      <th>repo</th>\n",
       "    </tr>\n",
       "  </thead>\n",
       "  <tbody>\n",
       "    <tr>\n",
       "      <th>0</th>\n",
       "      <td>Python</td>\n",
       "      <td># AIDungeon2\\n\\n### The model for AI Dungeon2 ...</td>\n",
       "      <td>AIDungeon/AIDungeon</td>\n",
       "    </tr>\n",
       "    <tr>\n",
       "      <th>1</th>\n",
       "      <td>Go</td>\n",
       "      <td>[&lt;img src=\"https://rclone.org/img/logo_on_ligh...</td>\n",
       "      <td>rclone/rclone</td>\n",
       "    </tr>\n",
       "    <tr>\n",
       "      <th>2</th>\n",
       "      <td>Python</td>\n",
       "      <td># PythonPlantsVsZombies\\na simple PlantsVsZomb...</td>\n",
       "      <td>marblexu/PythonPlantsVsZombies</td>\n",
       "    </tr>\n",
       "    <tr>\n",
       "      <th>3</th>\n",
       "      <td>Rust</td>\n",
       "      <td>&lt;img alt=\"OrbTk\" width=\"380\" src=\"https://gitl...</td>\n",
       "      <td>redox-os/orbtk</td>\n",
       "    </tr>\n",
       "    <tr>\n",
       "      <th>4</th>\n",
       "      <td>C</td>\n",
       "      <td># UAC Bypass In The Wild\\nWindows 10 UAC bypas...</td>\n",
       "      <td>sailay1996/UAC_Bypass_In_The_Wild</td>\n",
       "    </tr>\n",
       "  </tbody>\n",
       "</table>\n",
       "</div>"
      ],
      "text/plain": [
       "  language                                    readme_contents  \\\n",
       "0   Python  # AIDungeon2\\n\\n### The model for AI Dungeon2 ...   \n",
       "1       Go  [<img src=\"https://rclone.org/img/logo_on_ligh...   \n",
       "2   Python  # PythonPlantsVsZombies\\na simple PlantsVsZomb...   \n",
       "3     Rust  <img alt=\"OrbTk\" width=\"380\" src=\"https://gitl...   \n",
       "4        C  # UAC Bypass In The Wild\\nWindows 10 UAC bypas...   \n",
       "\n",
       "                                repo  \n",
       "0                AIDungeon/AIDungeon  \n",
       "1                      rclone/rclone  \n",
       "2     marblexu/PythonPlantsVsZombies  \n",
       "3                     redox-os/orbtk  \n",
       "4  sailay1996/UAC_Bypass_In_The_Wild  "
      ]
     },
     "execution_count": 86,
     "metadata": {},
     "output_type": "execute_result"
    }
   ],
   "source": [
    "original_df.head()"
   ]
  },
  {
   "cell_type": "code",
   "execution_count": 87,
   "metadata": {},
   "outputs": [],
   "source": [
    "df = original_df[['language', 'readme_contents']]"
   ]
  },
  {
   "cell_type": "code",
   "execution_count": 89,
   "metadata": {},
   "outputs": [
    {
     "data": {
      "text/html": [
       "<div>\n",
       "<style scoped>\n",
       "    .dataframe tbody tr th:only-of-type {\n",
       "        vertical-align: middle;\n",
       "    }\n",
       "\n",
       "    .dataframe tbody tr th {\n",
       "        vertical-align: top;\n",
       "    }\n",
       "\n",
       "    .dataframe thead th {\n",
       "        text-align: right;\n",
       "    }\n",
       "</style>\n",
       "<table border=\"1\" class=\"dataframe\">\n",
       "  <thead>\n",
       "    <tr style=\"text-align: right;\">\n",
       "      <th></th>\n",
       "      <th>language</th>\n",
       "      <th>readme_contents</th>\n",
       "    </tr>\n",
       "  </thead>\n",
       "  <tbody>\n",
       "    <tr>\n",
       "      <th>0</th>\n",
       "      <td>Python</td>\n",
       "      <td># AIDungeon2\\n\\n### The model for AI Dungeon2 ...</td>\n",
       "    </tr>\n",
       "    <tr>\n",
       "      <th>1</th>\n",
       "      <td>Go</td>\n",
       "      <td>[&lt;img src=\"https://rclone.org/img/logo_on_ligh...</td>\n",
       "    </tr>\n",
       "    <tr>\n",
       "      <th>2</th>\n",
       "      <td>Python</td>\n",
       "      <td># PythonPlantsVsZombies\\na simple PlantsVsZomb...</td>\n",
       "    </tr>\n",
       "    <tr>\n",
       "      <th>3</th>\n",
       "      <td>Rust</td>\n",
       "      <td>&lt;img alt=\"OrbTk\" width=\"380\" src=\"https://gitl...</td>\n",
       "    </tr>\n",
       "    <tr>\n",
       "      <th>4</th>\n",
       "      <td>C</td>\n",
       "      <td># UAC Bypass In The Wild\\nWindows 10 UAC bypas...</td>\n",
       "    </tr>\n",
       "  </tbody>\n",
       "</table>\n",
       "</div>"
      ],
      "text/plain": [
       "  language                                    readme_contents\n",
       "0   Python  # AIDungeon2\\n\\n### The model for AI Dungeon2 ...\n",
       "1       Go  [<img src=\"https://rclone.org/img/logo_on_ligh...\n",
       "2   Python  # PythonPlantsVsZombies\\na simple PlantsVsZomb...\n",
       "3     Rust  <img alt=\"OrbTk\" width=\"380\" src=\"https://gitl...\n",
       "4        C  # UAC Bypass In The Wild\\nWindows 10 UAC bypas..."
      ]
     },
     "execution_count": 89,
     "metadata": {},
     "output_type": "execute_result"
    }
   ],
   "source": [
    "df.head()"
   ]
  },
  {
   "cell_type": "code",
   "execution_count": 93,
   "metadata": {},
   "outputs": [],
   "source": [
    "def normalize(string):\n",
    "    \"\"\"\n",
    "    Convert to all lowercase  \n",
    "    Normalize the unicode chars  \n",
    "    Remove any non-alpha or whitespace characters  \n",
    "    Remove any alpha strings with 2 characters or less  \n",
    "    \"\"\"\n",
    "    string = string.lower()\n",
    "    string = unicodedata.normalize('NFKD', string).encode('ascii', 'ignore').decode('utf-8', 'ignore')\n",
    "    \n",
    "    # keep only alpha chars\n",
    "    string = re.sub(r'[^a-z]', ' ', string)\n",
    "    \n",
    "    # remove strings less than 2 chars in length\n",
    "    string = re.sub(r'\\b[a-z]{,2}\\b', '', string)\n",
    "    \n",
    "    # convert newlines and tabs to a single space\n",
    "    string = re.sub(r'[\\r|\\n|\\r\\n]+', ' ', string)\n",
    "    \n",
    "    # strip extra whitespace\n",
    "    string = string.strip()\n",
    "    \n",
    "    return string\n",
    "\n",
    "df = df.assign(normalized = df.readme_contents.apply(normalize))"
   ]
  },
  {
   "cell_type": "code",
   "execution_count": 94,
   "metadata": {},
   "outputs": [
    {
     "data": {
      "text/html": [
       "<div>\n",
       "<style scoped>\n",
       "    .dataframe tbody tr th:only-of-type {\n",
       "        vertical-align: middle;\n",
       "    }\n",
       "\n",
       "    .dataframe tbody tr th {\n",
       "        vertical-align: top;\n",
       "    }\n",
       "\n",
       "    .dataframe thead th {\n",
       "        text-align: right;\n",
       "    }\n",
       "</style>\n",
       "<table border=\"1\" class=\"dataframe\">\n",
       "  <thead>\n",
       "    <tr style=\"text-align: right;\">\n",
       "      <th></th>\n",
       "      <th>language</th>\n",
       "      <th>readme_contents</th>\n",
       "      <th>normalized</th>\n",
       "    </tr>\n",
       "  </thead>\n",
       "  <tbody>\n",
       "    <tr>\n",
       "      <th>0</th>\n",
       "      <td>Python</td>\n",
       "      <td># AIDungeon2\\n\\n### The model for AI Dungeon2 ...</td>\n",
       "      <td>aidungeon       the model for  dungeon   tempo...</td>\n",
       "    </tr>\n",
       "    <tr>\n",
       "      <th>1</th>\n",
       "      <td>Go</td>\n",
       "      <td>[&lt;img src=\"https://rclone.org/img/logo_on_ligh...</td>\n",
       "      <td>img src  https   rclone org img logo  light  h...</td>\n",
       "    </tr>\n",
       "    <tr>\n",
       "      <th>2</th>\n",
       "      <td>Python</td>\n",
       "      <td># PythonPlantsVsZombies\\na simple PlantsVsZomb...</td>\n",
       "      <td>pythonplantsvszombies  simple plantsvszombies ...</td>\n",
       "    </tr>\n",
       "    <tr>\n",
       "      <th>3</th>\n",
       "      <td>Rust</td>\n",
       "      <td>&lt;img alt=\"OrbTk\" width=\"380\" src=\"https://gitl...</td>\n",
       "      <td>img alt  orbtk  width       src  https   gitla...</td>\n",
       "    </tr>\n",
       "    <tr>\n",
       "      <th>4</th>\n",
       "      <td>C</td>\n",
       "      <td># UAC Bypass In The Wild\\nWindows 10 UAC bypas...</td>\n",
       "      <td>uac bypass  the wild windows    uac bypass for...</td>\n",
       "    </tr>\n",
       "  </tbody>\n",
       "</table>\n",
       "</div>"
      ],
      "text/plain": [
       "  language                                    readme_contents  \\\n",
       "0   Python  # AIDungeon2\\n\\n### The model for AI Dungeon2 ...   \n",
       "1       Go  [<img src=\"https://rclone.org/img/logo_on_ligh...   \n",
       "2   Python  # PythonPlantsVsZombies\\na simple PlantsVsZomb...   \n",
       "3     Rust  <img alt=\"OrbTk\" width=\"380\" src=\"https://gitl...   \n",
       "4        C  # UAC Bypass In The Wild\\nWindows 10 UAC bypas...   \n",
       "\n",
       "                                          normalized  \n",
       "0  aidungeon       the model for  dungeon   tempo...  \n",
       "1  img src  https   rclone org img logo  light  h...  \n",
       "2  pythonplantsvszombies  simple plantsvszombies ...  \n",
       "3  img alt  orbtk  width       src  https   gitla...  \n",
       "4  uac bypass  the wild windows    uac bypass for...  "
      ]
     },
     "execution_count": 94,
     "metadata": {},
     "output_type": "execute_result"
    }
   ],
   "source": [
    "df.head()"
   ]
  },
  {
   "cell_type": "code",
   "execution_count": 97,
   "metadata": {},
   "outputs": [],
   "source": [
    "def stem(string):\n",
    "    ps = nltk.porter.PorterStemmer()\n",
    "    stems = [ps.stem(word) for word in string.split()]\n",
    "    string_of_stems = ' '.join(stems)\n",
    "    return string_of_stems"
   ]
  },
  {
   "cell_type": "code",
   "execution_count": 99,
   "metadata": {},
   "outputs": [],
   "source": [
    "def lemmatize(string):\n",
    "    wnl = nltk.stem.WordNetLemmatizer()\n",
    "    lemmas = [wnl.lemmatize(word) for word in string.split()]\n",
    "    string_of_lemmas = ' '.join(lemmas)\n",
    "    return string_of_lemmas"
   ]
  },
  {
   "cell_type": "code",
   "execution_count": 101,
   "metadata": {},
   "outputs": [],
   "source": [
    "def tokenize(string):\n",
    "    tokenizer = nltk.tokenize.ToktokTokenizer()\n",
    "    return tokenizer.tokenize(string, return_str=True)"
   ]
  },
  {
   "cell_type": "code",
   "execution_count": 187,
   "metadata": {},
   "outputs": [],
   "source": [
    "def remove_stopwords(tokenized_string, extra_words=['https', 'http', 'github', 'www', 'email','gmail', 'com'], exclude_words=[]):\n",
    "    words = tokenized_string.split()\n",
    "    stopword_list = stopwords.words('english')\n",
    "\n",
    "    # remove the excluded words from the stopword list\n",
    "    stopword_list = set(stopword_list) - set(exclude_words)\n",
    "\n",
    "    # add in the user specified extra words\n",
    "    stopword_list = stopword_list.union(set(extra_words))\n",
    "\n",
    "    filtered_words = [w for w in words if w not in stopword_list]\n",
    "    final_string = \" \".join(filtered_words)\n",
    "    return final_string"
   ]
  },
  {
   "cell_type": "code",
   "execution_count": 214,
   "metadata": {},
   "outputs": [
    {
     "data": {
      "text/html": [
       "<div>\n",
       "<style scoped>\n",
       "    .dataframe tbody tr th:only-of-type {\n",
       "        vertical-align: middle;\n",
       "    }\n",
       "\n",
       "    .dataframe tbody tr th {\n",
       "        vertical-align: top;\n",
       "    }\n",
       "\n",
       "    .dataframe thead th {\n",
       "        text-align: right;\n",
       "    }\n",
       "</style>\n",
       "<table border=\"1\" class=\"dataframe\">\n",
       "  <thead>\n",
       "    <tr style=\"text-align: right;\">\n",
       "      <th></th>\n",
       "      <th>language</th>\n",
       "      <th>readme_contents</th>\n",
       "      <th>normalized</th>\n",
       "      <th>original</th>\n",
       "      <th>stemmed</th>\n",
       "      <th>lemmatized</th>\n",
       "      <th>cleaned</th>\n",
       "    </tr>\n",
       "  </thead>\n",
       "  <tbody>\n",
       "    <tr>\n",
       "      <th>0</th>\n",
       "      <td>Python</td>\n",
       "      <td># AIDungeon2\\n\\n### The model for AI Dungeon2 ...</td>\n",
       "      <td>aidungeon       the model for  dungeon   tempo...</td>\n",
       "      <td># AIDungeon2\\n\\n### The model for AI Dungeon2 ...</td>\n",
       "      <td>aidungeon the model for dungeon temporarili un...</td>\n",
       "      <td>aidungeon the model for dungeon temporarily un...</td>\n",
       "      <td>aidungeon model dungeon temporarily unavailabl...</td>\n",
       "    </tr>\n",
       "    <tr>\n",
       "      <th>1</th>\n",
       "      <td>Go</td>\n",
       "      <td>[&lt;img src=\"https://rclone.org/img/logo_on_ligh...</td>\n",
       "      <td>img src  https   rclone org img logo  light  h...</td>\n",
       "      <td>[&lt;img src=\"https://rclone.org/img/logo_on_ligh...</td>\n",
       "      <td>img src http rclone org img logo light horizon...</td>\n",
       "      <td>img src http rclone org img logo light horizon...</td>\n",
       "      <td>img src rclone org img logo light horizontal c...</td>\n",
       "    </tr>\n",
       "    <tr>\n",
       "      <th>2</th>\n",
       "      <td>Python</td>\n",
       "      <td># PythonPlantsVsZombies\\na simple PlantsVsZomb...</td>\n",
       "      <td>pythonplantsvszombies  simple plantsvszombies ...</td>\n",
       "      <td># PythonPlantsVsZombies\\na simple PlantsVsZomb...</td>\n",
       "      <td>pythonplantsvszombi simpl plantsvszombi game i...</td>\n",
       "      <td>pythonplantsvszombies simple plantsvszombies g...</td>\n",
       "      <td>pythonplantsvszombies simple plantsvszombies g...</td>\n",
       "    </tr>\n",
       "    <tr>\n",
       "      <th>3</th>\n",
       "      <td>Rust</td>\n",
       "      <td>&lt;img alt=\"OrbTk\" width=\"380\" src=\"https://gitl...</td>\n",
       "      <td>img alt  orbtk  width       src  https   gitla...</td>\n",
       "      <td>&lt;img alt=\"OrbTk\" width=\"380\" src=\"https://gitl...</td>\n",
       "      <td>img alt orbtk width src http gitlab redox org ...</td>\n",
       "      <td>img alt orbtk width src http gitlab redox org ...</td>\n",
       "      <td>img alt orbtk width src gitlab redox org redox...</td>\n",
       "    </tr>\n",
       "    <tr>\n",
       "      <th>4</th>\n",
       "      <td>C</td>\n",
       "      <td># UAC Bypass In The Wild\\nWindows 10 UAC bypas...</td>\n",
       "      <td>uac bypass  the wild windows    uac bypass for...</td>\n",
       "      <td># UAC Bypass In The Wild\\nWindows 10 UAC bypas...</td>\n",
       "      <td>uac bypass the wild window uac bypass for all ...</td>\n",
       "      <td>uac bypass the wild window uac bypass for all ...</td>\n",
       "      <td>uac bypass wild window uac bypass executable f...</td>\n",
       "    </tr>\n",
       "  </tbody>\n",
       "</table>\n",
       "</div>"
      ],
      "text/plain": [
       "  language                                    readme_contents  \\\n",
       "0   Python  # AIDungeon2\\n\\n### The model for AI Dungeon2 ...   \n",
       "1       Go  [<img src=\"https://rclone.org/img/logo_on_ligh...   \n",
       "2   Python  # PythonPlantsVsZombies\\na simple PlantsVsZomb...   \n",
       "3     Rust  <img alt=\"OrbTk\" width=\"380\" src=\"https://gitl...   \n",
       "4        C  # UAC Bypass In The Wild\\nWindows 10 UAC bypas...   \n",
       "\n",
       "                                          normalized  \\\n",
       "0  aidungeon       the model for  dungeon   tempo...   \n",
       "1  img src  https   rclone org img logo  light  h...   \n",
       "2  pythonplantsvszombies  simple plantsvszombies ...   \n",
       "3  img alt  orbtk  width       src  https   gitla...   \n",
       "4  uac bypass  the wild windows    uac bypass for...   \n",
       "\n",
       "                                            original  \\\n",
       "0  # AIDungeon2\\n\\n### The model for AI Dungeon2 ...   \n",
       "1  [<img src=\"https://rclone.org/img/logo_on_ligh...   \n",
       "2  # PythonPlantsVsZombies\\na simple PlantsVsZomb...   \n",
       "3  <img alt=\"OrbTk\" width=\"380\" src=\"https://gitl...   \n",
       "4  # UAC Bypass In The Wild\\nWindows 10 UAC bypas...   \n",
       "\n",
       "                                             stemmed  \\\n",
       "0  aidungeon the model for dungeon temporarili un...   \n",
       "1  img src http rclone org img logo light horizon...   \n",
       "2  pythonplantsvszombi simpl plantsvszombi game i...   \n",
       "3  img alt orbtk width src http gitlab redox org ...   \n",
       "4  uac bypass the wild window uac bypass for all ...   \n",
       "\n",
       "                                          lemmatized  \\\n",
       "0  aidungeon the model for dungeon temporarily un...   \n",
       "1  img src http rclone org img logo light horizon...   \n",
       "2  pythonplantsvszombies simple plantsvszombies g...   \n",
       "3  img alt orbtk width src http gitlab redox org ...   \n",
       "4  uac bypass the wild window uac bypass for all ...   \n",
       "\n",
       "                                             cleaned  \n",
       "0  aidungeon model dungeon temporarily unavailabl...  \n",
       "1  img src rclone org img logo light horizontal c...  \n",
       "2  pythonplantsvszombies simple plantsvszombies g...  \n",
       "3  img alt orbtk width src gitlab redox org redox...  \n",
       "4  uac bypass wild window uac bypass executable f...  "
      ]
     },
     "execution_count": 214,
     "metadata": {},
     "output_type": "execute_result"
    }
   ],
   "source": [
    "df = df.assign(original = df.readme_contents)\n",
    "\n",
    "df = df.assign(normalized = df.original.apply(normalize))\n",
    "\n",
    "df = df.assign(stemmed = df.normalized.apply(stem))\n",
    "df = df.assign(lemmatized = df.normalized.apply(lemmatize))\n",
    "\n",
    "df = df.assign(cleaned = df.lemmatized.apply(remove_stopwords))\n",
    "df.head()"
   ]
  },
  {
   "cell_type": "code",
   "execution_count": 215,
   "metadata": {},
   "outputs": [
    {
     "data": {
      "text/html": [
       "<div>\n",
       "<style scoped>\n",
       "    .dataframe tbody tr th:only-of-type {\n",
       "        vertical-align: middle;\n",
       "    }\n",
       "\n",
       "    .dataframe tbody tr th {\n",
       "        vertical-align: top;\n",
       "    }\n",
       "\n",
       "    .dataframe thead th {\n",
       "        text-align: right;\n",
       "    }\n",
       "</style>\n",
       "<table border=\"1\" class=\"dataframe\">\n",
       "  <thead>\n",
       "    <tr style=\"text-align: right;\">\n",
       "      <th></th>\n",
       "      <th>language</th>\n",
       "      <th>readme_contents</th>\n",
       "      <th>normalized</th>\n",
       "      <th>original</th>\n",
       "      <th>stemmed</th>\n",
       "      <th>lemmatized</th>\n",
       "      <th>cleaned</th>\n",
       "    </tr>\n",
       "  </thead>\n",
       "  <tbody>\n",
       "    <tr>\n",
       "      <th>95</th>\n",
       "      <td>Python</td>\n",
       "      <td>.. raw:: html\\n\\n   &lt;p align=\"center\"&gt;\\n     &lt;...</td>\n",
       "      <td>raw   html       align  center          align ...</td>\n",
       "      <td>.. raw:: html\\n\\n   &lt;p align=\"center\"&gt;\\n     &lt;...</td>\n",
       "      <td>raw html align center align center href http s...</td>\n",
       "      <td>raw html align center align center href http s...</td>\n",
       "      <td>raw html align center align center href sentry...</td>\n",
       "    </tr>\n",
       "    <tr>\n",
       "      <th>96</th>\n",
       "      <td>PHP</td>\n",
       "      <td># Deployer\\n\\n&lt;a href=\"https://travis-ci.org/d...</td>\n",
       "      <td>deployer    href  https   travis  org deployph...</td>\n",
       "      <td># Deployer\\n\\n&lt;a href=\"https://travis-ci.org/d...</td>\n",
       "      <td>deploy href http travi org deployphp deploy im...</td>\n",
       "      <td>deployer href http travis org deployphp deploy...</td>\n",
       "      <td>deployer href travis org deployphp deployer im...</td>\n",
       "    </tr>\n",
       "    <tr>\n",
       "      <th>97</th>\n",
       "      <td>Go</td>\n",
       "      <td># Kubernetes\\n\\n[![GoDoc Widget]][GoDoc] [![CI...</td>\n",
       "      <td>kubernetes     godoc widget   godoc     cii be...</td>\n",
       "      <td># Kubernetes\\n\\n[![GoDoc Widget]][GoDoc] [![CI...</td>\n",
       "      <td>kubernet godoc widget godoc cii best practic h...</td>\n",
       "      <td>kubernetes godoc widget godoc cii best practic...</td>\n",
       "      <td>kubernetes godoc widget godoc cii best practic...</td>\n",
       "    </tr>\n",
       "    <tr>\n",
       "      <th>98</th>\n",
       "      <td>C</td>\n",
       "      <td># Netdata [![Build Status](https://travis-ci.c...</td>\n",
       "      <td>netdata    build status  https   travis  com n...</td>\n",
       "      <td># Netdata [![Build Status](https://travis-ci.c...</td>\n",
       "      <td>netdata build statu http travi com netdata net...</td>\n",
       "      <td>netdata build status http travis com netdata n...</td>\n",
       "      <td>netdata build status travis netdata netdata sv...</td>\n",
       "    </tr>\n",
       "    <tr>\n",
       "      <th>99</th>\n",
       "      <td>Go</td>\n",
       "      <td>&lt;img src=\"http://cdn2-cloud66-com.s3.amazonaws...</td>\n",
       "      <td>img src  http   cdn  cloud   com   amazonaws c...</td>\n",
       "      <td>&lt;img src=\"http://cdn2-cloud66-com.s3.amazonaws...</td>\n",
       "      <td>img src http cdn cloud com amazonaw com imag o...</td>\n",
       "      <td>img src http cdn cloud com amazonaws com image...</td>\n",
       "      <td>img src cdn cloud amazonaws image os sponsorsh...</td>\n",
       "    </tr>\n",
       "  </tbody>\n",
       "</table>\n",
       "</div>"
      ],
      "text/plain": [
       "   language                                    readme_contents  \\\n",
       "95   Python  .. raw:: html\\n\\n   <p align=\"center\">\\n     <...   \n",
       "96      PHP  # Deployer\\n\\n<a href=\"https://travis-ci.org/d...   \n",
       "97       Go  # Kubernetes\\n\\n[![GoDoc Widget]][GoDoc] [![CI...   \n",
       "98        C  # Netdata [![Build Status](https://travis-ci.c...   \n",
       "99       Go  <img src=\"http://cdn2-cloud66-com.s3.amazonaws...   \n",
       "\n",
       "                                           normalized  \\\n",
       "95  raw   html       align  center          align ...   \n",
       "96  deployer    href  https   travis  org deployph...   \n",
       "97  kubernetes     godoc widget   godoc     cii be...   \n",
       "98  netdata    build status  https   travis  com n...   \n",
       "99  img src  http   cdn  cloud   com   amazonaws c...   \n",
       "\n",
       "                                             original  \\\n",
       "95  .. raw:: html\\n\\n   <p align=\"center\">\\n     <...   \n",
       "96  # Deployer\\n\\n<a href=\"https://travis-ci.org/d...   \n",
       "97  # Kubernetes\\n\\n[![GoDoc Widget]][GoDoc] [![CI...   \n",
       "98  # Netdata [![Build Status](https://travis-ci.c...   \n",
       "99  <img src=\"http://cdn2-cloud66-com.s3.amazonaws...   \n",
       "\n",
       "                                              stemmed  \\\n",
       "95  raw html align center align center href http s...   \n",
       "96  deploy href http travi org deployphp deploy im...   \n",
       "97  kubernet godoc widget godoc cii best practic h...   \n",
       "98  netdata build statu http travi com netdata net...   \n",
       "99  img src http cdn cloud com amazonaw com imag o...   \n",
       "\n",
       "                                           lemmatized  \\\n",
       "95  raw html align center align center href http s...   \n",
       "96  deployer href http travis org deployphp deploy...   \n",
       "97  kubernetes godoc widget godoc cii best practic...   \n",
       "98  netdata build status http travis com netdata n...   \n",
       "99  img src http cdn cloud com amazonaws com image...   \n",
       "\n",
       "                                              cleaned  \n",
       "95  raw html align center align center href sentry...  \n",
       "96  deployer href travis org deployphp deployer im...  \n",
       "97  kubernetes godoc widget godoc cii best practic...  \n",
       "98  netdata build status travis netdata netdata sv...  \n",
       "99  img src cdn cloud amazonaws image os sponsorsh...  "
      ]
     },
     "execution_count": 215,
     "metadata": {},
     "output_type": "execute_result"
    }
   ],
   "source": [
    "df.tail()"
   ]
  },
  {
   "cell_type": "code",
   "execution_count": 216,
   "metadata": {},
   "outputs": [],
   "source": [
    "def prep_articles(df):\n",
    "    df = df.assign(original = df.readme_contents)\n",
    "    df = df.assign(normalized = df.original.apply(normalize))\n",
    "    df = df.assign(stemmed = df.normalized.apply(stem))\n",
    "    df = df.assign(lemmatized = df.normalized.apply(lemmatize))\n",
    "    df = df.assign(cleaned = df.lemmatized.apply(remove_stopwords))\n",
    "    df.drop(columns=[\"title\"], inplace=True)\n",
    "    return df"
   ]
  },
  {
   "cell_type": "code",
   "execution_count": 217,
   "metadata": {},
   "outputs": [],
   "source": [
    "raw_count = pd.Series(\" \".join(df.cleaned).split()).value_counts()"
   ]
  },
  {
   "cell_type": "code",
   "execution_count": 218,
   "metadata": {},
   "outputs": [
    {
     "data": {
      "text/plain": [
       "org             634\n",
       "img             558\n",
       "file            514\n",
       "src             489\n",
       "svg             470\n",
       "html            394\n",
       "code            384\n",
       "use             364\n",
       "doc             354\n",
       "standard        333\n",
       "href            324\n",
       "netdata         323\n",
       "master          316\n",
       "project         315\n",
       "data            306\n",
       "license         301\n",
       "cs              292\n",
       "plugin          275\n",
       "badge           274\n",
       "build           269\n",
       "using           254\n",
       "run             249\n",
       "line            230\n",
       "install         230\n",
       "png             217\n",
       "black           215\n",
       "image           211\n",
       "python          208\n",
       "release         205\n",
       "version         204\n",
       "               ... \n",
       "rewriting         1\n",
       "rendererd         1\n",
       "apms              1\n",
       "ackermann         1\n",
       "percebidos        1\n",
       "userouting        1\n",
       "olhada            1\n",
       "comparar          1\n",
       "instancia         1\n",
       "lugar             1\n",
       "bsdtar            1\n",
       "generica          1\n",
       "bi                1\n",
       "emulate           1\n",
       "comprised         1\n",
       "freq              1\n",
       "conexoes          1\n",
       "facilitated       1\n",
       "uteis             1\n",
       "nav               1\n",
       "ivar              1\n",
       "csh               1\n",
       "carolcode         1\n",
       "dedicados         1\n",
       "dsl               1\n",
       "fostering         1\n",
       "expectativas      1\n",
       "oqtkewcce         1\n",
       "esperados         1\n",
       "abrem             1\n",
       "Length: 9902, dtype: int64"
      ]
     },
     "execution_count": 218,
     "metadata": {},
     "output_type": "execute_result"
    }
   ],
   "source": [
    "raw_count"
   ]
  },
  {
   "cell_type": "code",
   "execution_count": 219,
   "metadata": {},
   "outputs": [
    {
     "data": {
      "text/plain": [
       "Text(0.5, 1.0, '10 most common words')"
      ]
     },
     "execution_count": 219,
     "metadata": {},
     "output_type": "execute_result"
    },
    {
     "data": {
      "image/png": "[encoded data removed]",
      "text/plain": [
       "<Figure size 792x576 with 1 Axes>"
      ]
     },
     "metadata": {
      "needs_background": "light"
     },
     "output_type": "display_data"
    }
   ],
   "source": [
    "raw_count.sort_values(ascending=False)[0:10].plot.barh(width=.9)\n",
    "plt.title('10 most common words')"
   ]
  },
  {
   "cell_type": "code",
   "execution_count": 220,
   "metadata": {},
   "outputs": [
    {
     "data": {
      "text/plain": [
       "'aidungeon model dungeon temporarily unavailable download due cost working solution read aidungeon wa built pcc byu edu dungeon creating infinitely generated text adventure deep learning language model play game colab aidungeon play game locally recommended nvidia gpu memory cuda installed gpu turn take couple minute game compose response install play locally git clone aidungeon aidungeon aidungeon install python play community aidungeon open source project question discussion contribution welcome contribution anything new package bugfixes documentation even new core feature resource website aidungeon aidungeon aidungeon twitter creator nickwalton twitter nickwalton dev benjbay twitter benjbay reddit aidungeon reddit aidungeon discord aidungeon discord discord vcz contributing contributing aidungeon relatively easy send pull request help article using pull request fork send request make develop destination branch aidungeon repository nickwalton aidungeon prefer pr pep python org dev pep pep compliant aidungeon us rough approximation git flow nvie post successful git branching model branching model develop branch contains latest contribution master always tagged point latest stable release'"
      ]
     },
     "execution_count": 220,
     "metadata": {},
     "output_type": "execute_result"
    }
   ],
   "source": [
    "df.cleaned[0]"
   ]
  },
  {
   "cell_type": "code",
   "execution_count": 221,
   "metadata": {},
   "outputs": [],
   "source": [
    "def idf(word):\n",
    "    n_occurrences = sum([1 for doc in df.cleaned if word in doc])\n",
    "    n_docs = len(df.cleaned)\n",
    "    idf = np.log(n_docs/n_occurrences)\n",
    "    return idf"
   ]
  },
  {
   "cell_type": "code",
   "execution_count": 222,
   "metadata": {},
   "outputs": [
    {
     "data": {
      "text/plain": [
       "numpy.ndarray"
      ]
     },
     "execution_count": 222,
     "metadata": {},
     "output_type": "execute_result"
    }
   ],
   "source": [
    "part1 = ' '.join(df.cleaned)\n",
    "part2 = part1.split()\n",
    "part3 = pd.Series(part2)\n",
    "# print(part3.value_counts())\n",
    "\n",
    "part4 = part3.unique()\n",
    "type(part4)\n",
    "# confirm that those words that existed multiple times, are now only represented once in the unique_words list. \n",
    "# print(pd.Series(part4).value_counts())"
   ]
  },
  {
   "cell_type": "code",
   "execution_count": 223,
   "metadata": {},
   "outputs": [
    {
     "data": {
      "text/plain": [
       "array(['aidungeon', 'model', 'dungeon', ..., 'healthy', 'downstream',\n",
       "       'schema'], dtype=object)"
      ]
     },
     "execution_count": 223,
     "metadata": {},
     "output_type": "execute_result"
    }
   ],
   "source": [
    "part4"
   ]
  },
  {
   "cell_type": "code",
   "execution_count": 224,
   "metadata": {},
   "outputs": [],
   "source": [
    "unique_words = pd.Series(' '.join(df.cleaned).split()).unique()"
   ]
  },
  {
   "cell_type": "code",
   "execution_count": 225,
   "metadata": {},
   "outputs": [
    {
     "data": {
      "text/html": [
       "<div>\n",
       "<style scoped>\n",
       "    .dataframe tbody tr th:only-of-type {\n",
       "        vertical-align: middle;\n",
       "    }\n",
       "\n",
       "    .dataframe tbody tr th {\n",
       "        vertical-align: top;\n",
       "    }\n",
       "\n",
       "    .dataframe thead th {\n",
       "        text-align: right;\n",
       "    }\n",
       "</style>\n",
       "<table border=\"1\" class=\"dataframe\">\n",
       "  <thead>\n",
       "    <tr style=\"text-align: right;\">\n",
       "      <th></th>\n",
       "      <th>idf</th>\n",
       "    </tr>\n",
       "    <tr>\n",
       "      <th>word</th>\n",
       "      <th></th>\n",
       "    </tr>\n",
       "  </thead>\n",
       "  <tbody>\n",
       "    <tr>\n",
       "      <th>aidungeon</th>\n",
       "      <td>4.60517</td>\n",
       "    </tr>\n",
       "    <tr>\n",
       "      <th>uncheck</th>\n",
       "      <td>4.60517</td>\n",
       "    </tr>\n",
       "    <tr>\n",
       "      <th>keymap</th>\n",
       "      <td>4.60517</td>\n",
       "    </tr>\n",
       "    <tr>\n",
       "      <th>localappdata</th>\n",
       "      <td>4.60517</td>\n",
       "    </tr>\n",
       "    <tr>\n",
       "      <th>pycharm</th>\n",
       "      <td>4.60517</td>\n",
       "    </tr>\n",
       "  </tbody>\n",
       "</table>\n",
       "</div>"
      ],
      "text/plain": [
       "                  idf\n",
       "word                 \n",
       "aidungeon     4.60517\n",
       "uncheck       4.60517\n",
       "keymap        4.60517\n",
       "localappdata  4.60517\n",
       "pycharm       4.60517"
      ]
     },
     "execution_count": 225,
     "metadata": {},
     "output_type": "execute_result"
    }
   ],
   "source": [
    "word_df = pd.DataFrame(dict(word = unique_words))\n",
    "word_df.head()\n",
    "\n",
    "word_df = word_df.assign(idf = lambda df: df.word.apply(idf))\n",
    "\n",
    "word_df.set_index('word').sort_values(by='idf', ascending = False).head(5)"
   ]
  },
  {
   "cell_type": "code",
   "execution_count": 226,
   "metadata": {},
   "outputs": [
    {
     "data": {
      "text/html": [
       "<div>\n",
       "<style scoped>\n",
       "    .dataframe tbody tr th:only-of-type {\n",
       "        vertical-align: middle;\n",
       "    }\n",
       "\n",
       "    .dataframe tbody tr th {\n",
       "        vertical-align: top;\n",
       "    }\n",
       "\n",
       "    .dataframe thead th {\n",
       "        text-align: right;\n",
       "    }\n",
       "</style>\n",
       "<table border=\"1\" class=\"dataframe\">\n",
       "  <thead>\n",
       "    <tr style=\"text-align: right;\">\n",
       "      <th></th>\n",
       "      <th>idf</th>\n",
       "    </tr>\n",
       "    <tr>\n",
       "      <th>word</th>\n",
       "      <th></th>\n",
       "    </tr>\n",
       "  </thead>\n",
       "  <tbody>\n",
       "    <tr>\n",
       "      <th>aidungeon</th>\n",
       "      <td>4.60517</td>\n",
       "    </tr>\n",
       "    <tr>\n",
       "      <th>uncheck</th>\n",
       "      <td>4.60517</td>\n",
       "    </tr>\n",
       "    <tr>\n",
       "      <th>keymap</th>\n",
       "      <td>4.60517</td>\n",
       "    </tr>\n",
       "    <tr>\n",
       "      <th>localappdata</th>\n",
       "      <td>4.60517</td>\n",
       "    </tr>\n",
       "    <tr>\n",
       "      <th>pycharm</th>\n",
       "      <td>4.60517</td>\n",
       "    </tr>\n",
       "  </tbody>\n",
       "</table>\n",
       "</div>"
      ],
      "text/plain": [
       "                  idf\n",
       "word                 \n",
       "aidungeon     4.60517\n",
       "uncheck       4.60517\n",
       "keymap        4.60517\n",
       "localappdata  4.60517\n",
       "pycharm       4.60517"
      ]
     },
     "execution_count": 226,
     "metadata": {},
     "output_type": "execute_result"
    }
   ],
   "source": [
    "# put in a dataframe\n",
    "idf_df = pd.DataFrame(dict(word = unique_words))\\\n",
    "    .assign(idf = lambda df: df.word.apply(idf))\\\n",
    "    .set_index('word').sort_values(by='idf', ascending = False)\n",
    "\n",
    "idf_df.head(5)"
   ]
  },
  {
   "cell_type": "code",
   "execution_count": 227,
   "metadata": {},
   "outputs": [],
   "source": [
    "documents = df.cleaned.to_dict()"
   ]
  },
  {
   "cell_type": "code",
   "execution_count": 228,
   "metadata": {},
   "outputs": [],
   "source": [
    "from sklearn.feature_extraction.text import TfidfVectorizer\n",
    "\n",
    "tfidf = TfidfVectorizer()\n",
    "tfidfs = tfidf.fit_transform(documents.values())"
   ]
  },
  {
   "cell_type": "code",
   "execution_count": 229,
   "metadata": {},
   "outputs": [
    {
     "data": {
      "text/html": [
       "<div>\n",
       "<style scoped>\n",
       "    .dataframe tbody tr th:only-of-type {\n",
       "        vertical-align: middle;\n",
       "    }\n",
       "\n",
       "    .dataframe tbody tr th {\n",
       "        vertical-align: top;\n",
       "    }\n",
       "\n",
       "    .dataframe thead th {\n",
       "        text-align: right;\n",
       "    }\n",
       "</style>\n",
       "<table border=\"1\" class=\"dataframe\">\n",
       "  <thead>\n",
       "    <tr style=\"text-align: right;\">\n",
       "      <th></th>\n",
       "      <th>aaa</th>\n",
       "      <th>aaaaaa</th>\n",
       "      <th>aac</th>\n",
       "      <th>aacecc</th>\n",
       "      <th>aaf</th>\n",
       "      <th>aaojmfs</th>\n",
       "      <th>aardvark</th>\n",
       "      <th>aaron</th>\n",
       "      <th>ab</th>\n",
       "      <th>aba</th>\n",
       "      <th>...</th>\n",
       "      <th>zram</th>\n",
       "      <th>zrzmjddxrve</th>\n",
       "      <th>zsol</th>\n",
       "      <th>zsolt</th>\n",
       "      <th>zulip</th>\n",
       "      <th>zulipchat</th>\n",
       "      <th>zurb</th>\n",
       "      <th>zuul</th>\n",
       "      <th>zvrw</th>\n",
       "      <th>zxuypkodwof</th>\n",
       "    </tr>\n",
       "  </thead>\n",
       "  <tbody>\n",
       "    <tr>\n",
       "      <th>0</th>\n",
       "      <td>0.0</td>\n",
       "      <td>0.0</td>\n",
       "      <td>0.0</td>\n",
       "      <td>0.0</td>\n",
       "      <td>0.0</td>\n",
       "      <td>0.0</td>\n",
       "      <td>0.0</td>\n",
       "      <td>0.0</td>\n",
       "      <td>0.0</td>\n",
       "      <td>0.0</td>\n",
       "      <td>...</td>\n",
       "      <td>0.0</td>\n",
       "      <td>0.0</td>\n",
       "      <td>0.0</td>\n",
       "      <td>0.0</td>\n",
       "      <td>0.0</td>\n",
       "      <td>0.0</td>\n",
       "      <td>0.0</td>\n",
       "      <td>0.0</td>\n",
       "      <td>0.0</td>\n",
       "      <td>0.0</td>\n",
       "    </tr>\n",
       "    <tr>\n",
       "      <th>1</th>\n",
       "      <td>0.0</td>\n",
       "      <td>0.0</td>\n",
       "      <td>0.0</td>\n",
       "      <td>0.0</td>\n",
       "      <td>0.0</td>\n",
       "      <td>0.0</td>\n",
       "      <td>0.0</td>\n",
       "      <td>0.0</td>\n",
       "      <td>0.0</td>\n",
       "      <td>0.0</td>\n",
       "      <td>...</td>\n",
       "      <td>0.0</td>\n",
       "      <td>0.0</td>\n",
       "      <td>0.0</td>\n",
       "      <td>0.0</td>\n",
       "      <td>0.0</td>\n",
       "      <td>0.0</td>\n",
       "      <td>0.0</td>\n",
       "      <td>0.0</td>\n",
       "      <td>0.0</td>\n",
       "      <td>0.0</td>\n",
       "    </tr>\n",
       "    <tr>\n",
       "      <th>2</th>\n",
       "      <td>0.0</td>\n",
       "      <td>0.0</td>\n",
       "      <td>0.0</td>\n",
       "      <td>0.0</td>\n",
       "      <td>0.0</td>\n",
       "      <td>0.0</td>\n",
       "      <td>0.0</td>\n",
       "      <td>0.0</td>\n",
       "      <td>0.0</td>\n",
       "      <td>0.0</td>\n",
       "      <td>...</td>\n",
       "      <td>0.0</td>\n",
       "      <td>0.0</td>\n",
       "      <td>0.0</td>\n",
       "      <td>0.0</td>\n",
       "      <td>0.0</td>\n",
       "      <td>0.0</td>\n",
       "      <td>0.0</td>\n",
       "      <td>0.0</td>\n",
       "      <td>0.0</td>\n",
       "      <td>0.0</td>\n",
       "    </tr>\n",
       "    <tr>\n",
       "      <th>3</th>\n",
       "      <td>0.0</td>\n",
       "      <td>0.0</td>\n",
       "      <td>0.0</td>\n",
       "      <td>0.0</td>\n",
       "      <td>0.0</td>\n",
       "      <td>0.0</td>\n",
       "      <td>0.0</td>\n",
       "      <td>0.0</td>\n",
       "      <td>0.0</td>\n",
       "      <td>0.0</td>\n",
       "      <td>...</td>\n",
       "      <td>0.0</td>\n",
       "      <td>0.0</td>\n",
       "      <td>0.0</td>\n",
       "      <td>0.0</td>\n",
       "      <td>0.0</td>\n",
       "      <td>0.0</td>\n",
       "      <td>0.0</td>\n",
       "      <td>0.0</td>\n",
       "      <td>0.0</td>\n",
       "      <td>0.0</td>\n",
       "    </tr>\n",
       "    <tr>\n",
       "      <th>4</th>\n",
       "      <td>0.0</td>\n",
       "      <td>0.0</td>\n",
       "      <td>0.0</td>\n",
       "      <td>0.0</td>\n",
       "      <td>0.0</td>\n",
       "      <td>0.0</td>\n",
       "      <td>0.0</td>\n",
       "      <td>0.0</td>\n",
       "      <td>0.0</td>\n",
       "      <td>0.0</td>\n",
       "      <td>...</td>\n",
       "      <td>0.0</td>\n",
       "      <td>0.0</td>\n",
       "      <td>0.0</td>\n",
       "      <td>0.0</td>\n",
       "      <td>0.0</td>\n",
       "      <td>0.0</td>\n",
       "      <td>0.0</td>\n",
       "      <td>0.0</td>\n",
       "      <td>0.0</td>\n",
       "      <td>0.0</td>\n",
       "    </tr>\n",
       "  </tbody>\n",
       "</table>\n",
       "<p>5 rows × 9900 columns</p>\n",
       "</div>"
      ],
      "text/plain": [
       "   aaa  aaaaaa  aac  aacecc  aaf  aaojmfs  aardvark  aaron   ab  aba  ...  \\\n",
       "0  0.0     0.0  0.0     0.0  0.0      0.0       0.0    0.0  0.0  0.0  ...   \n",
       "1  0.0     0.0  0.0     0.0  0.0      0.0       0.0    0.0  0.0  0.0  ...   \n",
       "2  0.0     0.0  0.0     0.0  0.0      0.0       0.0    0.0  0.0  0.0  ...   \n",
       "3  0.0     0.0  0.0     0.0  0.0      0.0       0.0    0.0  0.0  0.0  ...   \n",
       "4  0.0     0.0  0.0     0.0  0.0      0.0       0.0    0.0  0.0  0.0  ...   \n",
       "\n",
       "   zram  zrzmjddxrve  zsol  zsolt  zulip  zulipchat  zurb  zuul  zvrw  \\\n",
       "0   0.0          0.0   0.0    0.0    0.0        0.0   0.0   0.0   0.0   \n",
       "1   0.0          0.0   0.0    0.0    0.0        0.0   0.0   0.0   0.0   \n",
       "2   0.0          0.0   0.0    0.0    0.0        0.0   0.0   0.0   0.0   \n",
       "3   0.0          0.0   0.0    0.0    0.0        0.0   0.0   0.0   0.0   \n",
       "4   0.0          0.0   0.0    0.0    0.0        0.0   0.0   0.0   0.0   \n",
       "\n",
       "   zxuypkodwof  \n",
       "0          0.0  \n",
       "1          0.0  \n",
       "2          0.0  \n",
       "3          0.0  \n",
       "4          0.0  \n",
       "\n",
       "[5 rows x 9900 columns]"
      ]
     },
     "execution_count": 229,
     "metadata": {},
     "output_type": "execute_result"
    }
   ],
   "source": [
    "features_df = pd.DataFrame(tfidfs.todense(), columns=tfidf.get_feature_names())\n",
    "features_df.head()"
   ]
  },
  {
   "cell_type": "markdown",
   "metadata": {},
   "source": [
    "# Modeling"
   ]
  },
  {
   "cell_type": "code",
   "execution_count": 263,
   "metadata": {},
   "outputs": [
    {
     "name": "stdout",
     "output_type": "stream",
     "text": [
      "Object `index` not found.\n"
     ]
    }
   ],
   "source": [
    "df.language.value_counts()[df.language.value_counts() == 1].index?"
   ]
  },
  {
   "cell_type": "code",
   "execution_count": 265,
   "metadata": {},
   "outputs": [
    {
     "data": {
      "text/plain": [
       "['Kotlin', 'C#', 'CoffeeScript', 'Clojure', 'Haskell', 'Rust']"
      ]
     },
     "execution_count": 265,
     "metadata": {},
     "output_type": "execute_result"
    }
   ],
   "source": [
    "list(df.language.value_counts()[df.language.value_counts() == 1].index)"
   ]
  },
  {
   "cell_type": "code",
   "execution_count": 306,
   "metadata": {},
   "outputs": [
    {
     "data": {
      "text/html": [
       "<div>\n",
       "<style scoped>\n",
       "    .dataframe tbody tr th:only-of-type {\n",
       "        vertical-align: middle;\n",
       "    }\n",
       "\n",
       "    .dataframe tbody tr th {\n",
       "        vertical-align: top;\n",
       "    }\n",
       "\n",
       "    .dataframe thead th {\n",
       "        text-align: right;\n",
       "    }\n",
       "</style>\n",
       "<table border=\"1\" class=\"dataframe\">\n",
       "  <thead>\n",
       "    <tr style=\"text-align: right;\">\n",
       "      <th></th>\n",
       "      <th>index</th>\n",
       "      <th>language</th>\n",
       "      <th>readme_contents</th>\n",
       "      <th>normalized</th>\n",
       "      <th>original</th>\n",
       "      <th>stemmed</th>\n",
       "      <th>lemmatized</th>\n",
       "      <th>cleaned</th>\n",
       "    </tr>\n",
       "  </thead>\n",
       "  <tbody>\n",
       "  </tbody>\n",
       "</table>\n",
       "</div>"
      ],
      "text/plain": [
       "Empty DataFrame\n",
       "Columns: [index, language, readme_contents, normalized, original, stemmed, lemmatized, cleaned]\n",
       "Index: []"
      ]
     },
     "execution_count": 306,
     "metadata": {},
     "output_type": "execute_result"
    }
   ],
   "source": [
    "# df[df.language == 'Kotlin']\n",
    "# df = df.drop(15)\n",
    "# df[df.language == 'C#']\n",
    "# df = df.drop(16)\n",
    "# df[df.language == 'CoffeeScript']\n",
    "# df = df.drop(23)\n",
    "# df[df.language == 'Clojure']\n",
    "# df = df.drop(78)\n",
    "# df[df.language == 'Haskell']\n",
    "# df = df.drop(36)\n",
    "# df[df.language == 'Rust']\n",
    "# df = df.drop(3)"
   ]
  },
  {
   "cell_type": "code",
   "execution_count": 284,
   "metadata": {},
   "outputs": [],
   "source": [
    "df = df.reset_index()"
   ]
  },
  {
   "cell_type": "markdown",
   "metadata": {},
   "source": [
    "### Logistic Regression"
   ]
  },
  {
   "cell_type": "code",
   "execution_count": 303,
   "metadata": {},
   "outputs": [],
   "source": [
    "from sklearn.model_selection import train_test_split\n",
    "from sklearn.linear_model import LogisticRegression\n",
    "from sklearn.metrics import classification_report, accuracy_score\n",
    "\n",
    "# df = pd.read_csv('./data/spam_clean.csv')\n",
    "# df.head()\n",
    "\n",
    "tfidf = TfidfVectorizer()\n",
    "X = tfidf.fit_transform(df.cleaned)\n",
    "y = df.language\n",
    "\n",
    "X_train, X_test, y_train, y_test = train_test_split(X, y, stratify=y, test_size=.2)\n",
    "\n",
    "train = pd.DataFrame(dict(actual=y_train))\n",
    "test = pd.DataFrame(dict(actual=y_test))\n",
    "\n",
    "lm = LogisticRegression().fit(X_train, y_train)\n",
    "\n",
    "train['predicted'] = lm.predict(X_train)\n",
    "test['predicted'] = lm.predict(X_test)"
   ]
  },
  {
   "cell_type": "code",
   "execution_count": 304,
   "metadata": {},
   "outputs": [
    {
     "name": "stdout",
     "output_type": "stream",
     "text": [
      "---\n",
      "Confusion Matrix\n",
      "actual      C  C++  CSS  Go  HTML  Java  JavaScript  Jupyter Notebook  PHP  \\\n",
      "predicted                                                                    \n",
      "CSS         0    0    5   0     0     0           0                 0    0   \n",
      "Go          0    0    0   1     0     0           0                 0    0   \n",
      "JavaScript  2    3    2   4     4     4          20                 2    2   \n",
      "Python      0    0    0   0     0     0           0                 0    0   \n",
      "Ruby        0    0    0   0     0     0           0                 0    0   \n",
      "\n",
      "actual      Python  Ruby  TypeScript  \n",
      "predicted                             \n",
      "CSS              0     0           0  \n",
      "Go               0     0           0  \n",
      "JavaScript       0     3           3  \n",
      "Python          16     0           0  \n",
      "Ruby             0     4           0  \n",
      "---\n"
     ]
    }
   ],
   "source": [
    "print('---')\n",
    "print('Confusion Matrix')\n",
    "print(pd.crosstab(train.predicted, train.actual))\n",
    "print('---')\n",
    "# print(classification_report(train.actual, train.predicted))"
   ]
  },
  {
   "cell_type": "code",
   "execution_count": 305,
   "metadata": {},
   "outputs": [
    {
     "name": "stdout",
     "output_type": "stream",
     "text": [
      "Accuracy: 26.32%\n",
      "---\n",
      "Confusion Matrix\n",
      "actual      C++  CSS  Go  HTML  Java  JavaScript  Python  Ruby  TypeScript\n",
      "predicted                                                                 \n",
      "JavaScript    1    2   2     1     1           5       4     2           1\n",
      "---\n",
      "              precision    recall  f1-score   support\n",
      "\n",
      "         C++       0.00      0.00      0.00         1\n",
      "         CSS       0.00      0.00      0.00         2\n",
      "          Go       0.00      0.00      0.00         2\n",
      "        HTML       0.00      0.00      0.00         1\n",
      "        Java       0.00      0.00      0.00         1\n",
      "  JavaScript       0.26      1.00      0.42         5\n",
      "      Python       0.00      0.00      0.00         4\n",
      "        Ruby       0.00      0.00      0.00         2\n",
      "  TypeScript       0.00      0.00      0.00         1\n",
      "\n",
      "    accuracy                           0.26        19\n",
      "   macro avg       0.03      0.11      0.05        19\n",
      "weighted avg       0.07      0.26      0.11        19\n",
      "\n"
     ]
    }
   ],
   "source": [
    "print('Accuracy: {:.2%}'.format(accuracy_score(test.actual, test.predicted)))\n",
    "print('---')\n",
    "print('Confusion Matrix')\n",
    "print(pd.crosstab(test.predicted, test.actual))\n",
    "print('---') \n",
    "print(classification_report(test.actual, test.predicted))"
   ]
  },
  {
   "cell_type": "markdown",
   "metadata": {},
   "source": [
    "### "
   ]
  },
  {
   "cell_type": "markdown",
   "metadata": {},
   "source": [
    "### Decision Tree"
   ]
  },
  {
   "cell_type": "code",
   "execution_count": 309,
   "metadata": {},
   "outputs": [
    {
     "data": {
      "text/plain": [
       "DecisionTreeClassifier(class_weight=None, criterion='entropy', max_depth=3,\n",
       "                       max_features=None, max_leaf_nodes=None,\n",
       "                       min_impurity_decrease=0.0, min_impurity_split=None,\n",
       "                       min_samples_leaf=1, min_samples_split=2,\n",
       "                       min_weight_fraction_leaf=0.0, presort=False,\n",
       "                       random_state=123, splitter='best')"
      ]
     },
     "execution_count": 309,
     "metadata": {},
     "output_type": "execute_result"
    }
   ],
   "source": [
    "from sklearn.model_selection import train_test_split\n",
    "from sklearn.tree import DecisionTreeClassifier\n",
    "from sklearn.tree import export_graphviz\n",
    "from sklearn.metrics import classification_report\n",
    "from sklearn.metrics import confusion_matrix\n",
    "\n",
    "clf = DecisionTreeClassifier(criterion='entropy', max_depth=3, random_state=123)\n",
    "\n",
    "clf.fit(X_train, y_train)"
   ]
  },
  {
   "cell_type": "code",
   "execution_count": 310,
   "metadata": {},
   "outputs": [
    {
     "name": "stdout",
     "output_type": "stream",
     "text": [
      "[0. 0. 0. ... 0. 0. 0.]\n"
     ]
    }
   ],
   "source": [
    "print(clf.feature_importances_)"
   ]
  },
  {
   "cell_type": "code",
   "execution_count": 311,
   "metadata": {},
   "outputs": [
    {
     "data": {
      "text/plain": [
       "array(['Python', 'Python', 'Ruby', 'Ruby', 'C', 'JavaScript', 'Python',\n",
       "       'Python', 'JavaScript', 'JavaScript', 'Ruby', 'CSS', 'Ruby',\n",
       "       'JavaScript', 'JavaScript', 'Python', 'Python', 'Ruby', 'Python',\n",
       "       'JavaScript', 'JavaScript', 'Python', 'Ruby', 'CSS', 'Python',\n",
       "       'Python', 'JavaScript', 'Ruby', 'JavaScript', 'Python', 'C', 'CSS',\n",
       "       'Ruby', 'Python', 'Ruby', 'Ruby', 'Python', 'Python', 'C', 'C',\n",
       "       'JavaScript', 'Python', 'Python', 'CSS', 'JavaScript', 'Python',\n",
       "       'Python', 'Python', 'Python', 'Ruby', 'Ruby', 'JavaScript', 'CSS',\n",
       "       'Ruby', 'Ruby', 'Python', 'Python', 'CSS', 'Python', 'Python',\n",
       "       'Ruby', 'JavaScript', 'Python', 'Python', 'HTML', 'Ruby', 'Python',\n",
       "       'JavaScript', 'Python', 'Python', 'Python', 'Python', 'Ruby',\n",
       "       'Python', 'Python'], dtype=object)"
      ]
     },
     "execution_count": 311,
     "metadata": {},
     "output_type": "execute_result"
    }
   ],
   "source": [
    "y_pred = clf.predict(X_train)\n",
    "y_pred"
   ]
  },
  {
   "cell_type": "code",
   "execution_count": 312,
   "metadata": {},
   "outputs": [
    {
     "data": {
      "text/plain": [
       "array([[0.        , 0.        , 0.        , 0.        , 0.        ,\n",
       "        0.        , 0.        , 0.        , 0.        , 1.        ,\n",
       "        0.        , 0.        ],\n",
       "       [0.04545455, 0.        , 0.04545455, 0.18181818, 0.09090909,\n",
       "        0.09090909, 0.13636364, 0.04545455, 0.        , 0.22727273,\n",
       "        0.04545455, 0.09090909],\n",
       "       [0.        , 0.17647059, 0.        , 0.05882353, 0.        ,\n",
       "        0.05882353, 0.23529412, 0.        , 0.11764706, 0.        ,\n",
       "        0.35294118, 0.        ],\n",
       "       [0.        , 0.17647059, 0.        , 0.05882353, 0.        ,\n",
       "        0.05882353, 0.23529412, 0.        , 0.11764706, 0.        ,\n",
       "        0.35294118, 0.        ],\n",
       "       [0.25      , 0.        , 0.        , 0.        , 0.25      ,\n",
       "        0.25      , 0.        , 0.25      , 0.        , 0.        ,\n",
       "        0.        , 0.        ],\n",
       "       [0.        , 0.        , 0.        , 0.        , 0.        ,\n",
       "        0.        , 0.92857143, 0.        , 0.        , 0.        ,\n",
       "        0.        , 0.07142857],\n",
       "       [0.04545455, 0.        , 0.04545455, 0.18181818, 0.09090909,\n",
       "        0.09090909, 0.13636364, 0.04545455, 0.        , 0.22727273,\n",
       "        0.04545455, 0.09090909],\n",
       "       [0.04545455, 0.        , 0.04545455, 0.18181818, 0.09090909,\n",
       "        0.09090909, 0.13636364, 0.04545455, 0.        , 0.22727273,\n",
       "        0.04545455, 0.09090909],\n",
       "       [0.        , 0.        , 0.        , 0.        , 0.        ,\n",
       "        0.        , 0.92857143, 0.        , 0.        , 0.        ,\n",
       "        0.        , 0.07142857],\n",
       "       [0.        , 0.        , 0.        , 0.        , 0.        ,\n",
       "        0.        , 0.92857143, 0.        , 0.        , 0.        ,\n",
       "        0.        , 0.07142857],\n",
       "       [0.        , 0.17647059, 0.        , 0.05882353, 0.        ,\n",
       "        0.05882353, 0.23529412, 0.        , 0.11764706, 0.        ,\n",
       "        0.35294118, 0.        ],\n",
       "       [0.        , 0.        , 1.        , 0.        , 0.        ,\n",
       "        0.        , 0.        , 0.        , 0.        , 0.        ,\n",
       "        0.        , 0.        ],\n",
       "       [0.        , 0.17647059, 0.        , 0.05882353, 0.        ,\n",
       "        0.05882353, 0.23529412, 0.        , 0.11764706, 0.        ,\n",
       "        0.35294118, 0.        ],\n",
       "       [0.        , 0.        , 0.        , 0.        , 0.        ,\n",
       "        0.        , 0.92857143, 0.        , 0.        , 0.        ,\n",
       "        0.        , 0.07142857],\n",
       "       [0.        , 0.        , 0.        , 0.        , 0.        ,\n",
       "        0.        , 0.92857143, 0.        , 0.        , 0.        ,\n",
       "        0.        , 0.07142857],\n",
       "       [0.        , 0.        , 0.        , 0.        , 0.        ,\n",
       "        0.        , 0.        , 0.        , 0.        , 1.        ,\n",
       "        0.        , 0.        ],\n",
       "       [0.04545455, 0.        , 0.04545455, 0.18181818, 0.09090909,\n",
       "        0.09090909, 0.13636364, 0.04545455, 0.        , 0.22727273,\n",
       "        0.04545455, 0.09090909],\n",
       "       [0.        , 0.17647059, 0.        , 0.05882353, 0.        ,\n",
       "        0.05882353, 0.23529412, 0.        , 0.11764706, 0.        ,\n",
       "        0.35294118, 0.        ],\n",
       "       [0.        , 0.        , 0.        , 0.        , 0.        ,\n",
       "        0.        , 0.        , 0.        , 0.        , 1.        ,\n",
       "        0.        , 0.        ],\n",
       "       [0.        , 0.        , 0.        , 0.        , 0.        ,\n",
       "        0.        , 0.92857143, 0.        , 0.        , 0.        ,\n",
       "        0.        , 0.07142857],\n",
       "       [0.        , 0.        , 0.        , 0.        , 0.        ,\n",
       "        0.        , 0.92857143, 0.        , 0.        , 0.        ,\n",
       "        0.        , 0.07142857],\n",
       "       [0.04545455, 0.        , 0.04545455, 0.18181818, 0.09090909,\n",
       "        0.09090909, 0.13636364, 0.04545455, 0.        , 0.22727273,\n",
       "        0.04545455, 0.09090909],\n",
       "       [0.        , 0.17647059, 0.        , 0.05882353, 0.        ,\n",
       "        0.05882353, 0.23529412, 0.        , 0.11764706, 0.        ,\n",
       "        0.35294118, 0.        ],\n",
       "       [0.        , 0.        , 1.        , 0.        , 0.        ,\n",
       "        0.        , 0.        , 0.        , 0.        , 0.        ,\n",
       "        0.        , 0.        ],\n",
       "       [0.        , 0.        , 0.        , 0.        , 0.        ,\n",
       "        0.        , 0.        , 0.        , 0.        , 1.        ,\n",
       "        0.        , 0.        ],\n",
       "       [0.04545455, 0.        , 0.04545455, 0.18181818, 0.09090909,\n",
       "        0.09090909, 0.13636364, 0.04545455, 0.        , 0.22727273,\n",
       "        0.04545455, 0.09090909],\n",
       "       [0.        , 0.        , 0.        , 0.        , 0.        ,\n",
       "        0.        , 0.92857143, 0.        , 0.        , 0.        ,\n",
       "        0.        , 0.07142857],\n",
       "       [0.        , 0.17647059, 0.        , 0.05882353, 0.        ,\n",
       "        0.05882353, 0.23529412, 0.        , 0.11764706, 0.        ,\n",
       "        0.35294118, 0.        ],\n",
       "       [0.        , 0.        , 0.        , 0.        , 0.        ,\n",
       "        0.        , 0.92857143, 0.        , 0.        , 0.        ,\n",
       "        0.        , 0.07142857],\n",
       "       [0.04545455, 0.        , 0.04545455, 0.18181818, 0.09090909,\n",
       "        0.09090909, 0.13636364, 0.04545455, 0.        , 0.22727273,\n",
       "        0.04545455, 0.09090909],\n",
       "       [0.25      , 0.        , 0.        , 0.        , 0.25      ,\n",
       "        0.25      , 0.        , 0.25      , 0.        , 0.        ,\n",
       "        0.        , 0.        ],\n",
       "       [0.        , 0.        , 1.        , 0.        , 0.        ,\n",
       "        0.        , 0.        , 0.        , 0.        , 0.        ,\n",
       "        0.        , 0.        ],\n",
       "       [0.        , 0.17647059, 0.        , 0.05882353, 0.        ,\n",
       "        0.05882353, 0.23529412, 0.        , 0.11764706, 0.        ,\n",
       "        0.35294118, 0.        ],\n",
       "       [0.04545455, 0.        , 0.04545455, 0.18181818, 0.09090909,\n",
       "        0.09090909, 0.13636364, 0.04545455, 0.        , 0.22727273,\n",
       "        0.04545455, 0.09090909],\n",
       "       [0.        , 0.17647059, 0.        , 0.05882353, 0.        ,\n",
       "        0.05882353, 0.23529412, 0.        , 0.11764706, 0.        ,\n",
       "        0.35294118, 0.        ],\n",
       "       [0.        , 0.17647059, 0.        , 0.05882353, 0.        ,\n",
       "        0.05882353, 0.23529412, 0.        , 0.11764706, 0.        ,\n",
       "        0.35294118, 0.        ],\n",
       "       [0.        , 0.        , 0.        , 0.        , 0.        ,\n",
       "        0.        , 0.        , 0.        , 0.        , 1.        ,\n",
       "        0.        , 0.        ],\n",
       "       [0.        , 0.        , 0.        , 0.        , 0.        ,\n",
       "        0.        , 0.        , 0.        , 0.        , 1.        ,\n",
       "        0.        , 0.        ],\n",
       "       [0.25      , 0.        , 0.        , 0.        , 0.25      ,\n",
       "        0.25      , 0.        , 0.25      , 0.        , 0.        ,\n",
       "        0.        , 0.        ],\n",
       "       [0.25      , 0.        , 0.        , 0.        , 0.25      ,\n",
       "        0.25      , 0.        , 0.25      , 0.        , 0.        ,\n",
       "        0.        , 0.        ],\n",
       "       [0.        , 0.        , 0.        , 0.        , 0.        ,\n",
       "        0.        , 0.92857143, 0.        , 0.        , 0.        ,\n",
       "        0.        , 0.07142857],\n",
       "       [0.04545455, 0.        , 0.04545455, 0.18181818, 0.09090909,\n",
       "        0.09090909, 0.13636364, 0.04545455, 0.        , 0.22727273,\n",
       "        0.04545455, 0.09090909],\n",
       "       [0.04545455, 0.        , 0.04545455, 0.18181818, 0.09090909,\n",
       "        0.09090909, 0.13636364, 0.04545455, 0.        , 0.22727273,\n",
       "        0.04545455, 0.09090909],\n",
       "       [0.        , 0.        , 1.        , 0.        , 0.        ,\n",
       "        0.        , 0.        , 0.        , 0.        , 0.        ,\n",
       "        0.        , 0.        ],\n",
       "       [0.        , 0.        , 0.        , 0.        , 0.        ,\n",
       "        0.        , 0.92857143, 0.        , 0.        , 0.        ,\n",
       "        0.        , 0.07142857],\n",
       "       [0.04545455, 0.        , 0.04545455, 0.18181818, 0.09090909,\n",
       "        0.09090909, 0.13636364, 0.04545455, 0.        , 0.22727273,\n",
       "        0.04545455, 0.09090909],\n",
       "       [0.        , 0.        , 0.        , 0.        , 0.        ,\n",
       "        0.        , 0.        , 0.        , 0.        , 1.        ,\n",
       "        0.        , 0.        ],\n",
       "       [0.        , 0.        , 0.        , 0.        , 0.        ,\n",
       "        0.        , 0.        , 0.        , 0.        , 1.        ,\n",
       "        0.        , 0.        ],\n",
       "       [0.04545455, 0.        , 0.04545455, 0.18181818, 0.09090909,\n",
       "        0.09090909, 0.13636364, 0.04545455, 0.        , 0.22727273,\n",
       "        0.04545455, 0.09090909],\n",
       "       [0.        , 0.17647059, 0.        , 0.05882353, 0.        ,\n",
       "        0.05882353, 0.23529412, 0.        , 0.11764706, 0.        ,\n",
       "        0.35294118, 0.        ],\n",
       "       [0.        , 0.17647059, 0.        , 0.05882353, 0.        ,\n",
       "        0.05882353, 0.23529412, 0.        , 0.11764706, 0.        ,\n",
       "        0.35294118, 0.        ],\n",
       "       [0.        , 0.        , 0.        , 0.        , 0.        ,\n",
       "        0.        , 0.92857143, 0.        , 0.        , 0.        ,\n",
       "        0.        , 0.07142857],\n",
       "       [0.        , 0.        , 1.        , 0.        , 0.        ,\n",
       "        0.        , 0.        , 0.        , 0.        , 0.        ,\n",
       "        0.        , 0.        ],\n",
       "       [0.        , 0.17647059, 0.        , 0.05882353, 0.        ,\n",
       "        0.05882353, 0.23529412, 0.        , 0.11764706, 0.        ,\n",
       "        0.35294118, 0.        ],\n",
       "       [0.        , 0.17647059, 0.        , 0.05882353, 0.        ,\n",
       "        0.05882353, 0.23529412, 0.        , 0.11764706, 0.        ,\n",
       "        0.35294118, 0.        ],\n",
       "       [0.04545455, 0.        , 0.04545455, 0.18181818, 0.09090909,\n",
       "        0.09090909, 0.13636364, 0.04545455, 0.        , 0.22727273,\n",
       "        0.04545455, 0.09090909],\n",
       "       [0.04545455, 0.        , 0.04545455, 0.18181818, 0.09090909,\n",
       "        0.09090909, 0.13636364, 0.04545455, 0.        , 0.22727273,\n",
       "        0.04545455, 0.09090909],\n",
       "       [0.        , 0.        , 1.        , 0.        , 0.        ,\n",
       "        0.        , 0.        , 0.        , 0.        , 0.        ,\n",
       "        0.        , 0.        ],\n",
       "       [0.04545455, 0.        , 0.04545455, 0.18181818, 0.09090909,\n",
       "        0.09090909, 0.13636364, 0.04545455, 0.        , 0.22727273,\n",
       "        0.04545455, 0.09090909],\n",
       "       [0.04545455, 0.        , 0.04545455, 0.18181818, 0.09090909,\n",
       "        0.09090909, 0.13636364, 0.04545455, 0.        , 0.22727273,\n",
       "        0.04545455, 0.09090909],\n",
       "       [0.        , 0.17647059, 0.        , 0.05882353, 0.        ,\n",
       "        0.05882353, 0.23529412, 0.        , 0.11764706, 0.        ,\n",
       "        0.35294118, 0.        ],\n",
       "       [0.        , 0.        , 0.        , 0.        , 0.        ,\n",
       "        0.        , 0.92857143, 0.        , 0.        , 0.        ,\n",
       "        0.        , 0.07142857],\n",
       "       [0.04545455, 0.        , 0.04545455, 0.18181818, 0.09090909,\n",
       "        0.09090909, 0.13636364, 0.04545455, 0.        , 0.22727273,\n",
       "        0.04545455, 0.09090909],\n",
       "       [0.04545455, 0.        , 0.04545455, 0.18181818, 0.09090909,\n",
       "        0.09090909, 0.13636364, 0.04545455, 0.        , 0.22727273,\n",
       "        0.04545455, 0.09090909],\n",
       "       [0.        , 0.        , 0.        , 0.        , 1.        ,\n",
       "        0.        , 0.        , 0.        , 0.        , 0.        ,\n",
       "        0.        , 0.        ],\n",
       "       [0.        , 0.17647059, 0.        , 0.05882353, 0.        ,\n",
       "        0.05882353, 0.23529412, 0.        , 0.11764706, 0.        ,\n",
       "        0.35294118, 0.        ],\n",
       "       [0.04545455, 0.        , 0.04545455, 0.18181818, 0.09090909,\n",
       "        0.09090909, 0.13636364, 0.04545455, 0.        , 0.22727273,\n",
       "        0.04545455, 0.09090909],\n",
       "       [0.        , 0.        , 0.        , 0.        , 0.        ,\n",
       "        0.        , 0.92857143, 0.        , 0.        , 0.        ,\n",
       "        0.        , 0.07142857],\n",
       "       [0.        , 0.        , 0.        , 0.        , 0.        ,\n",
       "        0.        , 0.        , 0.        , 0.        , 1.        ,\n",
       "        0.        , 0.        ],\n",
       "       [0.04545455, 0.        , 0.04545455, 0.18181818, 0.09090909,\n",
       "        0.09090909, 0.13636364, 0.04545455, 0.        , 0.22727273,\n",
       "        0.04545455, 0.09090909],\n",
       "       [0.        , 0.        , 0.        , 0.        , 0.        ,\n",
       "        0.        , 0.        , 0.        , 0.        , 1.        ,\n",
       "        0.        , 0.        ],\n",
       "       [0.        , 0.        , 0.        , 0.        , 0.        ,\n",
       "        0.        , 0.        , 0.        , 0.        , 1.        ,\n",
       "        0.        , 0.        ],\n",
       "       [0.        , 0.17647059, 0.        , 0.05882353, 0.        ,\n",
       "        0.05882353, 0.23529412, 0.        , 0.11764706, 0.        ,\n",
       "        0.35294118, 0.        ],\n",
       "       [0.04545455, 0.        , 0.04545455, 0.18181818, 0.09090909,\n",
       "        0.09090909, 0.13636364, 0.04545455, 0.        , 0.22727273,\n",
       "        0.04545455, 0.09090909],\n",
       "       [0.04545455, 0.        , 0.04545455, 0.18181818, 0.09090909,\n",
       "        0.09090909, 0.13636364, 0.04545455, 0.        , 0.22727273,\n",
       "        0.04545455, 0.09090909]])"
      ]
     },
     "execution_count": 312,
     "metadata": {},
     "output_type": "execute_result"
    }
   ],
   "source": [
    "y_pred_proba = clf.predict_proba(X_train)\n",
    "y_pred_proba"
   ]
  },
  {
   "cell_type": "code",
   "execution_count": 313,
   "metadata": {},
   "outputs": [
    {
     "name": "stdout",
     "output_type": "stream",
     "text": [
      "Accuracy of Decision Tree classifier on training set: 0.57\n"
     ]
    }
   ],
   "source": [
    "print('Accuracy of Decision Tree classifier on training set: {:.2f}'\n",
    "     .format(clf.score(X_train, y_train)))"
   ]
  },
  {
   "cell_type": "code",
   "execution_count": 314,
   "metadata": {},
   "outputs": [
    {
     "data": {
      "text/plain": [
       "array([[ 1,  0,  0,  0,  0,  0,  0,  0,  0,  1,  0,  0],\n",
       "       [ 0,  0,  0,  0,  0,  0,  0,  0,  0,  0,  3,  0],\n",
       "       [ 0,  0,  6,  0,  0,  0,  0,  0,  0,  1,  0,  0],\n",
       "       [ 0,  0,  0,  0,  0,  0,  0,  0,  0,  4,  1,  0],\n",
       "       [ 1,  0,  0,  0,  1,  0,  0,  0,  0,  2,  0,  0],\n",
       "       [ 1,  0,  0,  0,  0,  0,  0,  0,  0,  2,  1,  0],\n",
       "       [ 0,  0,  0,  0,  0,  0, 13,  0,  0,  3,  4,  0],\n",
       "       [ 1,  0,  0,  0,  0,  0,  0,  0,  0,  1,  0,  0],\n",
       "       [ 0,  0,  0,  0,  0,  0,  0,  0,  0,  0,  2,  0],\n",
       "       [ 0,  0,  0,  0,  0,  0,  0,  0,  0, 16,  0,  0],\n",
       "       [ 0,  0,  0,  0,  0,  0,  0,  0,  0,  1,  6,  0],\n",
       "       [ 0,  0,  0,  0,  0,  0,  1,  0,  0,  2,  0,  0]])"
      ]
     },
     "execution_count": 314,
     "metadata": {},
     "output_type": "execute_result"
    }
   ],
   "source": [
    "confusion_matrix(y_train, y_pred)"
   ]
  },
  {
   "cell_type": "markdown",
   "metadata": {},
   "source": [
    "### Random Forest"
   ]
  },
  {
   "cell_type": "code",
   "execution_count": 316,
   "metadata": {},
   "outputs": [],
   "source": [
    "from sklearn.model_selection import train_test_split\n",
    "from sklearn.ensemble import RandomForestClassifier\n",
    "from sklearn.metrics import classification_report\n",
    "from sklearn.metrics import confusion_matrix"
   ]
  },
  {
   "cell_type": "code",
   "execution_count": 353,
   "metadata": {},
   "outputs": [],
   "source": [
    "rf = RandomForestClassifier(bootstrap=True, \n",
    "                            class_weight=None, \n",
    "                            criterion='gini',\n",
    "                            min_samples_leaf=10,\n",
    "                            n_estimators=100,\n",
    "                            max_depth=4, \n",
    "                            random_state=123)"
   ]
  },
  {
   "cell_type": "code",
   "execution_count": 354,
   "metadata": {},
   "outputs": [
    {
     "data": {
      "text/plain": [
       "RandomForestClassifier(bootstrap=True, class_weight=None, criterion='gini',\n",
       "                       max_depth=4, max_features='auto', max_leaf_nodes=None,\n",
       "                       min_impurity_decrease=0.0, min_impurity_split=None,\n",
       "                       min_samples_leaf=10, min_samples_split=2,\n",
       "                       min_weight_fraction_leaf=0.0, n_estimators=100,\n",
       "                       n_jobs=None, oob_score=False, random_state=123,\n",
       "                       verbose=0, warm_start=False)"
      ]
     },
     "execution_count": 354,
     "metadata": {},
     "output_type": "execute_result"
    }
   ],
   "source": [
    "rf.fit(X_train, y_train)"
   ]
  },
  {
   "cell_type": "code",
   "execution_count": 355,
   "metadata": {},
   "outputs": [
    {
     "name": "stdout",
     "output_type": "stream",
     "text": [
      "[0. 0. 0. ... 0. 0. 0.]\n"
     ]
    }
   ],
   "source": [
    "print(rf.feature_importances_)"
   ]
  },
  {
   "cell_type": "code",
   "execution_count": 356,
   "metadata": {},
   "outputs": [],
   "source": [
    "y_pred = rf.predict(X_train)"
   ]
  },
  {
   "cell_type": "code",
   "execution_count": 357,
   "metadata": {},
   "outputs": [],
   "source": [
    "y_pred_proba = rf.predict_proba(X_train)"
   ]
  },
  {
   "cell_type": "code",
   "execution_count": 358,
   "metadata": {},
   "outputs": [
    {
     "name": "stdout",
     "output_type": "stream",
     "text": [
      "Accuracy of random forest classifier on training set: 0.43\n"
     ]
    }
   ],
   "source": [
    "print('Accuracy of random forest classifier on training set: {:.2f}'\n",
    "     .format(rf.score(X_train, y_train)))"
   ]
  },
  {
   "cell_type": "code",
   "execution_count": 359,
   "metadata": {},
   "outputs": [
    {
     "name": "stdout",
     "output_type": "stream",
     "text": [
      "[[ 0  0  0  0  0  0  1  0  0  1  0  0]\n",
      " [ 0  0  0  0  0  0  3  0  0  0  0  0]\n",
      " [ 0  0  0  0  0  0  7  0  0  0  0  0]\n",
      " [ 0  0  0  0  0  0  4  0  0  1  0  0]\n",
      " [ 0  0  0  0  0  0  3  0  0  1  0  0]\n",
      " [ 0  0  0  0  0  0  2  0  0  2  0  0]\n",
      " [ 0  0  0  0  0  0 19  0  0  1  0  0]\n",
      " [ 0  0  0  0  0  0  0  0  0  2  0  0]\n",
      " [ 0  0  0  0  0  0  2  0  0  0  0  0]\n",
      " [ 0  0  0  0  0  0  3  0  0 13  0  0]\n",
      " [ 0  0  0  0  0  0  7  0  0  0  0  0]\n",
      " [ 0  0  0  0  0  0  3  0  0  0  0  0]]\n"
     ]
    }
   ],
   "source": [
    "print(confusion_matrix(y_train, y_pred))"
   ]
  },
  {
   "cell_type": "code",
   "execution_count": 360,
   "metadata": {},
   "outputs": [
    {
     "name": "stdout",
     "output_type": "stream",
     "text": [
      "                  precision    recall  f1-score   support\n",
      "\n",
      "               C       0.00      0.00      0.00         2\n",
      "             C++       0.00      0.00      0.00         3\n",
      "             CSS       0.00      0.00      0.00         7\n",
      "              Go       0.00      0.00      0.00         5\n",
      "            HTML       0.00      0.00      0.00         4\n",
      "            Java       0.00      0.00      0.00         4\n",
      "      JavaScript       0.35      0.95      0.51        20\n",
      "Jupyter Notebook       0.00      0.00      0.00         2\n",
      "             PHP       0.00      0.00      0.00         2\n",
      "          Python       0.62      0.81      0.70        16\n",
      "            Ruby       0.00      0.00      0.00         7\n",
      "      TypeScript       0.00      0.00      0.00         3\n",
      "\n",
      "        accuracy                           0.43        75\n",
      "       macro avg       0.08      0.15      0.10        75\n",
      "    weighted avg       0.23      0.43      0.29        75\n",
      "\n"
     ]
    }
   ],
   "source": [
    "print(classification_report(y_train, y_pred))"
   ]
  },
  {
   "cell_type": "code",
   "execution_count": 361,
   "metadata": {},
   "outputs": [
    {
     "name": "stdout",
     "output_type": "stream",
     "text": [
      "Accuracy of random forest classifier on test set: 0.26\n"
     ]
    }
   ],
   "source": [
    "print('Accuracy of random forest classifier on test set: {:.2f}'\n",
    "     .format(rf.score(X_test, y_test)))"
   ]
  },
  {
   "cell_type": "markdown",
   "metadata": {},
   "source": [
    "### K-Nearest_Neighbor"
   ]
  },
  {
   "cell_type": "code",
   "execution_count": 362,
   "metadata": {},
   "outputs": [],
   "source": [
    "from sklearn.model_selection import train_test_split\n",
    "from sklearn.neighbors import KNeighborsClassifier\n",
    "from sklearn.metrics import classification_report\n",
    "from sklearn.metrics import confusion_matrix"
   ]
  },
  {
   "cell_type": "code",
   "execution_count": 363,
   "metadata": {},
   "outputs": [],
   "source": [
    "knn = KNeighborsClassifier(n_neighbors=5, weights='uniform')"
   ]
  },
  {
   "cell_type": "code",
   "execution_count": 364,
   "metadata": {},
   "outputs": [
    {
     "data": {
      "text/plain": [
       "KNeighborsClassifier(algorithm='auto', leaf_size=30, metric='minkowski',\n",
       "                     metric_params=None, n_jobs=None, n_neighbors=5, p=2,\n",
       "                     weights='uniform')"
      ]
     },
     "execution_count": 364,
     "metadata": {},
     "output_type": "execute_result"
    }
   ],
   "source": [
    "knn.fit(X_train, y_train)"
   ]
  },
  {
   "cell_type": "code",
   "execution_count": 365,
   "metadata": {},
   "outputs": [],
   "source": [
    "y_pred = knn.predict(X_train)"
   ]
  },
  {
   "cell_type": "code",
   "execution_count": 366,
   "metadata": {},
   "outputs": [],
   "source": [
    "y_pred_proba = knn.predict_proba(X_train)"
   ]
  },
  {
   "cell_type": "code",
   "execution_count": 367,
   "metadata": {},
   "outputs": [
    {
     "name": "stdout",
     "output_type": "stream",
     "text": [
      "Accuracy of KNN classifier on training set: 0.56\n"
     ]
    }
   ],
   "source": [
    "print('Accuracy of KNN classifier on training set: {:.2f}'\n",
    "     .format(knn.score(X_train, y_train)))"
   ]
  },
  {
   "cell_type": "code",
   "execution_count": 368,
   "metadata": {},
   "outputs": [
    {
     "name": "stdout",
     "output_type": "stream",
     "text": [
      "[[ 1  0  0  0  0  0  1  0  0  0  0  0]\n",
      " [ 0  0  0  0  0  0  2  0  0  1  0  0]\n",
      " [ 0  0  7  0  0  0  0  0  0  0  0  0]\n",
      " [ 0  0  0  5  0  0  0  0  0  0  0  0]\n",
      " [ 0  0  1  1  0  0  2  0  0  0  0  0]\n",
      " [ 0  0  0  0  0  3  1  0  0  0  0  0]\n",
      " [ 0  0  3  0  0  0 17  0  0  0  0  0]\n",
      " [ 0  0  0  0  0  0  2  0  0  0  0  0]\n",
      " [ 0  0  0  0  1  1  0  0  0  0  0  0]\n",
      " [ 0  1  1  1  1  0  4  0  0  8  0  0]\n",
      " [ 0  0  3  0  1  0  2  0  0  0  1  0]\n",
      " [ 1  0  1  0  0  0  1  0  0  0  0  0]]\n"
     ]
    }
   ],
   "source": [
    "print(confusion_matrix(y_train, y_pred))"
   ]
  },
  {
   "cell_type": "code",
   "execution_count": 369,
   "metadata": {},
   "outputs": [
    {
     "name": "stdout",
     "output_type": "stream",
     "text": [
      "                  precision    recall  f1-score   support\n",
      "\n",
      "               C       0.50      0.50      0.50         2\n",
      "             C++       0.00      0.00      0.00         3\n",
      "             CSS       0.44      1.00      0.61         7\n",
      "              Go       0.71      1.00      0.83         5\n",
      "            HTML       0.00      0.00      0.00         4\n",
      "            Java       0.75      0.75      0.75         4\n",
      "      JavaScript       0.53      0.85      0.65        20\n",
      "Jupyter Notebook       0.00      0.00      0.00         2\n",
      "             PHP       0.00      0.00      0.00         2\n",
      "          Python       0.89      0.50      0.64        16\n",
      "            Ruby       1.00      0.14      0.25         7\n",
      "      TypeScript       0.00      0.00      0.00         3\n",
      "\n",
      "        accuracy                           0.56        75\n",
      "       macro avg       0.40      0.40      0.35        75\n",
      "    weighted avg       0.57      0.56      0.50        75\n",
      "\n"
     ]
    }
   ],
   "source": [
    "print(classification_report(y_train, y_pred))"
   ]
  },
  {
   "cell_type": "code",
   "execution_count": 370,
   "metadata": {},
   "outputs": [
    {
     "name": "stdout",
     "output_type": "stream",
     "text": [
      "Accuracy of KNN classifier on test set: 0.63\n"
     ]
    }
   ],
   "source": [
    "print('Accuracy of KNN classifier on test set: {:.2f}'\n",
    "     .format(knn.score(X_test, y_test)))"
   ]
  },
  {
   "cell_type": "code",
   "execution_count": 371,
   "metadata": {},
   "outputs": [
    {
     "data": {
      "text/plain": [
       "([<matplotlib.axis.XTick at 0x1a22f7c080>,\n",
       "  <matplotlib.axis.XTick at 0x1a232c82b0>,\n",
       "  <matplotlib.axis.XTick at 0x1a232ba5f8>,\n",
       "  <matplotlib.axis.XTick at 0x1a2341ada0>,\n",
       "  <matplotlib.axis.XTick at 0x1a2341b6d8>],\n",
       " <a list of 5 Text xticklabel objects>)"
      ]
     },
     "execution_count": 371,
     "metadata": {},
     "output_type": "execute_result"
    },
    {
     "data": {
      "image/png": "[encoded data removed]",
      "text/plain": [
       "<Figure size 792x576 with 1 Axes>"
      ]
     },
     "metadata": {
      "needs_background": "light"
     },
     "output_type": "display_data"
    }
   ],
   "source": [
    "import matplotlib.pyplot as plt\n",
    "k_range = range(1, 20)\n",
    "scores = []\n",
    "for k in k_range:\n",
    "    knn = KNeighborsClassifier(n_neighbors = k)\n",
    "    knn.fit(X_train, y_train)\n",
    "    scores.append(knn.score(X_test, y_test))\n",
    "plt.figure()\n",
    "plt.xlabel('k')\n",
    "plt.ylabel('accuracy')\n",
    "plt.scatter(k_range, scores)\n",
    "plt.xticks([0,5,10,15,20])"
   ]
  },
  {
   "cell_type": "markdown",
   "metadata": {},
   "source": [
    "### Naive Bayes"
   ]
  },
  {
   "cell_type": "code",
   "execution_count": 379,
   "metadata": {},
   "outputs": [
    {
     "name": "stdout",
     "output_type": "stream",
     "text": [
      "['Python' 'Python' 'Python' 'JavaScript' 'Python' 'JavaScript' 'Python'\n",
      " 'Python' 'JavaScript' 'JavaScript' 'Python' 'JavaScript' 'Python'\n",
      " 'JavaScript' 'Jupyter Notebook' 'Python' 'Python' 'Python' 'Python'\n",
      " 'JavaScript' 'JavaScript' 'Python' 'Ruby' 'Python' 'Python' 'Python'\n",
      " 'Python' 'Python' 'JavaScript' 'Python' 'HTML' 'Python' 'Python' 'Python'\n",
      " 'JavaScript' 'Python' 'Python' 'Python' 'C' 'Python' 'JavaScript'\n",
      " 'Python' 'Python' 'Python' 'Python' 'Python' 'Python' 'Python' 'Python'\n",
      " 'Python' 'JavaScript' 'JavaScript' 'Python' 'Python' 'Python' 'Python'\n",
      " 'Python' 'Python' 'JavaScript' 'Python' 'Python' 'Python' 'Python'\n",
      " 'Python' 'Python' 'Python' 'Python' 'Python' 'Python' 'Python' 'Python'\n",
      " 'Python' 'Python' 'Python' 'Python']\n"
     ]
    }
   ],
   "source": [
    "import numpy as np\n",
    "rng = np.random.RandomState(1)\n",
    "X = X_train\n",
    "y = y_train\n",
    "from sklearn.naive_bayes import BernoulliNB\n",
    "clf = BernoulliNB()\n",
    "clf.fit(X, Y)\n",
    "\n",
    "print(clf.predict(X))"
   ]
  },
  {
   "cell_type": "code",
   "execution_count": 380,
   "metadata": {},
   "outputs": [],
   "source": [
    "y_pred = clf.predict(X)"
   ]
  },
  {
   "cell_type": "code",
   "execution_count": 381,
   "metadata": {},
   "outputs": [],
   "source": [
    "y_pred_proba = clf.predict_proba(X_train)"
   ]
  },
  {
   "cell_type": "code",
   "execution_count": 383,
   "metadata": {},
   "outputs": [
    {
     "name": "stdout",
     "output_type": "stream",
     "text": [
      "Accuracy of Naive Bayes classifier on training set: 0.41\n"
     ]
    }
   ],
   "source": [
    "print('Accuracy of Naive Bayes classifier on training set: {:.2f}'\n",
    "     .format(clf.score(X_train, y_train)))"
   ]
  },
  {
   "cell_type": "code",
   "execution_count": 384,
   "metadata": {},
   "outputs": [
    {
     "name": "stdout",
     "output_type": "stream",
     "text": [
      "                  precision    recall  f1-score   support\n",
      "\n",
      "               C       1.00      0.50      0.67         2\n",
      "             C++       0.00      0.00      0.00         3\n",
      "             CSS       0.00      0.00      0.00         7\n",
      "              Go       0.00      0.00      0.00         5\n",
      "            HTML       1.00      0.25      0.40         4\n",
      "            Java       0.00      0.00      0.00         4\n",
      "      JavaScript       0.86      0.60      0.71        20\n",
      "Jupyter Notebook       0.00      0.00      0.00         2\n",
      "             PHP       0.00      0.00      0.00         2\n",
      "          Python       0.28      1.00      0.44        16\n",
      "            Ruby       1.00      0.14      0.25         7\n",
      "      TypeScript       0.00      0.00      0.00         3\n",
      "\n",
      "        accuracy                           0.41        75\n",
      "       macro avg       0.34      0.21      0.21        75\n",
      "    weighted avg       0.46      0.41      0.34        75\n",
      "\n"
     ]
    }
   ],
   "source": [
    "print(classification_report(y_train, y_pred))"
   ]
  },
  {
   "cell_type": "markdown",
   "metadata": {},
   "source": [
    "### Support Vector Machine (SVM)"
   ]
  },
  {
   "cell_type": "code",
   "execution_count": 386,
   "metadata": {},
   "outputs": [
    {
     "data": {
      "text/plain": [
       "SVC(C=1.0, cache_size=200, class_weight=None, coef0=0.0,\n",
       "    decision_function_shape='ovr', degree=3, gamma='auto', kernel='rbf',\n",
       "    max_iter=-1, probability=False, random_state=None, shrinking=True,\n",
       "    tol=0.001, verbose=False)"
      ]
     },
     "execution_count": 386,
     "metadata": {},
     "output_type": "execute_result"
    }
   ],
   "source": [
    "import numpy as np\n",
    "X = X_train\n",
    "y = y_train\n",
    "from sklearn.svm import SVC\n",
    "clf = SVC(gamma='auto')\n",
    "clf.fit(X, y)\n",
    "\n",
    "# print(clf.predict([[-0.8, -1]]))"
   ]
  },
  {
   "cell_type": "code",
   "execution_count": 387,
   "metadata": {},
   "outputs": [
    {
     "data": {
      "text/plain": [
       "array(['JavaScript', 'JavaScript', 'JavaScript', 'JavaScript',\n",
       "       'JavaScript', 'JavaScript', 'JavaScript', 'JavaScript',\n",
       "       'JavaScript', 'JavaScript', 'JavaScript', 'JavaScript',\n",
       "       'JavaScript', 'JavaScript', 'JavaScript', 'JavaScript',\n",
       "       'JavaScript', 'JavaScript', 'JavaScript', 'JavaScript',\n",
       "       'JavaScript', 'JavaScript', 'JavaScript', 'JavaScript',\n",
       "       'JavaScript', 'JavaScript', 'JavaScript', 'JavaScript',\n",
       "       'JavaScript', 'JavaScript', 'JavaScript', 'JavaScript',\n",
       "       'JavaScript', 'JavaScript', 'JavaScript', 'JavaScript',\n",
       "       'JavaScript', 'JavaScript', 'JavaScript', 'JavaScript',\n",
       "       'JavaScript', 'JavaScript', 'JavaScript', 'JavaScript',\n",
       "       'JavaScript', 'JavaScript', 'JavaScript', 'JavaScript',\n",
       "       'JavaScript', 'JavaScript', 'JavaScript', 'JavaScript',\n",
       "       'JavaScript', 'JavaScript', 'JavaScript', 'JavaScript',\n",
       "       'JavaScript', 'JavaScript', 'JavaScript', 'JavaScript',\n",
       "       'JavaScript', 'JavaScript', 'JavaScript', 'JavaScript',\n",
       "       'JavaScript', 'JavaScript', 'JavaScript', 'JavaScript',\n",
       "       'JavaScript', 'JavaScript', 'JavaScript', 'JavaScript',\n",
       "       'JavaScript', 'JavaScript', 'JavaScript'], dtype=object)"
      ]
     },
     "execution_count": 387,
     "metadata": {},
     "output_type": "execute_result"
    }
   ],
   "source": [
    "clf.predict(X)"
   ]
  },
  {
   "cell_type": "markdown",
   "metadata": {},
   "source": [
    "Skip this for now.  Weird that it predicted all JavaScript"
   ]
  },
  {
   "cell_type": "markdown",
   "metadata": {},
   "source": [
    "### Stochastic Gradient Descent "
   ]
  },
  {
   "cell_type": "code",
   "execution_count": 425,
   "metadata": {},
   "outputs": [
    {
     "data": {
      "text/plain": [
       "SGDClassifier(alpha=0.0001, average=False, class_weight=None,\n",
       "              early_stopping=False, epsilon=0.1, eta0=0.0, fit_intercept=True,\n",
       "              l1_ratio=0.15, learning_rate='optimal', loss='hinge', max_iter=5,\n",
       "              n_iter_no_change=5, n_jobs=None, penalty='l2', power_t=0.5,\n",
       "              random_state=None, shuffle=True, tol=0.001,\n",
       "              validation_fraction=0.1, verbose=0, warm_start=False)"
      ]
     },
     "execution_count": 425,
     "metadata": {},
     "output_type": "execute_result"
    }
   ],
   "source": [
    "from sklearn import linear_model\n",
    "from sklearn.linear_model import SGDClassifier\n",
    "X = X_train\n",
    "y = y_train\n",
    "# clf = linear_model.SGDClassifier(max_iter=, tol=1e-3)\n",
    "clf = SGDClassifier(loss=\"hinge\", penalty=\"l2\", max_iter=5)\n",
    "clf.fit(X, y)"
   ]
  },
  {
   "cell_type": "code",
   "execution_count": 426,
   "metadata": {},
   "outputs": [
    {
     "data": {
      "text/plain": [
       "array(['Python', 'Go', 'C++', 'JavaScript', 'Jupyter Notebook',\n",
       "       'JavaScript', 'C', 'Java', 'JavaScript', 'JavaScript', 'Ruby',\n",
       "       'CSS', 'PHP', 'TypeScript', 'JavaScript', 'Python', 'Python',\n",
       "       'Java', 'Python', 'JavaScript', 'JavaScript', 'Jupyter Notebook',\n",
       "       'Ruby', 'CSS', 'Python', 'JavaScript', 'JavaScript', 'JavaScript',\n",
       "       'JavaScript', 'Python', 'HTML', 'CSS', 'Ruby', 'TypeScript',\n",
       "       'JavaScript', 'PHP', 'Python', 'Python', 'C', 'Java', 'JavaScript',\n",
       "       'Python', 'Java', 'CSS', 'JavaScript', 'Python', 'Python',\n",
       "       'Python', 'Go', 'C++', 'JavaScript', 'JavaScript', 'CSS', 'C++',\n",
       "       'Ruby', 'TypeScript', 'Go', 'CSS', 'JavaScript', 'HTML', 'Go',\n",
       "       'JavaScript', 'HTML', 'Go', 'HTML', 'Ruby', 'CSS', 'JavaScript',\n",
       "       'Python', 'Ruby', 'Python', 'Python', 'Ruby', 'Python',\n",
       "       'JavaScript'], dtype='<U16')"
      ]
     },
     "execution_count": 426,
     "metadata": {},
     "output_type": "execute_result"
    }
   ],
   "source": [
    "clf.predict(X)"
   ]
  },
  {
   "cell_type": "code",
   "execution_count": 427,
   "metadata": {},
   "outputs": [
    {
     "name": "stdout",
     "output_type": "stream",
     "text": [
      "Accuracy of Naive Bayes classifier on training set: 1.00\n"
     ]
    }
   ],
   "source": [
    "print('Accuracy of Naive Bayes classifier on training set: {:.2f}'\n",
    "     .format(clf.score(X_train, y_train)))"
   ]
  },
  {
   "cell_type": "code",
   "execution_count": 428,
   "metadata": {
    "scrolled": true
   },
   "outputs": [
    {
     "name": "stdout",
     "output_type": "stream",
     "text": [
      "                  precision    recall  f1-score   support\n",
      "\n",
      "               C       1.00      0.50      0.67         2\n",
      "             C++       0.00      0.00      0.00         3\n",
      "             CSS       0.00      0.00      0.00         7\n",
      "              Go       0.00      0.00      0.00         5\n",
      "            HTML       1.00      0.25      0.40         4\n",
      "            Java       0.00      0.00      0.00         4\n",
      "      JavaScript       0.86      0.60      0.71        20\n",
      "Jupyter Notebook       0.00      0.00      0.00         2\n",
      "             PHP       0.00      0.00      0.00         2\n",
      "          Python       0.28      1.00      0.44        16\n",
      "            Ruby       1.00      0.14      0.25         7\n",
      "      TypeScript       0.00      0.00      0.00         3\n",
      "\n",
      "        accuracy                           0.41        75\n",
      "       macro avg       0.34      0.21      0.21        75\n",
      "    weighted avg       0.46      0.41      0.34        75\n",
      "\n"
     ]
    }
   ],
   "source": [
    "print(classification_report(y_train, y_pred))"
   ]
  },
  {
   "cell_type": "code",
   "execution_count": 429,
   "metadata": {},
   "outputs": [
    {
     "name": "stdout",
     "output_type": "stream",
     "text": [
      "Accuracy of Stochastic Gradient Decent classifier on test set: 0.32\n"
     ]
    }
   ],
   "source": [
    "print('Accuracy of Stochastic Gradient Decent classifier on test set: {:.2f}'\n",
    "     .format(knn.score(X_test, y_test)))"
   ]
  },
  {
   "cell_type": "markdown",
   "metadata": {},
   "source": [
    "### AdaBoost"
   ]
  },
  {
   "cell_type": "code",
   "execution_count": null,
   "metadata": {},
   "outputs": [],
   "source": []
  },
  {
   "cell_type": "code",
   "execution_count": null,
   "metadata": {},
   "outputs": [],
   "source": []
  },
  {
   "cell_type": "markdown",
   "metadata": {},
   "source": [
    "### Bagging"
   ]
  },
  {
   "cell_type": "code",
   "execution_count": null,
   "metadata": {},
   "outputs": [],
   "source": []
  },
  {
   "cell_type": "code",
   "execution_count": null,
   "metadata": {},
   "outputs": [],
   "source": []
  },
  {
   "cell_type": "markdown",
   "metadata": {},
   "source": [
    "### Gradient Boosting"
   ]
  },
  {
   "cell_type": "code",
   "execution_count": null,
   "metadata": {},
   "outputs": [],
   "source": []
  },
  {
   "cell_type": "code",
   "execution_count": null,
   "metadata": {},
   "outputs": [],
   "source": []
  },
  {
   "cell_type": "code",
   "execution_count": null,
   "metadata": {},
   "outputs": [],
   "source": []
  }
 ],
 "metadata": {
  "kernelspec": {
   "display_name": "Python 3",
   "language": "python",
   "name": "python3"
  },
  "language_info": {
   "codemirror_mode": {
    "name": "ipython",
    "version": 3
   },
   "file_extension": ".py",
   "mimetype": "text/x-python",
   "name": "python",
   "nbconvert_exporter": "python",
   "pygments_lexer": "ipython3",
   "version": "3.7.3"
  }
 },
 "nbformat": 4,
 "nbformat_minor": 2
}
